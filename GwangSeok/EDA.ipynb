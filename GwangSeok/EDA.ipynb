{
 "cells": [
  {
   "cell_type": "code",
   "execution_count": 1,
   "metadata": {},
   "outputs": [],
   "source": [
    "import pandas as pd\n",
    "import numpy as np\n",
    "import os\n",
    "\n",
    "import matplotlib.pyplot as plt\n",
    "import seaborn as sns\n",
    "\n",
    "from functools import reduce"
   ]
  },
  {
   "cell_type": "markdown",
   "metadata": {},
   "source": [
    "# 1. Data Load"
   ]
  },
  {
   "cell_type": "code",
   "execution_count": 2,
   "metadata": {},
   "outputs": [],
   "source": [
    "train_data_dir = '/opt/ml/input/data/train'"
   ]
  },
  {
   "cell_type": "markdown",
   "metadata": {},
   "source": [
    "# 2. EDA: train_rating.csv\n",
    "\n",
    "- \\# of unique users: 31360\n",
    "- \\# of unique items: 6807\n",
    "- 결측치(null값)은 없다.\n",
    "- Sparsity ratio: 0.976\n",
    "    - 일반적인 추천 시스템 데이터셋에 비해 굉장히 dense한 (행렬 상 이력의 많은 부분이 채워져 있는) 데이터임을 알 수 있다.\n",
    "- 가장 적게 평점을 매긴 user: 53188 (16)"
   ]
  },
  {
   "cell_type": "code",
   "execution_count": 3,
   "metadata": {},
   "outputs": [
    {
     "data": {
      "text/html": [
       "<div>\n",
       "<style scoped>\n",
       "    .dataframe tbody tr th:only-of-type {\n",
       "        vertical-align: middle;\n",
       "    }\n",
       "\n",
       "    .dataframe tbody tr th {\n",
       "        vertical-align: top;\n",
       "    }\n",
       "\n",
       "    .dataframe thead th {\n",
       "        text-align: right;\n",
       "    }\n",
       "</style>\n",
       "<table border=\"1\" class=\"dataframe\">\n",
       "  <thead>\n",
       "    <tr style=\"text-align: right;\">\n",
       "      <th></th>\n",
       "      <th>user</th>\n",
       "      <th>item</th>\n",
       "      <th>time</th>\n",
       "    </tr>\n",
       "  </thead>\n",
       "  <tbody>\n",
       "    <tr>\n",
       "      <th>2063568</th>\n",
       "      <td>54612</td>\n",
       "      <td>51540</td>\n",
       "      <td>1341592177</td>\n",
       "    </tr>\n",
       "    <tr>\n",
       "      <th>32241</th>\n",
       "      <td>847</td>\n",
       "      <td>3342</td>\n",
       "      <td>1116286582</td>\n",
       "    </tr>\n",
       "    <tr>\n",
       "      <th>406064</th>\n",
       "      <td>10876</td>\n",
       "      <td>103042</td>\n",
       "      <td>1376580771</td>\n",
       "    </tr>\n",
       "    <tr>\n",
       "      <th>2927262</th>\n",
       "      <td>78173</td>\n",
       "      <td>608</td>\n",
       "      <td>1147064113</td>\n",
       "    </tr>\n",
       "    <tr>\n",
       "      <th>259774</th>\n",
       "      <td>6776</td>\n",
       "      <td>7090</td>\n",
       "      <td>1332451087</td>\n",
       "    </tr>\n",
       "    <tr>\n",
       "      <th>4610497</th>\n",
       "      <td>123392</td>\n",
       "      <td>7502</td>\n",
       "      <td>1302765107</td>\n",
       "    </tr>\n",
       "    <tr>\n",
       "      <th>3622614</th>\n",
       "      <td>96647</td>\n",
       "      <td>1333</td>\n",
       "      <td>1233501121</td>\n",
       "    </tr>\n",
       "    <tr>\n",
       "      <th>914799</th>\n",
       "      <td>24183</td>\n",
       "      <td>4270</td>\n",
       "      <td>1296614204</td>\n",
       "    </tr>\n",
       "    <tr>\n",
       "      <th>4720470</th>\n",
       "      <td>126569</td>\n",
       "      <td>150</td>\n",
       "      <td>1264277060</td>\n",
       "    </tr>\n",
       "    <tr>\n",
       "      <th>11352</th>\n",
       "      <td>367</td>\n",
       "      <td>4226</td>\n",
       "      <td>1145050067</td>\n",
       "    </tr>\n",
       "  </tbody>\n",
       "</table>\n",
       "</div>"
      ],
      "text/plain": [
       "           user    item        time\n",
       "2063568   54612   51540  1341592177\n",
       "32241       847    3342  1116286582\n",
       "406064    10876  103042  1376580771\n",
       "2927262   78173     608  1147064113\n",
       "259774     6776    7090  1332451087\n",
       "4610497  123392    7502  1302765107\n",
       "3622614   96647    1333  1233501121\n",
       "914799    24183    4270  1296614204\n",
       "4720470  126569     150  1264277060\n",
       "11352       367    4226  1145050067"
      ]
     },
     "execution_count": 3,
     "metadata": {},
     "output_type": "execute_result"
    }
   ],
   "source": [
    "ratings_df = pd.read_csv(os.path.join(train_data_dir, 'train_ratings.csv'))\n",
    "\n",
    "ratings_df.sample(10)"
   ]
  },
  {
   "cell_type": "code",
   "execution_count": 42,
   "metadata": {},
   "outputs": [
    {
     "name": "stdout",
     "output_type": "stream",
     "text": [
      "Number of unique train users:  31360\n",
      "Number of unique train items:  6807\n",
      "\n",
      "Missing vluae: \n",
      "user    0\n",
      "item    0\n",
      "time    0\n",
      "dtype: int64\n",
      "\n",
      "Data sparsity ratio:  0.9758536052697853\n",
      "user\n",
      "8405      2912\n",
      "54465     1980\n",
      "24219     1842\n",
      "32514     1830\n",
      "91349     1795\n",
      "          ... \n",
      "11211       32\n",
      "128756      28\n",
      "105578      22\n",
      "68606       19\n",
      "53188       16\n",
      "Length: 31360, dtype: int64\n"
     ]
    }
   ],
   "source": [
    "num_train_users = ratings_df['user'].nunique()\n",
    "num_train_items = ratings_df['item'].nunique()\n",
    "\n",
    "print(\"Number of unique train users: \", num_train_users)\n",
    "print(\"Number of unique train items: \", num_train_items)\n",
    "print(f\"\\nMissing vluae: \\n{ratings_df.isnull().sum()}\")\n",
    "print(\"\\nData sparsity ratio: \", 1 - len(ratings_df) / (num_train_users * num_train_items))\n",
    "print(ratings_df.value_counts(subset='user', sort=True))\n"
   ]
  },
  {
   "cell_type": "markdown",
   "metadata": {},
   "source": [
    "# 3. EDA: side information"
   ]
  },
  {
   "cell_type": "code",
   "execution_count": 5,
   "metadata": {},
   "outputs": [],
   "source": [
    "def basic_df_info(df, col_name):\n",
    "    print(f\"Number of unique items in {col_name}: \", df['item'].nunique())\n",
    "    print(f\"Number of unique {col_name}: \", df[col_name].nunique())\n",
    "    print(f\"\\nMissing vluae: \\n{df.isnull().sum()}\\n\")\n",
    "    print (f\"Statistics of {col_name} data: \\n{df[col_name].describe()}\\n\")"
   ]
  },
  {
   "cell_type": "code",
   "execution_count": 6,
   "metadata": {},
   "outputs": [],
   "source": [
    "def plot_count(df, col_name, title):\n",
    "    fig, axes = plt.subplots(1, 1, figsize=(20, 10))\n",
    "\n",
    "    sns.countplot(\n",
    "        x=col_name, data=df,\n",
    "        order=np.sort(df[col_name].unique()),\n",
    "        ax=axes\n",
    "    )\n",
    "\n",
    "    axes.set_title(\n",
    "        label=title, \n",
    "        fontdict={\n",
    "            'fontsize': 45,\n",
    "            }\n",
    "        )\n",
    "    axes.set_xticklabels(labels=axes.get_xticklabels(), rotation=70)"
   ]
  },
  {
   "cell_type": "code",
   "execution_count": 34,
   "metadata": {},
   "outputs": [],
   "source": [
    "def top_n(n, df, col_name, title):\n",
    "    most = df.value_counts(subset=col_name, sort=True)[:n]\n",
    "    print(title+\" (내림차순): \\n\", most,\"\\n\")\n",
    "\n",
    "def min_n(n, df, col_name, title):\n",
    "    least = df.value_counts(subset=col_name, sort=True)[-n:]\n",
    "    print(title+\" (내림차순): \\n\", least)"
   ]
  },
  {
   "cell_type": "markdown",
   "metadata": {},
   "source": [
    "## 3.1. years\n",
    "\n",
    "- \\# of unique years: 93\n",
    "- \\# of item have years: 6799\n",
    "    - 8개의 item이 years에 대한 정보를 가지고 있지 않다.\n",
    "    - 3310, 6987, 6988, 7065, 7243, 8511, 32898, 119145\n",
    "- 결측값(null)은 없다."
   ]
  },
  {
   "cell_type": "code",
   "execution_count": 8,
   "metadata": {},
   "outputs": [
    {
     "data": {
      "text/html": [
       "<div>\n",
       "<style scoped>\n",
       "    .dataframe tbody tr th:only-of-type {\n",
       "        vertical-align: middle;\n",
       "    }\n",
       "\n",
       "    .dataframe tbody tr th {\n",
       "        vertical-align: top;\n",
       "    }\n",
       "\n",
       "    .dataframe thead th {\n",
       "        text-align: right;\n",
       "    }\n",
       "</style>\n",
       "<table border=\"1\" class=\"dataframe\">\n",
       "  <thead>\n",
       "    <tr style=\"text-align: right;\">\n",
       "      <th></th>\n",
       "      <th>item</th>\n",
       "      <th>year</th>\n",
       "    </tr>\n",
       "  </thead>\n",
       "  <tbody>\n",
       "    <tr>\n",
       "      <th>2358</th>\n",
       "      <td>3260</td>\n",
       "      <td>1992</td>\n",
       "    </tr>\n",
       "    <tr>\n",
       "      <th>4700</th>\n",
       "      <td>8643</td>\n",
       "      <td>2004</td>\n",
       "    </tr>\n",
       "    <tr>\n",
       "      <th>2167</th>\n",
       "      <td>26704</td>\n",
       "      <td>1990</td>\n",
       "    </tr>\n",
       "    <tr>\n",
       "      <th>6052</th>\n",
       "      <td>74458</td>\n",
       "      <td>2010</td>\n",
       "    </tr>\n",
       "    <tr>\n",
       "      <th>3837</th>\n",
       "      <td>5026</td>\n",
       "      <td>2001</td>\n",
       "    </tr>\n",
       "    <tr>\n",
       "      <th>5412</th>\n",
       "      <td>57637</td>\n",
       "      <td>2007</td>\n",
       "    </tr>\n",
       "    <tr>\n",
       "      <th>2851</th>\n",
       "      <td>57</td>\n",
       "      <td>1995</td>\n",
       "    </tr>\n",
       "    <tr>\n",
       "      <th>5650</th>\n",
       "      <td>61406</td>\n",
       "      <td>2008</td>\n",
       "    </tr>\n",
       "    <tr>\n",
       "      <th>6669</th>\n",
       "      <td>101285</td>\n",
       "      <td>2013</td>\n",
       "    </tr>\n",
       "    <tr>\n",
       "      <th>1440</th>\n",
       "      <td>5763</td>\n",
       "      <td>1981</td>\n",
       "    </tr>\n",
       "  </tbody>\n",
       "</table>\n",
       "</div>"
      ],
      "text/plain": [
       "        item  year\n",
       "2358    3260  1992\n",
       "4700    8643  2004\n",
       "2167   26704  1990\n",
       "6052   74458  2010\n",
       "3837    5026  2001\n",
       "5412   57637  2007\n",
       "2851      57  1995\n",
       "5650   61406  2008\n",
       "6669  101285  2013\n",
       "1440    5763  1981"
      ]
     },
     "execution_count": 8,
     "metadata": {},
     "output_type": "execute_result"
    }
   ],
   "source": [
    "years_df = pd.read_csv(os.path.join(train_data_dir, 'years.tsv'), sep='\\t')\n",
    "\n",
    "years_df.sample(10)"
   ]
  },
  {
   "cell_type": "code",
   "execution_count": 9,
   "metadata": {},
   "outputs": [
    {
     "name": "stdout",
     "output_type": "stream",
     "text": [
      "Number of unique items in year:  6799\n",
      "Number of unique year:  93\n",
      "\n",
      "Missing vluae: \n",
      "item    0\n",
      "year    0\n",
      "dtype: int64\n",
      "\n",
      "Statistics of year data: \n",
      "count    6799.000000\n",
      "mean     1992.174732\n",
      "std        19.052568\n",
      "min      1922.000000\n",
      "25%      1985.000000\n",
      "50%      1999.000000\n",
      "75%      2006.000000\n",
      "max      2014.000000\n",
      "Name: year, dtype: float64\n",
      "\n",
      "Items that don't have years: [  3310   6987   6988   7065   7243   8511  32898 119145]\n",
      "# of them: 8\n"
     ]
    }
   ],
   "source": [
    "basic_df_info(years_df, 'year')\n",
    "\n",
    "non_year_item = ratings_df[~ratings_df['item'].isin(years_df['item'])]['item'].unique()\n",
    "print(f\"Items that don't have years: {np.sort(non_year_item)}\")\n",
    "print(f\"# of them: {len(non_year_item)}\")"
   ]
  },
  {
   "cell_type": "code",
   "execution_count": 35,
   "metadata": {},
   "outputs": [
    {
     "name": "stdout",
     "output_type": "stream",
     "text": [
      "영화를 가장 많이 개봉한 년도 (내림차순): \n",
      " year\n",
      "2006    284\n",
      "2007    271\n",
      "2004    262\n",
      "2005    260\n",
      "2008    256\n",
      "dtype: int64 \n",
      "\n",
      "영화를 가장 적게 개봉한 년도 (내림차순): \n",
      " year\n",
      "1924    5\n",
      "1930    4\n",
      "1922    3\n",
      "1923    2\n",
      "1926    2\n",
      "dtype: int64\n"
     ]
    },
    {
     "data": {
      "image/png": "[encoded data removed]",
      "text/plain": [
       "<Figure size 1440x720 with 1 Axes>"
      ]
     },
     "metadata": {
      "needs_background": "light"
     },
     "output_type": "display_data"
    }
   ],
   "source": [
    "top_n(n=5, df=years_df, col_name='year', title='영화를 가장 많이 개봉한 년도')\n",
    "min_n(n=5, df=years_df, col_name='year', title='영화를 가장 적게 개봉한 년도')\n",
    "plot_count(df=years_df, col_name='year', title='Number of released movie')"
   ]
  },
  {
   "cell_type": "markdown",
   "metadata": {},
   "source": [
    "## 3.2  Directors\n",
    "\n",
    "- \\# of unique directors: 1340\n",
    "    - 한 영화에 여러명의 감독이 참가한다.\n",
    "- \\# of item have director: 5503\n",
    "    - 1277개의 item이 director에 대한 정보를 가지고 있지 않다.\n",
    "- 결측값(null)은 없다."
   ]
  },
  {
   "cell_type": "code",
   "execution_count": 11,
   "metadata": {},
   "outputs": [
    {
     "data": {
      "text/html": [
       "<div>\n",
       "<style scoped>\n",
       "    .dataframe tbody tr th:only-of-type {\n",
       "        vertical-align: middle;\n",
       "    }\n",
       "\n",
       "    .dataframe tbody tr th {\n",
       "        vertical-align: top;\n",
       "    }\n",
       "\n",
       "    .dataframe thead th {\n",
       "        text-align: right;\n",
       "    }\n",
       "</style>\n",
       "<table border=\"1\" class=\"dataframe\">\n",
       "  <thead>\n",
       "    <tr style=\"text-align: right;\">\n",
       "      <th></th>\n",
       "      <th>item</th>\n",
       "      <th>director</th>\n",
       "    </tr>\n",
       "  </thead>\n",
       "  <tbody>\n",
       "    <tr>\n",
       "      <th>1388</th>\n",
       "      <td>2001</td>\n",
       "      <td>nm0001149</td>\n",
       "    </tr>\n",
       "    <tr>\n",
       "      <th>2654</th>\n",
       "      <td>79057</td>\n",
       "      <td>nm0030735</td>\n",
       "    </tr>\n",
       "    <tr>\n",
       "      <th>536</th>\n",
       "      <td>36850</td>\n",
       "      <td>nm0000329</td>\n",
       "    </tr>\n",
       "    <tr>\n",
       "      <th>4315</th>\n",
       "      <td>27317</td>\n",
       "      <td>nm0586281</td>\n",
       "    </tr>\n",
       "    <tr>\n",
       "      <th>3088</th>\n",
       "      <td>58425</td>\n",
       "      <td>nm0213450</td>\n",
       "    </tr>\n",
       "    <tr>\n",
       "      <th>1327</th>\n",
       "      <td>5893</td>\n",
       "      <td>nm0001093</td>\n",
       "    </tr>\n",
       "    <tr>\n",
       "      <th>1478</th>\n",
       "      <td>27664</td>\n",
       "      <td>nm0001252</td>\n",
       "    </tr>\n",
       "    <tr>\n",
       "      <th>1889</th>\n",
       "      <td>3016</td>\n",
       "      <td>nm0001681</td>\n",
       "    </tr>\n",
       "    <tr>\n",
       "      <th>3667</th>\n",
       "      <td>272</td>\n",
       "      <td>nm0405336</td>\n",
       "    </tr>\n",
       "    <tr>\n",
       "      <th>2880</th>\n",
       "      <td>62081</td>\n",
       "      <td>nm0142286</td>\n",
       "    </tr>\n",
       "  </tbody>\n",
       "</table>\n",
       "</div>"
      ],
      "text/plain": [
       "       item   director\n",
       "1388   2001  nm0001149\n",
       "2654  79057  nm0030735\n",
       "536   36850  nm0000329\n",
       "4315  27317  nm0586281\n",
       "3088  58425  nm0213450\n",
       "1327   5893  nm0001093\n",
       "1478  27664  nm0001252\n",
       "1889   3016  nm0001681\n",
       "3667    272  nm0405336\n",
       "2880  62081  nm0142286"
      ]
     },
     "execution_count": 11,
     "metadata": {},
     "output_type": "execute_result"
    }
   ],
   "source": [
    "directors_df = pd.read_csv(os.path.join(train_data_dir, 'directors.tsv'), sep='\\t')\n",
    "\n",
    "directors_df.sample(10)"
   ]
  },
  {
   "cell_type": "code",
   "execution_count": 36,
   "metadata": {},
   "outputs": [
    {
     "name": "stdout",
     "output_type": "stream",
     "text": [
      "Number of unique items in director:  5503\n",
      "Number of unique director:  1340\n",
      "\n",
      "Missing vluae: \n",
      "item        0\n",
      "director    0\n",
      "dtype: int64\n",
      "\n",
      "Statistics of director data: \n",
      "count          5905\n",
      "unique         1340\n",
      "top       nm0000095\n",
      "freq             44\n",
      "Name: director, dtype: object\n",
      "\n",
      "영화를 가장 많이 제작한 감독 (내림차순): \n",
      " director\n",
      "nm0000095    44\n",
      "nm0000033    33\n",
      "nm0000142    31\n",
      "nm0000229    29\n",
      "nm0000217    26\n",
      "dtype: int64 \n",
      "\n",
      "영화를 가장 적게 제작한 감독 (내림차순): \n",
      " director\n",
      "nm0404606    2\n",
      "nm0405605    2\n",
      "nm0410139    2\n",
      "nm0410769    2\n",
      "nm9054338    2\n",
      "dtype: int64\n"
     ]
    }
   ],
   "source": [
    "basic_df_info(directors_df, 'director')\n",
    "top_n(n=5, df=directors_df, col_name='director', title='영화를 가장 많이 제작한 감독')\n",
    "min_n(n=5, df=directors_df, col_name='director', title='영화를 가장 적게 제작한 감독')"
   ]
  },
  {
   "cell_type": "markdown",
   "metadata": {},
   "source": [
    "## 3.3  Genres\n",
    "\n",
    "- \\# of unique genres: 18\n",
    "- \\# of item have genre: 6807\n",
    "    - 모든 item이 genre 정보를 가지고 있다.\n",
    "- 결측값(null)은 없다."
   ]
  },
  {
   "cell_type": "code",
   "execution_count": 13,
   "metadata": {},
   "outputs": [
    {
     "data": {
      "text/html": [
       "<div>\n",
       "<style scoped>\n",
       "    .dataframe tbody tr th:only-of-type {\n",
       "        vertical-align: middle;\n",
       "    }\n",
       "\n",
       "    .dataframe tbody tr th {\n",
       "        vertical-align: top;\n",
       "    }\n",
       "\n",
       "    .dataframe thead th {\n",
       "        text-align: right;\n",
       "    }\n",
       "</style>\n",
       "<table border=\"1\" class=\"dataframe\">\n",
       "  <thead>\n",
       "    <tr style=\"text-align: right;\">\n",
       "      <th></th>\n",
       "      <th>item</th>\n",
       "      <th>genre</th>\n",
       "    </tr>\n",
       "  </thead>\n",
       "  <tbody>\n",
       "    <tr>\n",
       "      <th>1683</th>\n",
       "      <td>81847</td>\n",
       "      <td>Comedy</td>\n",
       "    </tr>\n",
       "    <tr>\n",
       "      <th>4091</th>\n",
       "      <td>4333</td>\n",
       "      <td>Crime</td>\n",
       "    </tr>\n",
       "    <tr>\n",
       "      <th>9128</th>\n",
       "      <td>2338</td>\n",
       "      <td>Horror</td>\n",
       "    </tr>\n",
       "    <tr>\n",
       "      <th>8063</th>\n",
       "      <td>158</td>\n",
       "      <td>Children</td>\n",
       "    </tr>\n",
       "    <tr>\n",
       "      <th>3663</th>\n",
       "      <td>2952</td>\n",
       "      <td>Drama</td>\n",
       "    </tr>\n",
       "    <tr>\n",
       "      <th>15684</th>\n",
       "      <td>95105</td>\n",
       "      <td>Adventure</td>\n",
       "    </tr>\n",
       "    <tr>\n",
       "      <th>11327</th>\n",
       "      <td>7004</td>\n",
       "      <td>Comedy</td>\n",
       "    </tr>\n",
       "    <tr>\n",
       "      <th>1065</th>\n",
       "      <td>2529</td>\n",
       "      <td>Action</td>\n",
       "    </tr>\n",
       "    <tr>\n",
       "      <th>1374</th>\n",
       "      <td>596</td>\n",
       "      <td>Children</td>\n",
       "    </tr>\n",
       "    <tr>\n",
       "      <th>5413</th>\n",
       "      <td>3729</td>\n",
       "      <td>Action</td>\n",
       "    </tr>\n",
       "  </tbody>\n",
       "</table>\n",
       "</div>"
      ],
      "text/plain": [
       "        item      genre\n",
       "1683   81847     Comedy\n",
       "4091    4333      Crime\n",
       "9128    2338     Horror\n",
       "8063     158   Children\n",
       "3663    2952      Drama\n",
       "15684  95105  Adventure\n",
       "11327   7004     Comedy\n",
       "1065    2529     Action\n",
       "1374     596   Children\n",
       "5413    3729     Action"
      ]
     },
     "execution_count": 13,
     "metadata": {},
     "output_type": "execute_result"
    }
   ],
   "source": [
    "genres_df = pd.read_csv(os.path.join(train_data_dir, 'genres.tsv'), sep='\\t')\n",
    "\n",
    "genres_df.sample(10)"
   ]
  },
  {
   "cell_type": "code",
   "execution_count": 14,
   "metadata": {},
   "outputs": [
    {
     "name": "stdout",
     "output_type": "stream",
     "text": [
      "Number of unique items in genre:  6807\n",
      "Number of unique genre:  18\n",
      "\n",
      "Missing vluae: \n",
      "item     0\n",
      "genre    0\n",
      "dtype: int64\n",
      "\n",
      "Statistics of genre data: \n",
      "count     15933\n",
      "unique       18\n",
      "top       Drama\n",
      "freq       3490\n",
      "Name: genre, dtype: object\n",
      "\n"
     ]
    }
   ],
   "source": [
    "basic_df_info(genres_df, 'genre')"
   ]
  },
  {
   "cell_type": "code",
   "execution_count": 15,
   "metadata": {},
   "outputs": [],
   "source": [
    "# genres_df.iloc[np.where(genres_df.value_counts(subset='item') > 1)]"
   ]
  },
  {
   "cell_type": "code",
   "execution_count": 39,
   "metadata": {},
   "outputs": [
    {
     "name": "stdout",
     "output_type": "stream",
     "text": [
      "가장 많은 영화 장르 (내림차순): \n",
      " genre\n",
      "Drama       3490\n",
      "Comedy      2408\n",
      "Thriller    1466\n",
      "Romance     1251\n",
      "Action      1246\n",
      "dtype: int64 \n",
      "\n",
      "가장 적은 영화 장르 (내림차순): \n",
      " genre\n",
      "War            346\n",
      "Documentary    323\n",
      "Musical        282\n",
      "Western        139\n",
      "Film-Noir       97\n",
      "dtype: int64\n"
     ]
    },
    {
     "data": {
      "image/png": "[encoded data removed]",
      "text/plain": [
       "<Figure size 1440x720 with 1 Axes>"
      ]
     },
     "metadata": {
      "needs_background": "light"
     },
     "output_type": "display_data"
    }
   ],
   "source": [
    "top_n(n=5, df=genres_df, col_name='genre', title='가장 많은 영화 장르')\n",
    "min_n(n=5, df=genres_df, col_name='genre', title='가장 적은 영화 장르')\n",
    "plot_count(df=genres_df, col_name='genre', title='Number of movie genres')"
   ]
  },
  {
   "cell_type": "markdown",
   "metadata": {},
   "source": [
    "## 3.4  Writers\n",
    "\n",
    "- \\# of unique writers: 2989\n",
    "    - 한 영화에 여러명의 작가가 참가한다.\n",
    "- \\# of item have writers: 5648\n",
    "    - 1159개의 item이 writer에 대한 정보를 가지고 있지 않다.\n",
    "- 결측값(null)은 없다."
   ]
  },
  {
   "cell_type": "code",
   "execution_count": 17,
   "metadata": {},
   "outputs": [
    {
     "data": {
      "text/html": [
       "<div>\n",
       "<style scoped>\n",
       "    .dataframe tbody tr th:only-of-type {\n",
       "        vertical-align: middle;\n",
       "    }\n",
       "\n",
       "    .dataframe tbody tr th {\n",
       "        vertical-align: top;\n",
       "    }\n",
       "\n",
       "    .dataframe thead th {\n",
       "        text-align: right;\n",
       "    }\n",
       "</style>\n",
       "<table border=\"1\" class=\"dataframe\">\n",
       "  <thead>\n",
       "    <tr style=\"text-align: right;\">\n",
       "      <th></th>\n",
       "      <th>item</th>\n",
       "      <th>writer</th>\n",
       "    </tr>\n",
       "  </thead>\n",
       "  <tbody>\n",
       "    <tr>\n",
       "      <th>7327</th>\n",
       "      <td>85316</td>\n",
       "      <td>nm0590316</td>\n",
       "    </tr>\n",
       "    <tr>\n",
       "      <th>3408</th>\n",
       "      <td>81018</td>\n",
       "      <td>nm0158984</td>\n",
       "    </tr>\n",
       "    <tr>\n",
       "      <th>4739</th>\n",
       "      <td>3988</td>\n",
       "      <td>nm0317450</td>\n",
       "    </tr>\n",
       "    <tr>\n",
       "      <th>6433</th>\n",
       "      <td>6516</td>\n",
       "      <td>nm0491306</td>\n",
       "    </tr>\n",
       "    <tr>\n",
       "      <th>10961</th>\n",
       "      <td>45668</td>\n",
       "      <td>nm1430632</td>\n",
       "    </tr>\n",
       "    <tr>\n",
       "      <th>8372</th>\n",
       "      <td>4386</td>\n",
       "      <td>nm0720135</td>\n",
       "    </tr>\n",
       "    <tr>\n",
       "      <th>3187</th>\n",
       "      <td>95105</td>\n",
       "      <td>nm0123666</td>\n",
       "    </tr>\n",
       "    <tr>\n",
       "      <th>5875</th>\n",
       "      <td>3179</td>\n",
       "      <td>nm0428630</td>\n",
       "    </tr>\n",
       "    <tr>\n",
       "      <th>7438</th>\n",
       "      <td>56744</td>\n",
       "      <td>nm0604948</td>\n",
       "    </tr>\n",
       "    <tr>\n",
       "      <th>7229</th>\n",
       "      <td>941</td>\n",
       "      <td>nm0580648</td>\n",
       "    </tr>\n",
       "  </tbody>\n",
       "</table>\n",
       "</div>"
      ],
      "text/plain": [
       "        item     writer\n",
       "7327   85316  nm0590316\n",
       "3408   81018  nm0158984\n",
       "4739    3988  nm0317450\n",
       "6433    6516  nm0491306\n",
       "10961  45668  nm1430632\n",
       "8372    4386  nm0720135\n",
       "3187   95105  nm0123666\n",
       "5875    3179  nm0428630\n",
       "7438   56744  nm0604948\n",
       "7229     941  nm0580648"
      ]
     },
     "execution_count": 17,
     "metadata": {},
     "output_type": "execute_result"
    }
   ],
   "source": [
    "writers_df = pd.read_csv(os.path.join(train_data_dir, 'writers.tsv'), sep='\\t')\n",
    "\n",
    "writers_df.sample(10)"
   ]
  },
  {
   "cell_type": "code",
   "execution_count": 18,
   "metadata": {},
   "outputs": [
    {
     "name": "stdout",
     "output_type": "stream",
     "text": [
      "Number of unique items in writer:  5648\n",
      "Number of unique writer:  2989\n",
      "\n",
      "Missing vluae: \n",
      "item      0\n",
      "writer    0\n",
      "dtype: int64\n",
      "\n",
      "Statistics of writer data: \n",
      "count         11306\n",
      "unique         2989\n",
      "top       nm0000095\n",
      "freq             47\n",
      "Name: writer, dtype: object\n",
      "\n"
     ]
    }
   ],
   "source": [
    "basic_df_info(df=writers_df, col_name='writer')"
   ]
  },
  {
   "cell_type": "code",
   "execution_count": 40,
   "metadata": {},
   "outputs": [
    {
     "name": "stdout",
     "output_type": "stream",
     "text": [
      "영화를 가장 많이 쓴 작가 (내림차순): \n",
      " writer\n",
      "nm0000095    47\n",
      "nm0000636    35\n",
      "nm0000175    32\n",
      "nm0372942    30\n",
      "nm0000108    29\n",
      "dtype: int64 \n",
      "\n",
      "영화를 가장 적게 쓴 작가 (내림차순): \n",
      " writer\n",
      "nm0414893    2\n",
      "nm0414448    2\n",
      "nm0414117    2\n",
      "nm0414047    2\n",
      "nm5927608    2\n",
      "dtype: int64\n"
     ]
    }
   ],
   "source": [
    "top_n(n=5, df=writers_df, col_name='writer', title=\"영화를 가장 많이 쓴 작가\")\n",
    "min_n(n=5, df=writers_df, col_name='writer', title=\"영화를 가장 적게 쓴 작가\")"
   ]
  },
  {
   "cell_type": "markdown",
   "metadata": {},
   "source": [
    "## 3.5 Titles\n",
    "\n",
    "- \\# of unique titles: 6806\n",
    "    - War of the Worlds (2005)가 중복된다.\n",
    "- \\# of unique items: 6807\n",
    "- 결측값(null)은 없다."
   ]
  },
  {
   "cell_type": "code",
   "execution_count": 25,
   "metadata": {},
   "outputs": [
    {
     "data": {
      "text/html": [
       "<div>\n",
       "<style scoped>\n",
       "    .dataframe tbody tr th:only-of-type {\n",
       "        vertical-align: middle;\n",
       "    }\n",
       "\n",
       "    .dataframe tbody tr th {\n",
       "        vertical-align: top;\n",
       "    }\n",
       "\n",
       "    .dataframe thead th {\n",
       "        text-align: right;\n",
       "    }\n",
       "</style>\n",
       "<table border=\"1\" class=\"dataframe\">\n",
       "  <thead>\n",
       "    <tr style=\"text-align: right;\">\n",
       "      <th></th>\n",
       "      <th>item</th>\n",
       "      <th>title</th>\n",
       "    </tr>\n",
       "  </thead>\n",
       "  <tbody>\n",
       "    <tr>\n",
       "      <th>697</th>\n",
       "      <td>44761</td>\n",
       "      <td>Brick (2005)</td>\n",
       "    </tr>\n",
       "    <tr>\n",
       "      <th>2330</th>\n",
       "      <td>4009</td>\n",
       "      <td>Talk Radio (1988)</td>\n",
       "    </tr>\n",
       "    <tr>\n",
       "      <th>3721</th>\n",
       "      <td>8974</td>\n",
       "      <td>SpongeBob SquarePants Movie, The (2004)</td>\n",
       "    </tr>\n",
       "    <tr>\n",
       "      <th>4275</th>\n",
       "      <td>65601</td>\n",
       "      <td>My Bloody Valentine 3-D (2009)</td>\n",
       "    </tr>\n",
       "    <tr>\n",
       "      <th>934</th>\n",
       "      <td>30822</td>\n",
       "      <td>In Good Company (2004)</td>\n",
       "    </tr>\n",
       "    <tr>\n",
       "      <th>6228</th>\n",
       "      <td>46347</td>\n",
       "      <td>Metal: A Headbanger's Journey (2005)</td>\n",
       "    </tr>\n",
       "    <tr>\n",
       "      <th>4768</th>\n",
       "      <td>39435</td>\n",
       "      <td>Legend of Zorro, The (2005)</td>\n",
       "    </tr>\n",
       "    <tr>\n",
       "      <th>2</th>\n",
       "      <td>2959</td>\n",
       "      <td>Fight Club (1999)</td>\n",
       "    </tr>\n",
       "    <tr>\n",
       "      <th>883</th>\n",
       "      <td>33154</td>\n",
       "      <td>Enron: The Smartest Guys in the Room (2005)</td>\n",
       "    </tr>\n",
       "    <tr>\n",
       "      <th>4201</th>\n",
       "      <td>43904</td>\n",
       "      <td>When a Stranger Calls (2006)</td>\n",
       "    </tr>\n",
       "  </tbody>\n",
       "</table>\n",
       "</div>"
      ],
      "text/plain": [
       "       item                                        title\n",
       "697   44761                                 Brick (2005)\n",
       "2330   4009                            Talk Radio (1988)\n",
       "3721   8974      SpongeBob SquarePants Movie, The (2004)\n",
       "4275  65601               My Bloody Valentine 3-D (2009)\n",
       "934   30822                       In Good Company (2004)\n",
       "6228  46347         Metal: A Headbanger's Journey (2005)\n",
       "4768  39435                  Legend of Zorro, The (2005)\n",
       "2      2959                            Fight Club (1999)\n",
       "883   33154  Enron: The Smartest Guys in the Room (2005)\n",
       "4201  43904                 When a Stranger Calls (2006)"
      ]
     },
     "execution_count": 25,
     "metadata": {},
     "output_type": "execute_result"
    }
   ],
   "source": [
    "titles_df = pd.read_csv(os.path.join(train_data_dir, 'titles.tsv'), sep='\\t')\n",
    "\n",
    "titles_df.sample(10)"
   ]
  },
  {
   "cell_type": "code",
   "execution_count": 26,
   "metadata": {},
   "outputs": [
    {
     "name": "stdout",
     "output_type": "stream",
     "text": [
      "Number of unique items in title:  6807\n",
      "Number of unique title:  6806\n",
      "\n",
      "Missing vluae: \n",
      "item     0\n",
      "title    0\n",
      "dtype: int64\n",
      "\n",
      "Statistics of title data: \n",
      "count                         6807\n",
      "unique                        6806\n",
      "top       War of the Worlds (2005)\n",
      "freq                             2\n",
      "Name: title, dtype: object\n",
      "\n"
     ]
    }
   ],
   "source": [
    "basic_df_info(df=titles_df, col_name='title')"
   ]
  },
  {
   "cell_type": "markdown",
   "metadata": {},
   "source": [
    "# 4. Merge all side info on item"
   ]
  },
  {
   "cell_type": "code",
   "execution_count": null,
   "metadata": {},
   "outputs": [],
   "source": [
    "# https://stackoverflow.com/questions/59056710/binary-encoding-similar-to-one-hot-encoding-but-where-multiple-values-are-allo"
   ]
  },
  {
   "cell_type": "code",
   "execution_count": null,
   "metadata": {},
   "outputs": [],
   "source": [
    "merge_train = ratings_df.copy()\n",
    "merge_train['time_date'] = pd.to_datetime(merge_train['time'], unit='s')\n",
    "merge_train.sample(10)"
   ]
  },
  {
   "cell_type": "code",
   "execution_count": 57,
   "metadata": {},
   "outputs": [],
   "source": [
    "items_df = pd.DataFrame(ratings_df['item'].unique(), columns=['item'])\n",
    "\n",
    "dfs = [merge_train, items_df, titles_df, years_df] # genres_df, directors_df, writers_df\n",
    "merge_df = reduce(lambda left, right: pd.merge(left, right, on='item', how='left'), dfs)"
   ]
  },
  {
   "cell_type": "code",
   "execution_count": 58,
   "metadata": {},
   "outputs": [
    {
     "data": {
      "text/html": [
       "<div>\n",
       "<style scoped>\n",
       "    .dataframe tbody tr th:only-of-type {\n",
       "        vertical-align: middle;\n",
       "    }\n",
       "\n",
       "    .dataframe tbody tr th {\n",
       "        vertical-align: top;\n",
       "    }\n",
       "\n",
       "    .dataframe thead th {\n",
       "        text-align: right;\n",
       "    }\n",
       "</style>\n",
       "<table border=\"1\" class=\"dataframe\">\n",
       "  <thead>\n",
       "    <tr style=\"text-align: right;\">\n",
       "      <th></th>\n",
       "      <th>user</th>\n",
       "      <th>item</th>\n",
       "      <th>time</th>\n",
       "      <th>time_date</th>\n",
       "      <th>title</th>\n",
       "      <th>year</th>\n",
       "    </tr>\n",
       "  </thead>\n",
       "  <tbody>\n",
       "    <tr>\n",
       "      <th>0</th>\n",
       "      <td>11</td>\n",
       "      <td>4643</td>\n",
       "      <td>1230782529</td>\n",
       "      <td>2009-01-01 04:02:09</td>\n",
       "      <td>Planet of the Apes (2001)</td>\n",
       "      <td>2001.0</td>\n",
       "    </tr>\n",
       "    <tr>\n",
       "      <th>1</th>\n",
       "      <td>11</td>\n",
       "      <td>170</td>\n",
       "      <td>1230782534</td>\n",
       "      <td>2009-01-01 04:02:14</td>\n",
       "      <td>Hackers (1995)</td>\n",
       "      <td>1995.0</td>\n",
       "    </tr>\n",
       "    <tr>\n",
       "      <th>2</th>\n",
       "      <td>11</td>\n",
       "      <td>531</td>\n",
       "      <td>1230782539</td>\n",
       "      <td>2009-01-01 04:02:19</td>\n",
       "      <td>Secret Garden, The (1993)</td>\n",
       "      <td>1993.0</td>\n",
       "    </tr>\n",
       "    <tr>\n",
       "      <th>3</th>\n",
       "      <td>11</td>\n",
       "      <td>616</td>\n",
       "      <td>1230782542</td>\n",
       "      <td>2009-01-01 04:02:22</td>\n",
       "      <td>Aristocats, The (1970)</td>\n",
       "      <td>1970.0</td>\n",
       "    </tr>\n",
       "    <tr>\n",
       "      <th>4</th>\n",
       "      <td>11</td>\n",
       "      <td>2140</td>\n",
       "      <td>1230782563</td>\n",
       "      <td>2009-01-01 04:02:43</td>\n",
       "      <td>Dark Crystal, The (1982)</td>\n",
       "      <td>1982.0</td>\n",
       "    </tr>\n",
       "    <tr>\n",
       "      <th>...</th>\n",
       "      <td>...</td>\n",
       "      <td>...</td>\n",
       "      <td>...</td>\n",
       "      <td>...</td>\n",
       "      <td>...</td>\n",
       "      <td>...</td>\n",
       "    </tr>\n",
       "    <tr>\n",
       "      <th>5154466</th>\n",
       "      <td>138493</td>\n",
       "      <td>44022</td>\n",
       "      <td>1260209449</td>\n",
       "      <td>2009-12-07 18:10:49</td>\n",
       "      <td>Ice Age 2: The Meltdown (2006)</td>\n",
       "      <td>2006.0</td>\n",
       "    </tr>\n",
       "    <tr>\n",
       "      <th>5154467</th>\n",
       "      <td>138493</td>\n",
       "      <td>4958</td>\n",
       "      <td>1260209482</td>\n",
       "      <td>2009-12-07 18:11:22</td>\n",
       "      <td>Behind Enemy Lines (2001)</td>\n",
       "      <td>2001.0</td>\n",
       "    </tr>\n",
       "    <tr>\n",
       "      <th>5154468</th>\n",
       "      <td>138493</td>\n",
       "      <td>68319</td>\n",
       "      <td>1260209720</td>\n",
       "      <td>2009-12-07 18:15:20</td>\n",
       "      <td>X-Men Origins: Wolverine (2009)</td>\n",
       "      <td>2009.0</td>\n",
       "    </tr>\n",
       "    <tr>\n",
       "      <th>5154469</th>\n",
       "      <td>138493</td>\n",
       "      <td>40819</td>\n",
       "      <td>1260209726</td>\n",
       "      <td>2009-12-07 18:15:26</td>\n",
       "      <td>Walk the Line (2005)</td>\n",
       "      <td>2005.0</td>\n",
       "    </tr>\n",
       "    <tr>\n",
       "      <th>5154470</th>\n",
       "      <td>138493</td>\n",
       "      <td>27311</td>\n",
       "      <td>1260209807</td>\n",
       "      <td>2009-12-07 18:16:47</td>\n",
       "      <td>Batman Beyond: Return of the Joker (2000)</td>\n",
       "      <td>2000.0</td>\n",
       "    </tr>\n",
       "  </tbody>\n",
       "</table>\n",
       "<p>5154471 rows × 6 columns</p>\n",
       "</div>"
      ],
      "text/plain": [
       "           user   item        time           time_date  \\\n",
       "0            11   4643  1230782529 2009-01-01 04:02:09   \n",
       "1            11    170  1230782534 2009-01-01 04:02:14   \n",
       "2            11    531  1230782539 2009-01-01 04:02:19   \n",
       "3            11    616  1230782542 2009-01-01 04:02:22   \n",
       "4            11   2140  1230782563 2009-01-01 04:02:43   \n",
       "...         ...    ...         ...                 ...   \n",
       "5154466  138493  44022  1260209449 2009-12-07 18:10:49   \n",
       "5154467  138493   4958  1260209482 2009-12-07 18:11:22   \n",
       "5154468  138493  68319  1260209720 2009-12-07 18:15:20   \n",
       "5154469  138493  40819  1260209726 2009-12-07 18:15:26   \n",
       "5154470  138493  27311  1260209807 2009-12-07 18:16:47   \n",
       "\n",
       "                                             title    year  \n",
       "0                        Planet of the Apes (2001)  2001.0  \n",
       "1                                   Hackers (1995)  1995.0  \n",
       "2                        Secret Garden, The (1993)  1993.0  \n",
       "3                           Aristocats, The (1970)  1970.0  \n",
       "4                         Dark Crystal, The (1982)  1982.0  \n",
       "...                                            ...     ...  \n",
       "5154466             Ice Age 2: The Meltdown (2006)  2006.0  \n",
       "5154467                  Behind Enemy Lines (2001)  2001.0  \n",
       "5154468            X-Men Origins: Wolverine (2009)  2009.0  \n",
       "5154469                       Walk the Line (2005)  2005.0  \n",
       "5154470  Batman Beyond: Return of the Joker (2000)  2000.0  \n",
       "\n",
       "[5154471 rows x 6 columns]"
      ]
     },
     "execution_count": 58,
     "metadata": {},
     "output_type": "execute_result"
    }
   ],
   "source": [
    "merge_df"
   ]
  },
  {
   "cell_type": "markdown",
   "metadata": {},
   "source": [
    "맨 처음 평가된 영화는 2005-04-11에 평가되었고, 제일 최근에평가된 영화는 2015-03-31에 평가되었다."
   ]
  },
  {
   "cell_type": "code",
   "execution_count": 63,
   "metadata": {},
   "outputs": [
    {
     "name": "stderr",
     "output_type": "stream",
     "text": [
      "/tmp/ipykernel_105235/3190719519.py:1: FutureWarning: Treating datetime data as categorical rather than numeric in `.describe` is deprecated and will be removed in a future version of pandas. Specify `datetime_is_numeric=True` to silence this warning and adopt the future behavior now.\n",
      "  merge_df['time_date'].describe()\n"
     ]
    },
    {
     "data": {
      "text/plain": [
       "count                 5154471\n",
       "unique                5074973\n",
       "top       2010-02-25 22:00:19\n",
       "freq                       63\n",
       "first     2005-04-11 11:56:25\n",
       "last      2015-03-31 05:50:52\n",
       "Name: time_date, dtype: object"
      ]
     },
     "execution_count": 63,
     "metadata": {},
     "output_type": "execute_result"
    }
   ],
   "source": [
    "merge_df['time_date'].describe()"
   ]
  },
  {
   "cell_type": "code",
   "execution_count": null,
   "metadata": {},
   "outputs": [],
   "source": []
  }
 ],
 "metadata": {
  "interpreter": {
   "hash": "d4d1e4263499bec80672ea0156c357c1ee493ec2b1c70f0acce89fc37c4a6abe"
  },
  "kernelspec": {
   "display_name": "Python 3.8.5 ('base')",
   "language": "python",
   "name": "python3"
  },
  "language_info": {
   "codemirror_mode": {
    "name": "ipython",
    "version": 3
   },
   "file_extension": ".py",
   "mimetype": "text/x-python",
   "name": "python",
   "nbconvert_exporter": "python",
   "pygments_lexer": "ipython3",
   "version": "3.8.5"
  },
  "orig_nbformat": 4
 },
 "nbformat": 4,
 "nbformat_minor": 2
}
