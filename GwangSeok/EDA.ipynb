{
 "cells": [
  {
   "cell_type": "code",
   "execution_count": 1,
   "metadata": {},
   "outputs": [],
   "source": [
    "import pandas as pd\n",
    "import numpy as np\n",
    "import os\n",
    "\n",
    "import matplotlib.pyplot as plt\n",
    "import seaborn as sns"
   ]
  },
  {
   "cell_type": "markdown",
   "metadata": {},
   "source": [
    "# 1. Data Load"
   ]
  },
  {
   "cell_type": "code",
   "execution_count": 2,
   "metadata": {},
   "outputs": [],
   "source": [
    "train_data_dir = '/opt/ml/input/data/train'\n",
    "\n",
    "genres_df = pd.read_csv(os.path.join(train_data_dir, 'genres.tsv'), sep='\\t')\n",
    "titles_df = pd.read_csv(os.path.join(train_data_dir, 'titles.tsv'), sep='\\t')\n",
    "writers_df = pd.read_csv(os.path.join(train_data_dir, 'writers.tsv'), sep='\\t')\n",
    "ratings_df = pd.read_csv(os.path.join(train_data_dir, 'train_ratings.csv'))"
   ]
  },
  {
   "cell_type": "markdown",
   "metadata": {},
   "source": [
    "# 2. EDA: train_rating.csv\n",
    "\n",
    "- \\# of unique users: 31360\n",
    "- \\# of unique items: 6807\n",
    "- 결측치(null값)은 없다.\n",
    "- Sparsity ratio: 0.976\n",
    "    - 일반적인 추천 시스템 데이터셋에 비해 굉장히 dense한 (행렬 상 이력의 많은 부분이 채워져 있는) 데이터임을 알 수 있다."
   ]
  },
  {
   "cell_type": "code",
   "execution_count": 7,
   "metadata": {},
   "outputs": [
    {
     "name": "stdout",
     "output_type": "stream",
     "text": [
      "Number of unique train users:  31360\n",
      "Number of unique train items:  6807\n",
      "\n",
      "Missing vluae: \n",
      "user    0\n",
      "item    0\n",
      "time    0\n",
      "dtype: int64\n",
      "\n",
      "Data sparsity ratio:  0.9758536052697853\n"
     ]
    }
   ],
   "source": [
    "num_train_users = ratings_df['user'].nunique()\n",
    "num_train_items = ratings_df['item'].nunique()\n",
    "\n",
    "print(\"Number of unique train users: \", num_train_users)\n",
    "print(\"Number of unique train items: \", num_train_items)\n",
    "print(f\"\\nMissing vluae: \\n{ratings_df.isnull().sum()}\")\n",
    "print(\"\\nData sparsity ratio: \", 1 - len(ratings_df) / (num_train_users * num_train_items))"
   ]
  },
  {
   "cell_type": "markdown",
   "metadata": {},
   "source": [
    "# 3. EDA: side information"
   ]
  },
  {
   "cell_type": "code",
   "execution_count": 8,
   "metadata": {},
   "outputs": [],
   "source": [
    "def basic_df_info(df, col_name):\n",
    "    print(f\"Number of unique items in {col_name}: \", df['item'].nunique())\n",
    "    print(f\"Number of unique {col_name}: \", df[col_name].nunique())\n",
    "    print(f\"\\nMissing vluae: \\n{df.isnull().sum()}\\n\")\n",
    "    print (f\"Statistics of {col_name} data: \\n{df[col_name].describe()}\\n\")"
   ]
  },
  {
   "cell_type": "markdown",
   "metadata": {},
   "source": [
    "## 3.1. years\n",
    "\n",
    "- \\# of unique years: 93\n",
    "- \\# of item have years: 6799\n",
    "    - 8개의 item이 years에 대한 정보를 가지고 있지 않다.\n",
    "    - 3310, 6987, 6988, 7065, 7243, 8511, 32898, 119145\n",
    "- 결측값(null)은 없다."
   ]
  },
  {
   "cell_type": "code",
   "execution_count": 13,
   "metadata": {},
   "outputs": [
    {
     "name": "stdout",
     "output_type": "stream",
     "text": [
      "Number of unique items in year:  6799\n",
      "Number of unique year:  93\n",
      "\n",
      "Missing vluae: \n",
      "item    0\n",
      "year    0\n",
      "dtype: int64\n",
      "\n",
      "Statistics of year data: \n",
      "count    6799.000000\n",
      "mean     1992.174732\n",
      "std        19.052568\n",
      "min      1922.000000\n",
      "25%      1985.000000\n",
      "50%      1999.000000\n",
      "75%      2006.000000\n",
      "max      2014.000000\n",
      "Name: year, dtype: float64\n",
      "\n",
      "Items that don't have years: [  3310   6987   6988   7065   7243   8511  32898 119145]\n",
      "# of them: 8\n"
     ]
    }
   ],
   "source": [
    "years_df = pd.read_csv(os.path.join(train_data_dir, 'years.tsv'), sep='\\t')\n",
    "\n",
    "basic_df_info(years_df, 'year')\n",
    "\n",
    "non_year_item = ratings_df[~ratings_df['item'].isin(years_df['item'])]['item'].unique()\n",
    "print(f\"Items that don't have years: {np.sort(non_year_item)}\")\n",
    "print(f\"# of them: {len(non_year_item)}\")"
   ]
  },
  {
   "cell_type": "code",
   "execution_count": 18,
   "metadata": {},
   "outputs": [
    {
     "name": "stdout",
     "output_type": "stream",
     "text": [
      "영화를 가장 많이 개봉한 년도 (내림차순): \n",
      " year\n",
      "2006    284\n",
      "2007    271\n",
      "2004    262\n",
      "2005    260\n",
      "2008    256\n",
      "dtype: int64\n",
      "\n"
     ]
    },
    {
     "data": {
      "image/png": "[encoded data removed]",
      "text/plain": [
       "<Figure size 1440x720 with 1 Axes>"
      ]
     },
     "metadata": {
      "needs_background": "light"
     },
     "output_type": "display_data"
    }
   ],
   "source": [
    "top_n = 5\n",
    "most_release_year = years_df.value_counts(subset='year', sort=True)[:top_n]\n",
    "print(\"영화를 가장 많이 개봉한 년도 (내림차순): \\n\", most_release_year)\n",
    "\n",
    "fig, axes = plt.subplots(1, 1, figsize=(20, 10))\n",
    "\n",
    "sns.countplot(\n",
    "    x='year', data=years_df,\n",
    "    order=np.sort(years_df['year'].unique()),\n",
    "    ax=axes\n",
    ")\n",
    "\n",
    "axes.set_title(\n",
    "    label=\"Number of released movie\", \n",
    "    fontdict={\n",
    "        'fontsize': 45,\n",
    "        }\n",
    "    )\n",
    "axes.set_xticklabels(labels=axes.get_xticklabels(), rotation=70)\n",
    "\n",
    "print()"
   ]
  },
  {
   "cell_type": "markdown",
   "metadata": {},
   "source": [
    "## 3.2  Dorectprs\n",
    "\n",
    "- \\# of unique directors: 1340\n",
    "- \\# of item have years: 5503\n",
    "    - 1277개의 item이 director에 대한 정보를 가지고 있지 않다.\n",
    "- 결측값(null)은 없다."
   ]
  },
  {
   "cell_type": "code",
   "execution_count": 20,
   "metadata": {},
   "outputs": [
    {
     "name": "stdout",
     "output_type": "stream",
     "text": [
      "Number of unique items in director:  5503\n",
      "Number of unique director:  1340\n",
      "\n",
      "Missing vluae: \n",
      "item        0\n",
      "director    0\n",
      "dtype: int64\n",
      "\n",
      "Statistics of director data: \n",
      "count          5905\n",
      "unique         1340\n",
      "top       nm0000095\n",
      "freq             44\n",
      "Name: director, dtype: object\n",
      "\n",
      "영화를 가장 많이 제작한 감독 (내림차순): \n",
      " director\n",
      "nm0000095    44\n",
      "nm0000033    33\n",
      "nm0000142    31\n",
      "nm0000229    29\n",
      "nm0000217    26\n",
      "dtype: int64\n"
     ]
    }
   ],
   "source": [
    "directors_df = pd.read_csv(os.path.join(train_data_dir, 'directors.tsv'), sep='\\t')\n",
    "\n",
    "basic_df_info(directors_df, 'director')\n",
    "\n",
    "top_n = 5\n",
    "most_create_directors = directors_df.value_counts(subset='director', sort=True)[:top_n]\n",
    "print(\"영화를 가장 많이 제작한 감독 (내림차순): \\n\", most_create_directors)"
   ]
  }
 ],
 "metadata": {
  "interpreter": {
   "hash": "d4d1e4263499bec80672ea0156c357c1ee493ec2b1c70f0acce89fc37c4a6abe"
  },
  "kernelspec": {
   "display_name": "Python 3.8.5 ('base')",
   "language": "python",
   "name": "python3"
  },
  "language_info": {
   "codemirror_mode": {
    "name": "ipython",
    "version": 3
   },
   "file_extension": ".py",
   "mimetype": "text/x-python",
   "name": "python",
   "nbconvert_exporter": "python",
   "pygments_lexer": "ipython3",
   "version": "3.8.5"
  },
  "orig_nbformat": 4
 },
 "nbformat": 4,
 "nbformat_minor": 2
}
