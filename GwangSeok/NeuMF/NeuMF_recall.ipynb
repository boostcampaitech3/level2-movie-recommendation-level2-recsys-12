{
 "cells": [
  {
   "cell_type": "code",
   "execution_count": 1,
   "metadata": {},
   "outputs": [],
   "source": [
    "import os\n",
    "import random\n",
    "import numpy as np\n",
    "import pandas as pd\n",
    "\n",
    "from sklearn.preprocessing import LabelEncoder\n",
    "\n",
    "import torch\n",
    "import torch.nn as nn \n",
    "\n",
    "from torch.utils.data import Dataset\n",
    "from torch.utils.data import DataLoader\n",
    "\n",
    "from typing import Tuple\n",
    "\n",
    "from tqdm import tqdm\n",
    "from box import Box\n",
    "\n",
    "from copy import deepcopy"
   ]
  },
  {
   "cell_type": "code",
   "execution_count": 2,
   "metadata": {},
   "outputs": [],
   "source": [
    "def setSeed(seed):\n",
    "    random.seed(seed)\n",
    "    np.random.seed(seed)\n",
    "    torch.manual_seed(seed)\n",
    "    if torch.cuda.is_available():\n",
    "        torch.cuda.manual_seed_all(seed)\n",
    "        torch.backends.cudnn.deterministic = True"
   ]
  },
  {
   "cell_type": "markdown",
   "metadata": {},
   "source": [
    "# 1. Dataset Preprocessing\n",
    "    \n",
    "* Implicit Feedback"
   ]
  },
  {
   "cell_type": "code",
   "execution_count": 3,
   "metadata": {},
   "outputs": [],
   "source": [
    "class DataInfo():\n",
    "    def __init__(self, file_path: str) -> None:\n",
    "        self.df = pd.read_csv(file_path)\n",
    "        self.user_encoder, self.movie_encoder = self._encode()\n",
    "\n",
    "        self.users = self.df['user'].unique()\n",
    "        self.num_users = len(self.users)\n",
    "        self.min_feedback = 5 # for resolving cold-start problem\n",
    "        self.movies = self.df['item'].unique()\n",
    "        self.num_movies = len(self.movies)\n",
    "        self.train_movies = self._moreThanFeedback()\n",
    "        self.num_train_movies = len(self.train_movies)\n",
    "\n",
    "        self.df_pos_user_sequence, self.user_negative_samples = self._makeSequenceAndNeg()\n",
    "\n",
    "        self.df_pos_train, self.df_pos_test = self._trainTestSplit()\n",
    "    \n",
    "    def _trainTestSplit(self) -> Tuple[pd.DataFrame, pd.DataFrame]:\n",
    "        # https://github.com/scikit-learn/scikit-learn/pull/16236\n",
    "        # GroupTimeSeriesSplit이 PR 중이라고 해서 직접 구현을 해야한다.\n",
    "\n",
    "        print('train and test split...')\n",
    "        df_train = {\n",
    "            'user_id': list(),\n",
    "            'movie_id': list(),\n",
    "        }\n",
    "\n",
    "        df_test = {\n",
    "            'user_id': list(),\n",
    "            'movie_id': list(),\n",
    "        }\n",
    "\n",
    "        for user in tqdm(self.users):\n",
    "            df_user = self.df_pos_user_sequence[self.df_pos_user_sequence['user_id']==user]\n",
    "            list_user_movies = df_user['movie_id'].tolist()\n",
    "\n",
    "            num_user = df_user.shape[0]\n",
    "            num_train_user = num_user - 1\n",
    "            num_test_user = 1\n",
    "\n",
    "            list_user_train_movies = list_user_movies[:num_train_user]\n",
    "            list_user_test_movies = list_user_movies[num_train_user:]\n",
    "\n",
    "            df_train['user_id'].extend([user]*num_train_user)\n",
    "            df_train['movie_id'].extend(list_user_train_movies)\n",
    "\n",
    "            df_test['user_id'].extend([user]*num_test_user)\n",
    "            df_test['movie_id'].extend(list_user_test_movies)\n",
    "            \n",
    "        df_train = pd.DataFrame(df_train)\n",
    "        df_train['label'] = 1\n",
    "\n",
    "        df_test = pd.DataFrame(df_test)\n",
    "        df_test['label'] = 1\n",
    "\n",
    "        print('done!')\n",
    "            \n",
    "        return df_train, df_test        \n",
    "\n",
    "\n",
    "    def _moreThanFeedback(self):\n",
    "        print('pick trainable feedback...')\n",
    "        \n",
    "        movie_ids_for_training = list()\n",
    "        for movie_id in tqdm(self.df['item'].unique()):\n",
    "            if self.df[self.df['item'] == movie_id].shape[0] >= self.min_feedback:\n",
    "                movie_ids_for_training.append(movie_id)\n",
    "        \n",
    "        print('doen!')\n",
    "        \n",
    "        return np.unique(movie_ids_for_training)\n",
    "\n",
    "\n",
    "    def _makeSequenceAndNeg(self):\n",
    "\n",
    "        print('sorted by sequence and make negative smaples...')\n",
    "        pos_user_sequence = {\n",
    "            'user_id': list(),\n",
    "            'movie_id': list(),\n",
    "        }\n",
    "\n",
    "        user_negative_samples = dict()\n",
    "\n",
    "\n",
    "        for user in tqdm(self.users):\n",
    "            user_sequence_movies = self.df[self.df['user']==user].sort_values(by='time', axis=0)['item'].tolist()\n",
    "            # 최조 조건을 만족하지 못한 것 포함, feedback있는 영화를 제외시킨다. \n",
    "            user_negative_movies = np.setdiff1d(self.movies, np.unique(user_sequence_movies))\n",
    "            user_negative_samples[user] = user_negative_movies\n",
    "\n",
    "            for movie in user_sequence_movies:\n",
    "                # 최소 feedback 조건을 만족시키지 못한 것은 추가하지 않는다.\n",
    "                if movie not in self.train_movies: continue\n",
    "                pos_user_sequence['user_id'].append(user)\n",
    "                pos_user_sequence['movie_id'].append(movie)\n",
    "\n",
    "\n",
    "        df_pos_user_sequence = pd.DataFrame(pos_user_sequence)\n",
    "        df_pos_user_sequence['label'] = 1\n",
    "\n",
    "        print('doen!')\n",
    "\n",
    "        return df_pos_user_sequence, user_negative_samples\n",
    "\n",
    "\n",
    "    def _encode(self) -> Tuple[pd.DataFrame, LabelEncoder, LabelEncoder]:\n",
    "        print('encoding...')\n",
    "\n",
    "        userId_label_encoder = LabelEncoder()\n",
    "        movieId_label_encoder = LabelEncoder()\n",
    "\n",
    "        self.df['user'] = userId_label_encoder.fit_transform(self.df['user'].values)\n",
    "        self.df['item'] = movieId_label_encoder.fit_transform(self.df['item'].values)\n",
    "\n",
    "        print('done!')\n",
    "\n",
    "        # encoder.inverse_transform() 으로 decode\n",
    "        return userId_label_encoder, movieId_label_encoder"
   ]
  },
  {
   "cell_type": "code",
   "execution_count": 4,
   "metadata": {},
   "outputs": [],
   "source": [
    "class NeuMFDataset(Dataset):\n",
    "    def __init__(self, df: pd.DataFrame):\n",
    "        self.df = df\n",
    "            \n",
    "    def __len__(self):\n",
    "        return self.df.shape[0]\n",
    "\n",
    "    def __getitem__(self, idx):\n",
    "        user = self.df.iloc[idx]['user_id']\n",
    "        item = self.df.iloc[idx]['movie_id']\n",
    "        label = self.df.iloc[idx]['label']\n",
    "        \n",
    "        return torch.tensor(user).to(torch.int64), torch.tensor(item).to(torch.int64), torch.tensor(label).float()"
   ]
  },
  {
   "cell_type": "markdown",
   "metadata": {},
   "source": [
    "# 2. Model"
   ]
  },
  {
   "cell_type": "code",
   "execution_count": 5,
   "metadata": {},
   "outputs": [],
   "source": [
    "class GMF(nn.Module):\n",
    "    def __init__(self, num_users: int, num_items: int, latent_dim: int):\n",
    "        super(GMF, self).__init__()\n",
    "\n",
    "        self.embedding_user = nn.Embedding(num_users, latent_dim)\n",
    "        self.embedding_item = nn.Embedding(num_items, latent_dim)\n",
    "\n",
    "        self.prediction = nn.Sequential(\n",
    "            nn.Linear(latent_dim, 1, bias=False),\n",
    "            nn.Sigmoid()\n",
    "        )\n",
    "\n",
    "        self._init_weights()\n",
    "    \n",
    "    def _init_weights(self):\n",
    "        for module in self.modules():\n",
    "            # print(module.__class__.__name__)\n",
    "            if isinstance(module, nn.Embedding):\n",
    "                nn.init.xavier_normal_(module.weight.data)\n",
    "            elif isinstance(module, nn.Linear):\n",
    "                nn.init.xavier_normal_(module.weight.data)\n",
    "                if module.bias is not None:\n",
    "                    module.bias.data.fill_(0.0)\n",
    "\n",
    "    \n",
    "    def forward(self, user_input, item_input):\n",
    "\n",
    "        user_latent = self.embedding_user(user_input)\n",
    "        item_latent = self.embedding_item(item_input)\n",
    "        product = user_latent * item_latent\n",
    "\n",
    "        output = self.prediction(product)\n",
    "\n",
    "        return output.squeeze()"
   ]
  },
  {
   "cell_type": "code",
   "execution_count": 6,
   "metadata": {},
   "outputs": [],
   "source": [
    "class MLP(nn.Module):\n",
    "    def __init__(self, num_uesrs, num_items, latent_dim, dropout, layers=[20, 10]):\n",
    "        super(MLP, self).__init__()\n",
    "\n",
    "        self.embedding_user = nn.Embedding(num_uesrs, latent_dim)\n",
    "        self.embedding_item = nn.Embedding(num_items, latent_dim)\n",
    "\n",
    "        self.layers = deepcopy(layers)\n",
    "        self.layers.insert(0, latent_dim * 2)\n",
    "        modules = []\n",
    "        for i in range(len(self.layers) - 1):\n",
    "            modules.append(nn.Dropout(p=dropout))\n",
    "            modules.append(nn.Linear(self.layers[i], self.layers[i+1]))\n",
    "            modules.append(nn.ReLU())\n",
    "        \n",
    "        self.dense_layers = nn.Sequential(*modules)\n",
    "\n",
    "        self.prediction = nn.Sequential(\n",
    "            nn.Linear(layers[-1], 1, bias=False),\n",
    "            nn.Sigmoid()\n",
    "        )\n",
    "\n",
    "        self._init_weights()\n",
    "    \n",
    "    # initialize weights\n",
    "    def _init_weights(self):\n",
    "        for module in self.modules():\n",
    "            if isinstance(module, nn.Embedding):\n",
    "                nn.init.xavier_normal_(module.weight.data)\n",
    "            elif isinstance(module, nn.Linear):\n",
    "                nn.init.xavier_normal_(module.weight.data)\n",
    "                if module.bias is not None:\n",
    "                    module.bias.data.fill_(0.0)\n",
    "\n",
    "    def forward(self, user_input, item_input):\n",
    "        user_latent = self.embedding_user(user_input)\n",
    "        item_latent = self.embedding_item(item_input)\n",
    "\n",
    "        vector = torch.cat((user_latent, item_latent), dim=-1)\n",
    "\n",
    "        output = self.prediction(self.dense_layers(vector))\n",
    "\n",
    "        return output.squeeze()"
   ]
  },
  {
   "cell_type": "code",
   "execution_count": 7,
   "metadata": {},
   "outputs": [],
   "source": [
    "class NeuMF(nn.Module):\n",
    "    def __init__(self, GMF, MLP, latent_dim, layers):\n",
    "        super(NeuMF, self).__init__()\n",
    "\n",
    "        self.GMF_embedding_user = deepcopy(GMF.embedding_user)\n",
    "        self.GMF_embedding_item = deepcopy(GMF.embedding_item)\n",
    "\n",
    "        self.MLP_embedding_user = deepcopy(MLP.embedding_user)\n",
    "        self.MLP_embedding_item = deepcopy(MLP.embedding_item)\n",
    "\n",
    "        self.MLP_dense_layers = deepcopy(MLP.dense_layers)\n",
    "\n",
    "        self.prediction = nn.Sequential(\n",
    "            nn.Linear(latent_dim + layers[-1], 1, bias=False),\n",
    "            nn.Sigmoid()\n",
    "        )\n",
    "        \n",
    "        self._init_weights()\n",
    "    \n",
    "    # initialize weights\n",
    "    def _init_weights(self):\n",
    "        for module in self.prediction.modules():\n",
    "            if isinstance(module, nn.Linear):\n",
    "                nn.init.xavier_normal_(module.weight.data)\n",
    "                if module.bias is not None:\n",
    "                    module.bias.data.fill_(0.0)\n",
    "\n",
    "    def forward(self, user_input, item_input):\n",
    "\n",
    "        GMF_user_latent = self.GMF_embedding_user(user_input)\n",
    "        GMF_item_latent = self.GMF_embedding_item(item_input)\n",
    "        GMF_output = GMF_user_latent * GMF_item_latent\n",
    "\n",
    "        MLP_user_latent = self.MLP_embedding_user(user_input)\n",
    "        MLP_item_latent = self.MLP_embedding_item(item_input)\n",
    "        vector = torch.cat((MLP_user_latent, MLP_item_latent), dim=-1)\n",
    "        MLP_output = self.MLP_dense_layers(vector)\n",
    "\n",
    "        concat_output = torch.cat((GMF_output, MLP_output), dim=-1)\n",
    "        output = self.prediction(concat_output)\n",
    "\n",
    "        return output.squeeze()\n"
   ]
  },
  {
   "cell_type": "markdown",
   "metadata": {},
   "source": [
    "# 3. Train, Metric 함수"
   ]
  },
  {
   "cell_type": "code",
   "execution_count": 8,
   "metadata": {},
   "outputs": [],
   "source": [
    "class Trainer():\n",
    "    def __init__(self, model, optimizer, train_loader, test_loader, epochs, criterion, device, neg_smaples, num_neg, topK, output_path, name):\n",
    "        self.model = model\n",
    "        self.optimizer = optimizer\n",
    "        self.train_loader = train_loader\n",
    "        self.test_loader = test_loader\n",
    "        self.epochs = epochs\n",
    "        self.criterion = criterion\n",
    "        self.device = device\n",
    "        self.neg_samples = neg_smaples\n",
    "        self.num_neg = num_neg\n",
    "        self.topK = topK\n",
    "\n",
    "        self.loss_list = []\n",
    "        self.hr_list = []\n",
    "        self.ndcg_list = []\n",
    "\n",
    "        self.output_path = output_path\n",
    "        self.model_name = name\n",
    "        \n",
    "        self._train_metric()\n",
    "    \n",
    "\n",
    "    def _train_metric(self):\n",
    "        \n",
    "        best_hr = 0\n",
    "        # 훈련 시간 측정\n",
    "        epoch_start = torch.cuda.Event(enable_timing=True)\n",
    "        epoch_end = torch.cuda.Event(enable_timing=True)\n",
    "        \n",
    "        for epoch in range(self.epochs):\n",
    "            # 시작 시간 기록\n",
    "            epoch_start.record()\n",
    "\n",
    "            avg_loss = self._train()\n",
    "            avg_hr, avg_ndcg = self._metric()\n",
    "        \n",
    "            epoch_end.record()\n",
    "            torch.cuda.synchronize()\n",
    "\n",
    "            self.loss_list.append(avg_loss)\n",
    "            self.hr_list.append(avg_hr)\n",
    "            self.ndcg_list.append(avg_ndcg)\n",
    "\n",
    "\n",
    "            print(\n",
    "                f'Epoch[{epoch+1}/{self.epochs}]\\ttrain_loss: {avg_loss:.4f}' +\n",
    "                f'\\tHR: {avg_hr:.4f}\\tNDCG: {avg_ndcg:.4f} '+\n",
    "                f'\\t훈련시간: {epoch_start.elapsed_time(epoch_end)/1000:.2f} sec'\n",
    "            )\n",
    "\n",
    "            if best_hr < avg_hr:\n",
    "                best_hr = avg_hr\n",
    "                torch.save(self.model.state_dict(), os.path.join(self.output_path, f'best_HR_{self.model_name}.pt'))\n",
    "                print(f'save hr: {best_hr:.4f}')\n",
    "\n",
    "    \n",
    "    def _train(self):\n",
    "        self.model.train()\n",
    "\n",
    "        size = len(self.train_loader)\n",
    "        epoch_loss = 0\n",
    "\n",
    "        for user, item, label in tqdm(self.train_loader):\n",
    "            user = user.to(self.device)\n",
    "            item = item.to(self.device)\n",
    "            label = label.to(self.device)\n",
    "\n",
    "            user_neg, item_neg, label_neg = self._negative_sampling(user, self.num_neg)\n",
    "            input_user, input_item, input_label = self._concat(user, user_neg, item, item_neg, label, label_neg)\n",
    "\n",
    "            self.optimizer.zero_grad()\n",
    "\n",
    "            output = self.model(input_user, input_item)\n",
    "\n",
    "            loss = self.criterion(output, input_label)\n",
    "            loss.backward()\n",
    "            self.optimizer.step()\n",
    "            \n",
    "            epoch_loss += loss.item()\n",
    "\n",
    "\n",
    "        avg_loss = epoch_loss / size\n",
    "\n",
    "        return avg_loss\n",
    "\n",
    "    def _metric(self):\n",
    "        self.model.eval()\n",
    "\n",
    "        size = len(self.test_loader)\n",
    "\n",
    "        epoch_hr = 0\n",
    "        epoch_ndcg = 0\n",
    "\n",
    "        with torch.no_grad():\n",
    "            for user, item, label in self.test_loader:\n",
    "                user = user.to(self.device)\n",
    "                item = item.to(self.device)\n",
    "                label = label.to(self.device).float()\n",
    "\n",
    "                user_neg, item_neg, label_neg = self._negative_sampling(user, 100)\n",
    "                input_user, input_item, input_label = self._concat(user, user_neg, item, item_neg, label, label_neg)\n",
    "\n",
    "                output = self.model(input_user, input_item)\n",
    "                _, indices = torch.topk(output, dim=0, k=self.topK)\n",
    "                rank_list = torch.take(input_item, indices).cpu().numpy().tolist()\n",
    "                target_item = item.cpu().numpy()[0]\n",
    "\n",
    "                epoch_hr += self._get_hit_ratio(rank_list, target_item)\n",
    "                epoch_ndcg += self._get_NDCG(rank_list, target_item)\n",
    "        \n",
    "        avg_hr = epoch_hr / size\n",
    "        avg_ndcg = epoch_ndcg / size\n",
    "\n",
    "        return avg_hr, avg_ndcg\n",
    "\n",
    "    \n",
    "    def _get_hit_ratio(self, rank_list, target_item):\n",
    "        for item in rank_list:\n",
    "            if item == target_item:\n",
    "                return 1\n",
    "        return 0\n",
    "\n",
    "\n",
    "    def _get_NDCG(self, rank_list, target_item):\n",
    "        for i in range(len(rank_list)):\n",
    "            item = rank_list[i]\n",
    "            if item == target_item:\n",
    "                return np.log(2) / np.log(i+2)\n",
    "        return 0\n",
    "            \n",
    "    def _negative_sampling(self, users, num_neg):\n",
    "        user_neg, item_neg, label_neg = [], [], []\n",
    "\n",
    "        users = users.detach().cpu().numpy()\n",
    "        for user in users:\n",
    "            items = np.random.choice(self.neg_samples[user], min(len(self.neg_samples), num_neg), replace=False)\n",
    "            for item in items:\n",
    "                user_neg.append(user)\n",
    "                item_neg.append(item)\n",
    "                label_neg.append(0)\n",
    "\n",
    "        \n",
    "        return (\n",
    "            torch.tensor(user_neg).to(torch.int64).to(self.device), \n",
    "            torch.tensor(item_neg).to(torch.int64).to(self.device), \n",
    "            torch.tensor(label_neg).float().to(self.device)\n",
    "        )\n",
    "\n",
    "\n",
    "    def _concat(self, user, user_neg, item, item_neg, label, label_neg):\n",
    "        input_user = torch.cat([user, user_neg], dim=0)\n",
    "        input_item = torch.cat([item, item_neg], dim=0)\n",
    "        input_label = torch.cat([label, label_neg], dim=0)\n",
    "\n",
    "        return  input_user, input_item, input_label\n"
   ]
  },
  {
   "cell_type": "markdown",
   "metadata": {},
   "source": [
    "# 4. 훈련"
   ]
  },
  {
   "cell_type": "markdown",
   "metadata": {},
   "source": [
    "## 4.1. 환경 설정 및 hyper parameter 설정"
   ]
  },
  {
   "cell_type": "code",
   "execution_count": 9,
   "metadata": {},
   "outputs": [],
   "source": [
    "dir_base = os.path.join(os.path.join('/opt','ml','input','data'))\n",
    "dir_data = os.path.join(dir_base, 'train')\n",
    "path_rating = os.path.join(dir_data, 'train_ratings.csv')\n",
    "dir_output = os.path.join(os.getcwd(), 'output')\n",
    "dir_file_path = {\n",
    "    'dir_base': dir_base,\n",
    "    'dir_data': dir_data,\n",
    "    'rating': path_rating,\n",
    "    'dir_output': dir_output,\n",
    "}\n",
    "\n",
    "path = Box(dir_file_path)"
   ]
  },
  {
   "cell_type": "code",
   "execution_count": 10,
   "metadata": {},
   "outputs": [
    {
     "name": "stdout",
     "output_type": "stream",
     "text": [
      "Use cuda\n"
     ]
    }
   ],
   "source": [
    "device = 'cuda' if torch.cuda.is_available() else 'cpu'\n",
    "print(f'Use {device}')\n",
    "\n",
    "# 해당 논문의 github에서 사용한 값 참고\n",
    "config = {\n",
    "    'seed': 42,\n",
    "    'device': device,\n",
    "    }\n",
    "\n",
    "config = Box(config)\n",
    "\n",
    "hyper = {\n",
    "    'batch_size': 256,\n",
    "    'epochs': 5,\n",
    "    'pretrain_epochs': 3,\n",
    "    'latent_dim': 16,\n",
    "    'lr': 0.001,\n",
    "    'optimizer': 'adam',\n",
    "    'criterion': 'BCE',\n",
    "    'layers': [32, 16, 8],\n",
    "    'dropout': 0.2,\n",
    "    'topK': 10,\n",
    "    'num_neg': 4,\n",
    "}\n",
    "\n",
    "hyper = Box(hyper)"
   ]
  },
  {
   "cell_type": "code",
   "execution_count": null,
   "metadata": {},
   "outputs": [
    {
     "name": "stdout",
     "output_type": "stream",
     "text": [
      "encoding...\n"
     ]
    },
    {
     "name": "stderr",
     "output_type": "stream",
     "text": [
      "  0%|          | 0/6807 [00:00<?, ?it/s]"
     ]
    },
    {
     "name": "stdout",
     "output_type": "stream",
     "text": [
      "done!\n",
      "pick trainable feedback...\n"
     ]
    },
    {
     "name": "stderr",
     "output_type": "stream",
     "text": [
      " 17%|█▋        | 1168/6807 [00:08<00:39, 143.78it/s]"
     ]
    }
   ],
   "source": [
    "setSeed(config.seed)\n",
    "data = DataInfo(path.rating)\n",
    "\n",
    "torch.cuda.empty_cache() # if necessary\n",
    "\n",
    "train_dataset = NeuMFDataset(data.df_pos_train)\n",
    "train_loader = DataLoader(train_dataset, batch_size=hyper.batch_size, shuffle=True, drop_last=False)\n",
    "\n",
    "test_dataset = NeuMFDataset(data.df_pos_test)\n",
    "test_loader = DataLoader(test_dataset, batch_size=1, shuffle=False)\n",
    "\n",
    "criterion = nn.BCELoss()"
   ]
  },
  {
   "cell_type": "markdown",
   "metadata": {},
   "source": [
    "## 4.2. GMF 훈련"
   ]
  },
  {
   "cell_type": "code",
   "execution_count": null,
   "metadata": {},
   "outputs": [],
   "source": [
    "GMF_model = GMF(data.num_users, data.num_movies, hyper.latent_dim)\n",
    "GMF_model.to(config.device)\n",
    "GMF_optimizer = torch.optim.Adam(GMF_model.parameters(), lr=hyper.lr)\n",
    "\n",
    "GMF_trainer = Trainer(GMF_model, GMF_optimizer, train_loader, test_loader, hyper.epochs, criterion, config.device, data.user_negative_samples, hyper.num_neg, hyper.topK, path.dir_output, 'GMF')"
   ]
  },
  {
   "cell_type": "markdown",
   "metadata": {},
   "source": [
    "## 4.3. MLP 훈련"
   ]
  },
  {
   "cell_type": "code",
   "execution_count": null,
   "metadata": {},
   "outputs": [],
   "source": [
    "MLP_model = MLP(data.num_users, data.num_movies, hyper.latent_dim, hyper.dropout, hyper.layers)\n",
    "MLP_model.to(config.device)\n",
    "MLP_optimizer = torch.optim.Adam(MLP_model.parameters(), lr=hyper.lr)\n",
    "\n",
    "MLP_trainer = Trainer(MLP_model, MLP_optimizer, train_loader, test_loader, hyper.epochs, criterion, config.device, data.user_negative_samples, hyper.num_neg, hyper.topK, path.dir_output, 'MLP')"
   ]
  },
  {
   "cell_type": "markdown",
   "metadata": {},
   "source": [
    "## 4.4. NeuMF 훈련"
   ]
  },
  {
   "cell_type": "code",
   "execution_count": 15,
   "metadata": {},
   "outputs": [
    {
     "name": "stderr",
     "output_type": "stream",
     "text": [
      "100%|██████████| 20013/20013 [39:54<00:00,  8.36it/s]\n",
      "  0%|          | 0/20013 [00:00<?, ?it/s]"
     ]
    },
    {
     "name": "stdout",
     "output_type": "stream",
     "text": [
      "Epoch[1/3]\ttrain_loss: 0.3065\tHR: 0.6811\tNDCG: 0.4020 \t훈련시간: 2449.82 sec\n",
      "save hr: 0.6811\n"
     ]
    },
    {
     "name": "stderr",
     "output_type": "stream",
     "text": [
      "100%|██████████| 20013/20013 [40:57<00:00,  8.14it/s]\n",
      "  0%|          | 0/20013 [00:00<?, ?it/s]"
     ]
    },
    {
     "name": "stdout",
     "output_type": "stream",
     "text": [
      "Epoch[2/3]\ttrain_loss: 0.2737\tHR: 0.6909\tNDCG: 0.4107 \t훈련시간: 2511.57 sec\n",
      "save hr: 0.6909\n"
     ]
    },
    {
     "name": "stderr",
     "output_type": "stream",
     "text": [
      "100%|██████████| 20013/20013 [39:55<00:00,  8.35it/s]\n"
     ]
    },
    {
     "name": "stdout",
     "output_type": "stream",
     "text": [
      "Epoch[3/3]\ttrain_loss: 0.2671\tHR: 0.6984\tNDCG: 0.4173 \t훈련시간: 2450.20 sec\n",
      "save hr: 0.6984\n"
     ]
    }
   ],
   "source": [
    "best_GMF_model = GMF(data.num_users, data.num_movies, hyper.latent_dim)\n",
    "best_GMF_model.load_state_dict(torch.load(os.path.join(path.dir_output, 'best_HR_GMF.pt')))\n",
    "\n",
    "best_MLP_model = MLP(data.num_users, data.num_movies, hyper.latent_dim, hyper.dropout, hyper.layers)\n",
    "best_MLP_model.load_state_dict(torch.load(os.path.join(path.dir_output, 'best_HR_MLP.pt')))\n",
    "\n",
    "NeuMF_model = NeuMF(best_GMF_model, best_MLP_model, hyper.latent_dim, hyper.layers)\n",
    "NeuMF_model.to(config.device)\n",
    "NeuMF_optimizer = torch.optim.SGD(NeuMF_model.parameters(), lr=hyper.lr) # torch.optim.Adam(NeuMF_model.parameters(), lr=hyper.lr)\n",
    "\n",
    "NeuMF_trainer = Trainer(NeuMF_model, NeuMF_optimizer, train_loader, test_loader, hyper.pretrain_epochs, criterion, config.device, data.user_negative_samples, hyper.num_neg, hyper.topK, path.dir_output, 'NeuMF')"
   ]
  },
  {
   "cell_type": "markdown",
   "metadata": {},
   "source": [
    "# 5. Plost loss, hr, ndcg"
   ]
  },
  {
   "cell_type": "code",
   "execution_count": 16,
   "metadata": {},
   "outputs": [],
   "source": [
    "import matplotlib.pyplot as plt\n",
    "import seaborn as sns"
   ]
  },
  {
   "cell_type": "code",
   "execution_count": 20,
   "metadata": {},
   "outputs": [
    {
     "data": {
      "text/plain": [
       "Text(0.5, 0.98, 'NeuMF')"
      ]
     },
     "execution_count": 20,
     "metadata": {},
     "output_type": "execute_result"
    },
    {
     "data": {
      "image/png": "[encoded data removed]",
      "text/plain": [
       "<Figure size 2160x504 with 3 Axes>"
      ]
     },
     "metadata": {
      "needs_background": "light"
     },
     "output_type": "display_data"
    }
   ],
   "source": [
    "fig, axes = plt.subplots(1, 3, figsize=(30, 7))\n",
    "x_list = [i for i in range(1, hyper.pretrain_epochs+1)]\n",
    "loss_name = ['Loss', 'HitRatio', 'NDCG']\n",
    "all_loss = [NeuMF_trainer.loss_list,NeuMF_trainer.hr_list,NeuMF_trainer.ndcg_list,]\n",
    "\n",
    "for i in range(hyper.pretrain_epochs):\n",
    "    sns.lineplot(\n",
    "        x=x_list, y=all_loss[i],\n",
    "        ax = axes[i]\n",
    "    )\n",
    "\n",
    "    axes[i].set_ylabel(loss_name[i])\n",
    "    axes[i].set_xlabel('Epochs')\n",
    "    axes[i].set_xticks(x_list)\n",
    "\n",
    "fig.suptitle('NeuMF', fontsize=30)"
   ]
  },
  {
   "cell_type": "markdown",
   "metadata": {},
   "source": [
    "# 6. Inference"
   ]
  },
  {
   "cell_type": "code",
   "execution_count": 24,
   "metadata": {},
   "outputs": [
    {
     "data": {
      "text/plain": [
       "NeuMF(\n",
       "  (GMF_embedding_user): Embedding(31360, 16)\n",
       "  (GMF_embedding_item): Embedding(6807, 16)\n",
       "  (MLP_embedding_user): Embedding(31360, 16)\n",
       "  (MLP_embedding_item): Embedding(6807, 16)\n",
       "  (MLP_dense_layers): Sequential(\n",
       "    (0): Dropout(p=0.2, inplace=False)\n",
       "    (1): Linear(in_features=32, out_features=32, bias=True)\n",
       "    (2): ReLU()\n",
       "    (3): Dropout(p=0.2, inplace=False)\n",
       "    (4): Linear(in_features=32, out_features=16, bias=True)\n",
       "    (5): ReLU()\n",
       "    (6): Dropout(p=0.2, inplace=False)\n",
       "    (7): Linear(in_features=16, out_features=8, bias=True)\n",
       "    (8): ReLU()\n",
       "  )\n",
       "  (prediction): Sequential(\n",
       "    (0): Linear(in_features=24, out_features=1, bias=False)\n",
       "    (1): Sigmoid()\n",
       "  )\n",
       ")"
      ]
     },
     "execution_count": 24,
     "metadata": {},
     "output_type": "execute_result"
    }
   ],
   "source": [
    "# model load\n",
    "\n",
    "best_model = NeuMF(GMF_model, MLP_model, hyper.latent_dim, hyper.layers)\n",
    "best_model.load_state_dict(torch.load(os.path.join(path.dir_output, 'best_HR_NeuMF.pt')))\n",
    "\n",
    "best_model.to(config.device)"
   ]
  },
  {
   "cell_type": "code",
   "execution_count": 25,
   "metadata": {},
   "outputs": [],
   "source": [
    "def inference(model, users, negative_samples, topK, device, user_encoder, item_encoder, dir_output):\n",
    "        model.eval()\n",
    "\n",
    "        # columns: user_id\n",
    "        df_item_user = pd.DataFrame(columns=user_encoder.inverse_transform([i for i in range(users)]))\n",
    "        df_item_user.columns.name = 'user'\n",
    "        df_item_user.index.name = 'order'\n",
    "        \n",
    "        with torch.no_grad():\n",
    "            for user in tqdm(range(users)):\n",
    "                neg_items = negative_samples[user]\n",
    "\n",
    "                users, items = user_item_to_tensor(user, neg_items, device)\n",
    "\n",
    "                output = model(users, items)\n",
    "                _, indices = torch.topk(output, dim=0, k=topK)\n",
    "                rank_list = torch.take(items, indices).cpu().numpy().tolist()\n",
    "\n",
    "                origin_user = user_encoder.inverse_transform([user])[0]\n",
    "                origin_items = item_encoder.inverse_transform(rank_list)\n",
    "            \n",
    "                df_item_user[origin_user] = origin_items\n",
    "        \n",
    "        df_prediction = pd.DataFrame(df_item_user.unstack()).reset_index()[['user', 0]]\n",
    "        df_prediction.rename(columns={0: 'item'}, inplace=True)\n",
    "        df_prediction.to_csv(os.path.join(dir_output, 'submission.csv'), index=False)\n",
    "        return df_prediction\n",
    "\n",
    "\n",
    "def user_item_to_tensor(user, negative_items, device):        \n",
    "    users = [user] * len(negative_items)\n",
    "    items = negative_items\n",
    "    \n",
    "    return (\n",
    "        torch.tensor(users).to(torch.int64).to(device), \n",
    "        torch.tensor(items).to(torch.int64).to(device),\n",
    "    )"
   ]
  },
  {
   "cell_type": "code",
   "execution_count": 26,
   "metadata": {},
   "outputs": [
    {
     "name": "stderr",
     "output_type": "stream",
     "text": [
      "100%|██████████| 31360/31360 [01:59<00:00, 262.94it/s]\n"
     ]
    },
    {
     "data": {
      "text/html": [
       "<div>\n",
       "<style scoped>\n",
       "    .dataframe tbody tr th:only-of-type {\n",
       "        vertical-align: middle;\n",
       "    }\n",
       "\n",
       "    .dataframe tbody tr th {\n",
       "        vertical-align: top;\n",
       "    }\n",
       "\n",
       "    .dataframe thead th {\n",
       "        text-align: right;\n",
       "    }\n",
       "</style>\n",
       "<table border=\"1\" class=\"dataframe\">\n",
       "  <thead>\n",
       "    <tr style=\"text-align: right;\">\n",
       "      <th></th>\n",
       "      <th>user</th>\n",
       "      <th>item</th>\n",
       "    </tr>\n",
       "  </thead>\n",
       "  <tbody>\n",
       "    <tr>\n",
       "      <th>0</th>\n",
       "      <td>11</td>\n",
       "      <td>5418</td>\n",
       "    </tr>\n",
       "    <tr>\n",
       "      <th>1</th>\n",
       "      <td>11</td>\n",
       "      <td>4963</td>\n",
       "    </tr>\n",
       "    <tr>\n",
       "      <th>2</th>\n",
       "      <td>11</td>\n",
       "      <td>47</td>\n",
       "    </tr>\n",
       "    <tr>\n",
       "      <th>3</th>\n",
       "      <td>11</td>\n",
       "      <td>32587</td>\n",
       "    </tr>\n",
       "    <tr>\n",
       "      <th>4</th>\n",
       "      <td>11</td>\n",
       "      <td>8961</td>\n",
       "    </tr>\n",
       "    <tr>\n",
       "      <th>...</th>\n",
       "      <td>...</td>\n",
       "      <td>...</td>\n",
       "    </tr>\n",
       "    <tr>\n",
       "      <th>313595</th>\n",
       "      <td>138493</td>\n",
       "      <td>318</td>\n",
       "    </tr>\n",
       "    <tr>\n",
       "      <th>313596</th>\n",
       "      <td>138493</td>\n",
       "      <td>5349</td>\n",
       "    </tr>\n",
       "    <tr>\n",
       "      <th>313597</th>\n",
       "      <td>138493</td>\n",
       "      <td>33794</td>\n",
       "    </tr>\n",
       "    <tr>\n",
       "      <th>313598</th>\n",
       "      <td>138493</td>\n",
       "      <td>2762</td>\n",
       "    </tr>\n",
       "    <tr>\n",
       "      <th>313599</th>\n",
       "      <td>138493</td>\n",
       "      <td>3578</td>\n",
       "    </tr>\n",
       "  </tbody>\n",
       "</table>\n",
       "<p>313600 rows × 2 columns</p>\n",
       "</div>"
      ],
      "text/plain": [
       "          user   item\n",
       "0           11   5418\n",
       "1           11   4963\n",
       "2           11     47\n",
       "3           11  32587\n",
       "4           11   8961\n",
       "...        ...    ...\n",
       "313595  138493    318\n",
       "313596  138493   5349\n",
       "313597  138493  33794\n",
       "313598  138493   2762\n",
       "313599  138493   3578\n",
       "\n",
       "[313600 rows x 2 columns]"
      ]
     },
     "execution_count": 26,
     "metadata": {},
     "output_type": "execute_result"
    }
   ],
   "source": [
    "inference(best_model, data.num_users, data.user_negative_samples, hyper.topK, config.device, data.user_encoder, data.movie_encoder, path.dir_output)"
   ]
  },
  {
   "cell_type": "code",
   "execution_count": null,
   "metadata": {},
   "outputs": [],
   "source": []
  }
 ],
 "metadata": {
  "interpreter": {
   "hash": "d4d1e4263499bec80672ea0156c357c1ee493ec2b1c70f0acce89fc37c4a6abe"
  },
  "kernelspec": {
   "display_name": "Python 3 (ipykernel)",
   "language": "python",
   "name": "python3"
  },
  "language_info": {
   "codemirror_mode": {
    "name": "ipython",
    "version": 3
   },
   "file_extension": ".py",
   "mimetype": "text/x-python",
   "name": "python",
   "nbconvert_exporter": "python",
   "pygments_lexer": "ipython3",
   "version": "3.8.5"
  }
 },
 "nbformat": 4,
 "nbformat_minor": 4
}
