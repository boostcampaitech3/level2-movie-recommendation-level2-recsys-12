{
 "cells": [
  {
   "cell_type": "code",
   "execution_count": 1,
   "metadata": {},
   "outputs": [],
   "source": [
    "import pandas as pd\n",
    "from tqdm import tqdm\n",
    "import numpy as np"
   ]
  },
  {
   "cell_type": "code",
   "execution_count": 2,
   "metadata": {},
   "outputs": [],
   "source": [
    "df_1 = pd.read_csv('output.csv')\n",
    "df_2 = pd.read_csv('submission_Caser_recall.csv')"
   ]
  },
  {
   "cell_type": "code",
   "execution_count": 3,
   "metadata": {},
   "outputs": [],
   "source": [
    "users = df_1['user'].unique().tolist()"
   ]
  },
  {
   "cell_type": "code",
   "execution_count": 4,
   "metadata": {},
   "outputs": [],
   "source": [
    "dict_target = {\n",
    "    'user': list(),\n",
    "    'item': list(),\n",
    "}"
   ]
  },
  {
   "cell_type": "code",
   "execution_count": 5,
   "metadata": {},
   "outputs": [],
   "source": [
    "def get_item(df, user, num_extract):\n",
    "    return df[df['user']==user]['item'].to_numpy()[:num_extract]"
   ]
  },
  {
   "cell_type": "code",
   "execution_count": 6,
   "metadata": {},
   "outputs": [
    {
     "name": "stderr",
     "output_type": "stream",
     "text": [
      "100%|██████████| 31360/31360 [00:41<00:00, 748.46it/s]\n"
     ]
    }
   ],
   "source": [
    "topK = 10\n",
    "num_least = 3\n",
    "for user in tqdm(users):\n",
    "    item_1 = df_1[df_1['user']==user]['item'].to_numpy() # 성능이 더 좋은 csv\n",
    "    item_2 = df_2[df_2['user']==user]['item'].to_numpy()\n",
    "\n",
    "    common = np.intersect1d(item_1, item_2)\n",
    "    left_item_1 = np.setdiff1d(item_1, common)\n",
    "    left_item_2 = np.setdiff1d(item_2, common)\n",
    "\n",
    "    num_need = topK - len(common) \n",
    "    \n",
    "    # 성능이 좋지 않은 csv(item_2)는 max(common, num_least)만큼만 포함한다.\n",
    "    if len(common) > num_least:\n",
    "        len_item_2 = 0\n",
    "    else:\n",
    "        len_item_2 = num_least - len(common)\n",
    "        \n",
    "    len_item_1 = topK - len(common) - len_item_2\n",
    "    \n",
    "    \n",
    "    if len_item_2 > 0:\n",
    "        items = np.concatenate((common, left_item_1[:len_item_1], left_item_2[:len_item_2]))\n",
    "    else:\n",
    "        items = np.concatenate((common, left_item_1[:len_item_1]))\n",
    "    \n",
    "    assert len(items) == 10, \"concatenate error\"\n",
    "    \n",
    "    dict_target['user'].extend([user]*10)\n",
    "    dict_target['item'].extend(items)"
   ]
  },
  {
   "cell_type": "code",
   "execution_count": 7,
   "metadata": {},
   "outputs": [],
   "source": [
    "df_target = pd.DataFrame(dict_target)"
   ]
  },
  {
   "cell_type": "code",
   "execution_count": 8,
   "metadata": {},
   "outputs": [],
   "source": [
    "df_target.to_csv('ensemble.csv', index=False)"
   ]
  },
  {
   "cell_type": "code",
   "execution_count": null,
   "metadata": {},
   "outputs": [],
   "source": []
  }
 ],
 "metadata": {
  "interpreter": {
   "hash": "d4d1e4263499bec80672ea0156c357c1ee493ec2b1c70f0acce89fc37c4a6abe"
  },
  "kernelspec": {
   "display_name": "Python 3 (ipykernel)",
   "language": "python",
   "name": "python3"
  },
  "language_info": {
   "codemirror_mode": {
    "name": "ipython",
    "version": 3
   },
   "file_extension": ".py",
   "mimetype": "text/x-python",
   "name": "python",
   "nbconvert_exporter": "python",
   "pygments_lexer": "ipython3",
   "version": "3.8.5"
  }
 },
 "nbformat": 4,
 "nbformat_minor": 4
}
