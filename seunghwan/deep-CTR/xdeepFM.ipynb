{
 "cells": [
  {
   "cell_type": "code",
   "execution_count": 1,
   "id": "5c1b946c-920b-420a-b250-e472dc69d809",
   "metadata": {},
   "outputs": [
    {
     "name": "stderr",
     "output_type": "stream",
     "text": [
      "2022-04-14 00:42:30.939354: W tensorflow/stream_executor/platform/default/dso_loader.cc:64] Could not load dynamic library 'libcudart.so.11.0'; dlerror: libcudart.so.11.0: cannot open shared object file: No such file or directory; LD_LIBRARY_PATH: /usr/local/nvidia/lib:/usr/local/nvidia/lib64\n",
      "2022-04-14 00:42:30.939422: I tensorflow/stream_executor/cuda/cudart_stub.cc:29] Ignore above cudart dlerror if you do not have a GPU set up on your machine.\n"
     ]
    }
   ],
   "source": [
    "import pandas as pd\n",
    "import numpy as np\n",
    "from tqdm import tqdm\n",
    "\n",
    "from sklearn.metrics import log_loss, roc_auc_score\n",
    "from sklearn.model_selection import train_test_split\n",
    "from sklearn.preprocessing import LabelEncoder, MinMaxScaler\n",
    "\n",
    "from deepctr_torch.inputs import SparseFeat, DenseFeat, VarLenSparseFeat,  get_feature_names\n",
    "from deepctr_torch.models import *\n",
    "from keras.preprocessing.sequence import pad_sequences\n",
    "\n",
    "import torch"
   ]
  },
  {
   "cell_type": "markdown",
   "id": "3b7a77b9-6543-43c3-b027-b2f1ff3b281f",
   "metadata": {},
   "source": [
    "## Load data"
   ]
  },
  {
   "cell_type": "code",
   "execution_count": 2,
   "id": "b17dcf56-7277-4765-9caf-362dc6152dfb",
   "metadata": {},
   "outputs": [
    {
     "data": {
      "text/html": [
       "<div>\n",
       "<style scoped>\n",
       "    .dataframe tbody tr th:only-of-type {\n",
       "        vertical-align: middle;\n",
       "    }\n",
       "\n",
       "    .dataframe tbody tr th {\n",
       "        vertical-align: top;\n",
       "    }\n",
       "\n",
       "    .dataframe thead th {\n",
       "        text-align: right;\n",
       "    }\n",
       "</style>\n",
       "<table border=\"1\" class=\"dataframe\">\n",
       "  <thead>\n",
       "    <tr style=\"text-align: right;\">\n",
       "      <th></th>\n",
       "      <th>user</th>\n",
       "      <th>item</th>\n",
       "      <th>rating</th>\n",
       "    </tr>\n",
       "  </thead>\n",
       "  <tbody>\n",
       "    <tr>\n",
       "      <th>0</th>\n",
       "      <td>11</td>\n",
       "      <td>4643</td>\n",
       "      <td>1.0</td>\n",
       "    </tr>\n",
       "    <tr>\n",
       "      <th>1</th>\n",
       "      <td>11</td>\n",
       "      <td>170</td>\n",
       "      <td>1.0</td>\n",
       "    </tr>\n",
       "    <tr>\n",
       "      <th>2</th>\n",
       "      <td>11</td>\n",
       "      <td>531</td>\n",
       "      <td>1.0</td>\n",
       "    </tr>\n",
       "    <tr>\n",
       "      <th>3</th>\n",
       "      <td>11</td>\n",
       "      <td>616</td>\n",
       "      <td>1.0</td>\n",
       "    </tr>\n",
       "    <tr>\n",
       "      <th>4</th>\n",
       "      <td>11</td>\n",
       "      <td>2140</td>\n",
       "      <td>1.0</td>\n",
       "    </tr>\n",
       "    <tr>\n",
       "      <th>...</th>\n",
       "      <td>...</td>\n",
       "      <td>...</td>\n",
       "      <td>...</td>\n",
       "    </tr>\n",
       "    <tr>\n",
       "      <th>5154466</th>\n",
       "      <td>138493</td>\n",
       "      <td>44022</td>\n",
       "      <td>1.0</td>\n",
       "    </tr>\n",
       "    <tr>\n",
       "      <th>5154467</th>\n",
       "      <td>138493</td>\n",
       "      <td>4958</td>\n",
       "      <td>1.0</td>\n",
       "    </tr>\n",
       "    <tr>\n",
       "      <th>5154468</th>\n",
       "      <td>138493</td>\n",
       "      <td>68319</td>\n",
       "      <td>1.0</td>\n",
       "    </tr>\n",
       "    <tr>\n",
       "      <th>5154469</th>\n",
       "      <td>138493</td>\n",
       "      <td>40819</td>\n",
       "      <td>1.0</td>\n",
       "    </tr>\n",
       "    <tr>\n",
       "      <th>5154470</th>\n",
       "      <td>138493</td>\n",
       "      <td>27311</td>\n",
       "      <td>1.0</td>\n",
       "    </tr>\n",
       "  </tbody>\n",
       "</table>\n",
       "<p>5154471 rows × 3 columns</p>\n",
       "</div>"
      ],
      "text/plain": [
       "           user   item  rating\n",
       "0            11   4643     1.0\n",
       "1            11    170     1.0\n",
       "2            11    531     1.0\n",
       "3            11    616     1.0\n",
       "4            11   2140     1.0\n",
       "...         ...    ...     ...\n",
       "5154466  138493  44022     1.0\n",
       "5154467  138493   4958     1.0\n",
       "5154468  138493  68319     1.0\n",
       "5154469  138493  40819     1.0\n",
       "5154470  138493  27311     1.0\n",
       "\n",
       "[5154471 rows x 3 columns]"
      ]
     },
     "execution_count": 2,
     "metadata": {},
     "output_type": "execute_result"
    }
   ],
   "source": [
    "rating_data = \"/opt/ml/input/data/train/train_ratings.csv\"\n",
    "\n",
    "raw_rating_df = pd.read_csv(rating_data)\n",
    "raw_rating_df\n",
    "raw_rating_df['rating'] = 1.0\n",
    "raw_rating_df.drop(['time'],axis=1,inplace=True)\n",
    "\n",
    "users = set(raw_rating_df.loc[:, 'user'])\n",
    "items = set(raw_rating_df.loc[:, 'item'])\n",
    "\n",
    "\n",
    "raw_rating_df"
   ]
  },
  {
   "cell_type": "markdown",
   "id": "60b27aab-b52d-43b8-bccb-d731252cb79f",
   "metadata": {},
   "source": [
    "## Negative sampling"
   ]
  },
  {
   "cell_type": "code",
   "execution_count": 3,
   "id": "2da7b9cd-fec5-4ce3-99c4-c0d0535fd086",
   "metadata": {},
   "outputs": [
    {
     "name": "stdout",
     "output_type": "stream",
     "text": [
      "Create Nagetive instances\n"
     ]
    },
    {
     "name": "stderr",
     "output_type": "stream",
     "text": [
      "100%|██████████| 31360/31360 [06:04<00:00, 85.94it/s] \n"
     ]
    }
   ],
   "source": [
    "print(\"Create Nagetive instances\")\n",
    "num_negative = 50\n",
    "user_group_dfs = list(raw_rating_df.groupby('user')['item'])\n",
    "first_row = True\n",
    "user_neg_dfs = pd.DataFrame()\n",
    "\n",
    "for u, u_items in tqdm(user_group_dfs):\n",
    "    u_items = set(u_items)\n",
    "    i_user_neg_item = np.random.choice(list(items - u_items), num_negative, replace=False)\n",
    "    \n",
    "    i_user_neg_df = pd.DataFrame({'user': [u]*num_negative, 'item': i_user_neg_item, 'rating': [0]*num_negative})\n",
    "    if first_row == True:\n",
    "        user_neg_dfs = i_user_neg_df\n",
    "        first_row = False\n",
    "    else:\n",
    "        user_neg_dfs = pd.concat([user_neg_dfs, i_user_neg_df], axis = 0, sort=False)\n",
    "\n",
    "raw_rating_df = pd.concat([raw_rating_df, user_neg_dfs], axis = 0, sort=False)"
   ]
  },
  {
   "cell_type": "markdown",
   "id": "d47486a2-f012-473b-9dea-c22aa259c64d",
   "metadata": {},
   "source": [
    "## Label encoder"
   ]
  },
  {
   "cell_type": "code",
   "execution_count": 4,
   "id": "743cd0ca-e4c7-478a-a428-5f81e0ef8cc1",
   "metadata": {},
   "outputs": [],
   "source": [
    "user_encoder = LabelEncoder()\n",
    "item_encoder = LabelEncoder()\n",
    "\n",
    "raw_rating_df['user'] = user_encoder.fit_transform(raw_rating_df['user'])\n",
    "raw_rating_df['item'] = item_encoder.fit_transform(raw_rating_df['item'])"
   ]
  },
  {
   "cell_type": "markdown",
   "id": "fc2d2bb7-d961-4e2d-9aca-e3ca1fb5579b",
   "metadata": {},
   "source": [
    "## Load_genres"
   ]
  },
  {
   "cell_type": "code",
   "execution_count": 5,
   "id": "52d9bcad-145f-4e2d-95b1-3a71c64942bc",
   "metadata": {},
   "outputs": [],
   "source": [
    "genres = pd.read_csv(\"/opt/ml/input/data/train/genres.tsv\", sep=\"\\t\")\n",
    "genres['item'] = item_encoder.transform(genres['item'])"
   ]
  },
  {
   "cell_type": "code",
   "execution_count": 6,
   "id": "6b0a67f7-b24a-4f7f-9178-372b64bd1563",
   "metadata": {},
   "outputs": [],
   "source": [
    "years = pd.read_csv(\"/opt/ml/input/data/train/years_new.tsv\", sep=\"\\t\")\n",
    "years['item'] = item_encoder.transform(years['item'])\n",
    "years['year'] = (years['year'] - min(years['year'])) / max(years['year'])"
   ]
  },
  {
   "cell_type": "code",
   "execution_count": 7,
   "id": "7659c87d-7570-4da2-aa80-762f40bfcb26",
   "metadata": {},
   "outputs": [],
   "source": [
    "directors = pd.read_csv(\"/opt/ml/input/data/train/directors.tsv\", sep=\"\\t\")\n",
    "directors['item'] = item_encoder.transform(directors['item'])"
   ]
  },
  {
   "cell_type": "code",
   "execution_count": 8,
   "id": "cb208d3e-97d6-4c96-ba42-6363c44dddee",
   "metadata": {},
   "outputs": [],
   "source": [
    "genre_dict = dict()\n",
    "for _, (item, genre) in genres.iterrows() :\n",
    "    if genre_dict.get(item) : genre_dict[item] = genre_dict[item] + '|' + genre\n",
    "    else : genre_dict[item] = genre"
   ]
  },
  {
   "cell_type": "code",
   "execution_count": 11,
   "id": "2f342c4e-0441-49fe-9f20-e95edcf41daf",
   "metadata": {},
   "outputs": [],
   "source": [
    "genres = pd.DataFrame(list(genre_dict.items()), columns=['item', 'genres'])"
   ]
  },
  {
   "cell_type": "code",
   "execution_count": 12,
   "id": "acb6005e-5e74-4def-bc58-c9f3d83069f8",
   "metadata": {},
   "outputs": [],
   "source": [
    "temp = pd.merge(raw_rating_df, genres, how='inner', left_on='item', right_on='item')\n",
    "temp = pd.merge(temp, years, how='inner', left_on='item', right_on='item')\n",
    "data = temp"
   ]
  },
  {
   "cell_type": "code",
   "execution_count": 13,
   "id": "692b4e55-fd90-48ef-9823-43fc5cf22d75",
   "metadata": {},
   "outputs": [
    {
     "data": {
      "text/html": [
       "<div>\n",
       "<style scoped>\n",
       "    .dataframe tbody tr th:only-of-type {\n",
       "        vertical-align: middle;\n",
       "    }\n",
       "\n",
       "    .dataframe tbody tr th {\n",
       "        vertical-align: top;\n",
       "    }\n",
       "\n",
       "    .dataframe thead th {\n",
       "        text-align: right;\n",
       "    }\n",
       "</style>\n",
       "<table border=\"1\" class=\"dataframe\">\n",
       "  <thead>\n",
       "    <tr style=\"text-align: right;\">\n",
       "      <th></th>\n",
       "      <th>user</th>\n",
       "      <th>item</th>\n",
       "      <th>rating</th>\n",
       "      <th>genres</th>\n",
       "      <th>year</th>\n",
       "    </tr>\n",
       "  </thead>\n",
       "  <tbody>\n",
       "    <tr>\n",
       "      <th>0</th>\n",
       "      <td>0</td>\n",
       "      <td>2505</td>\n",
       "      <td>1.0</td>\n",
       "      <td>Action|Adventure|Drama|Sci-Fi</td>\n",
       "      <td>0.049132</td>\n",
       "    </tr>\n",
       "    <tr>\n",
       "      <th>1</th>\n",
       "      <td>39</td>\n",
       "      <td>2505</td>\n",
       "      <td>1.0</td>\n",
       "      <td>Action|Adventure|Drama|Sci-Fi</td>\n",
       "      <td>0.049132</td>\n",
       "    </tr>\n",
       "    <tr>\n",
       "      <th>2</th>\n",
       "      <td>66</td>\n",
       "      <td>2505</td>\n",
       "      <td>1.0</td>\n",
       "      <td>Action|Adventure|Drama|Sci-Fi</td>\n",
       "      <td>0.049132</td>\n",
       "    </tr>\n",
       "    <tr>\n",
       "      <th>3</th>\n",
       "      <td>85</td>\n",
       "      <td>2505</td>\n",
       "      <td>1.0</td>\n",
       "      <td>Action|Adventure|Drama|Sci-Fi</td>\n",
       "      <td>0.049132</td>\n",
       "    </tr>\n",
       "    <tr>\n",
       "      <th>4</th>\n",
       "      <td>95</td>\n",
       "      <td>2505</td>\n",
       "      <td>1.0</td>\n",
       "      <td>Action|Adventure|Drama|Sci-Fi</td>\n",
       "      <td>0.049132</td>\n",
       "    </tr>\n",
       "    <tr>\n",
       "      <th>...</th>\n",
       "      <td>...</td>\n",
       "      <td>...</td>\n",
       "      <td>...</td>\n",
       "      <td>...</td>\n",
       "      <td>...</td>\n",
       "    </tr>\n",
       "    <tr>\n",
       "      <th>6722466</th>\n",
       "      <td>30889</td>\n",
       "      <td>6630</td>\n",
       "      <td>0.0</td>\n",
       "      <td>Action|Adventure|Sci-Fi</td>\n",
       "      <td>0.055087</td>\n",
       "    </tr>\n",
       "    <tr>\n",
       "      <th>6722467</th>\n",
       "      <td>31008</td>\n",
       "      <td>6630</td>\n",
       "      <td>0.0</td>\n",
       "      <td>Action|Adventure|Sci-Fi</td>\n",
       "      <td>0.055087</td>\n",
       "    </tr>\n",
       "    <tr>\n",
       "      <th>6722468</th>\n",
       "      <td>31057</td>\n",
       "      <td>6630</td>\n",
       "      <td>0.0</td>\n",
       "      <td>Action|Adventure|Sci-Fi</td>\n",
       "      <td>0.055087</td>\n",
       "    </tr>\n",
       "    <tr>\n",
       "      <th>6722469</th>\n",
       "      <td>31297</td>\n",
       "      <td>6630</td>\n",
       "      <td>0.0</td>\n",
       "      <td>Action|Adventure|Sci-Fi</td>\n",
       "      <td>0.055087</td>\n",
       "    </tr>\n",
       "    <tr>\n",
       "      <th>6722470</th>\n",
       "      <td>31359</td>\n",
       "      <td>6630</td>\n",
       "      <td>0.0</td>\n",
       "      <td>Action|Adventure|Sci-Fi</td>\n",
       "      <td>0.055087</td>\n",
       "    </tr>\n",
       "  </tbody>\n",
       "</table>\n",
       "<p>6722471 rows × 5 columns</p>\n",
       "</div>"
      ],
      "text/plain": [
       "          user  item  rating                         genres      year\n",
       "0            0  2505     1.0  Action|Adventure|Drama|Sci-Fi  0.049132\n",
       "1           39  2505     1.0  Action|Adventure|Drama|Sci-Fi  0.049132\n",
       "2           66  2505     1.0  Action|Adventure|Drama|Sci-Fi  0.049132\n",
       "3           85  2505     1.0  Action|Adventure|Drama|Sci-Fi  0.049132\n",
       "4           95  2505     1.0  Action|Adventure|Drama|Sci-Fi  0.049132\n",
       "...        ...   ...     ...                            ...       ...\n",
       "6722466  30889  6630     0.0        Action|Adventure|Sci-Fi  0.055087\n",
       "6722467  31008  6630     0.0        Action|Adventure|Sci-Fi  0.055087\n",
       "6722468  31057  6630     0.0        Action|Adventure|Sci-Fi  0.055087\n",
       "6722469  31297  6630     0.0        Action|Adventure|Sci-Fi  0.055087\n",
       "6722470  31359  6630     0.0        Action|Adventure|Sci-Fi  0.055087\n",
       "\n",
       "[6722471 rows x 5 columns]"
      ]
     },
     "execution_count": 13,
     "metadata": {},
     "output_type": "execute_result"
    }
   ],
   "source": [
    "data"
   ]
  },
  {
   "cell_type": "code",
   "execution_count": 14,
   "id": "4d792d23-b84f-412d-bca0-a28b44a53101",
   "metadata": {},
   "outputs": [],
   "source": [
    "def split(x):\n",
    "    key_ans = x.split('|')\n",
    "    for key in key_ans:\n",
    "        if key not in key2index:\n",
    "            # Notice : input value 0 is a special \"padding\",so we do not use 0 to encode valid feature for sequence input\n",
    "            key2index[key] = len(key2index) + 1\n",
    "    return list(map(lambda x: key2index[x], key_ans))"
   ]
  },
  {
   "cell_type": "code",
   "execution_count": 15,
   "id": "cd1e198f-b925-4717-aabf-43e66d56cb22",
   "metadata": {},
   "outputs": [],
   "source": [
    "sparse_features = [\"user\", \"item\"]\n",
    "dense_features = [\"year\"]\n",
    "target = ['rating']\n",
    "\n",
    "# 1.Label Encoding for sparse features,and process sequence features\n",
    "\n",
    "key2index = {}\n",
    "genres_list = list(map(split, data['genres'].values))\n",
    "genres_length = np.array(list(map(len, genres_list)))\n",
    "max_len = max(genres_length)\n",
    "# Notice : padding=`post`\n",
    "genres_list = pad_sequences(genres_list, maxlen=max_len, padding='post', )"
   ]
  },
  {
   "cell_type": "code",
   "execution_count": 16,
   "id": "54ce21d0-2148-4622-8743-1fe90f4a91c8",
   "metadata": {},
   "outputs": [],
   "source": [
    "fixlen_feature_columns = [SparseFeat(feat, data[feat].nunique(), embedding_dim=4)\n",
    "                          for feat in sparse_features] + [DenseFeat(feat, 1, ) for feat in dense_features]\n",
    "\n",
    "varlen_feature_columns = [VarLenSparseFeat(SparseFeat('genres', vocabulary_size=len(\n",
    "    key2index) + 1, embedding_dim=4), maxlen=max_len, combiner='mean')]  # Notice : value 0 is for padding for sequence input feature\n",
    "\n",
    "linear_feature_columns = fixlen_feature_columns + varlen_feature_columns\n",
    "dnn_feature_columns = fixlen_feature_columns + varlen_feature_columns\n",
    "\n",
    "feature_names = get_feature_names(linear_feature_columns + dnn_feature_columns)\n",
    "\n",
    "model_input = {name: data[name] for name in feature_names} \n",
    "model_input[\"genres\"] = genres_list"
   ]
  },
  {
   "cell_type": "code",
   "execution_count": 25,
   "id": "b80900ad-d042-4295-a82c-e836f4123b03",
   "metadata": {},
   "outputs": [
    {
     "data": {
      "text/plain": [
       "0              0\n",
       "1             39\n",
       "2             66\n",
       "3             85\n",
       "4             95\n",
       "           ...  \n",
       "6722466    30889\n",
       "6722467    31008\n",
       "6722468    31057\n",
       "6722469    31297\n",
       "6722470    31359\n",
       "Name: user, Length: 6722471, dtype: int64"
      ]
     },
     "execution_count": 25,
     "metadata": {},
     "output_type": "execute_result"
    }
   ],
   "source": [
    "model_input['user']"
   ]
  },
  {
   "cell_type": "markdown",
   "id": "d3d92479-8c61-40cb-bdb9-86cffebbb690",
   "metadata": {
    "tags": []
   },
   "source": [
    "device = 'cpu'\n",
    "use_cuda = True\n",
    "if use_cuda and torch.cuda.is_available():\n",
    "    print('cuda ready...')\n",
    "    device = 'cuda:0'\n",
    "\n",
    "model = DeepFM(linear_feature_columns, dnn_feature_columns, task='binary', l2_reg_embedding=1e-5, device=device)\n",
    "\n",
    "model.compile(\"adam\", \"binary_crossentropy\", metrics=['binary_crossentropy'], )\n",
    "history = model.fit(model_input,data[target].values,batch_size=256,epochs=10,verbose=2,validation_split=0.2)"
   ]
  },
  {
   "cell_type": "markdown",
   "id": "a31d9740-f979-44af-ae68-6befc624a51c",
   "metadata": {},
   "source": [
    "device = 'cpu'\n",
    "use_cuda = True\n",
    "if use_cuda and torch.cuda.is_available():\n",
    "    print('cuda ready...')\n",
    "    device = 'cuda:0'\n",
    "\n",
    "xmodel = xDeepFM(linear_feature_columns, dnn_feature_columns, task='binary', l2_reg_embedding=1e-5, device=device)\n",
    "\n",
    "xmodel.compile(\"adam\", \"binary_crossentropy\", metrics=['binary_crossentropy'], )\n",
    "history = xmodel.fit(model_input,data[target].values,batch_size=256,epochs=10,verbose=2,validation_split=0.2)"
   ]
  },
  {
   "cell_type": "markdown",
   "id": "af1c41f7-af26-4dd4-b5be-9d71a4e8ec9a",
   "metadata": {},
   "source": [
    "## NMF(Best)"
   ]
  },
  {
   "cell_type": "code",
   "execution_count": 17,
   "id": "e25e4e00-9227-4c20-96c1-693064a4107b",
   "metadata": {},
   "outputs": [
    {
     "name": "stdout",
     "output_type": "stream",
     "text": [
      "cuda ready...\n"
     ]
    }
   ],
   "source": [
    "device = 'cpu'\n",
    "use_cuda = True\n",
    "if use_cuda and torch.cuda.is_available():\n",
    "    print('cuda ready...')\n",
    "    device = 'cuda:0'\n",
    "\n",
    "xmodel = NFM(linear_feature_columns, dnn_feature_columns, task='binary', l2_reg_embedding=1e-5, device=device)\n",
    "\n",
    "xmodel.compile(\"adam\", \"binary_crossentropy\", metrics=['binary_crossentropy'], )\n",
    "# history = xmodel.fit(model_input,data[target].values,batch_size=256,epochs=7,verbose=2,validation_split=0.2)"
   ]
  },
  {
   "cell_type": "markdown",
   "id": "6d42aacf-92b4-405d-bf36-85cda5aa5bf7",
   "metadata": {
    "tags": []
   },
   "source": [
    "## Inference"
   ]
  },
  {
   "cell_type": "code",
   "execution_count": 18,
   "id": "d895562a-9f45-4cfb-89f8-8ed327a177ed",
   "metadata": {},
   "outputs": [
    {
     "data": {
      "text/plain": [
       "<All keys matched successfully>"
      ]
     },
     "execution_count": 18,
     "metadata": {},
     "output_type": "execute_result"
    }
   ],
   "source": [
    "xmodel.load_state_dict(torch.load('./NFM_state_dict.pt'))"
   ]
  },
  {
   "cell_type": "code",
   "execution_count": 19,
   "id": "b21657ba-e4ee-463b-a46d-44fb465c00dd",
   "metadata": {},
   "outputs": [],
   "source": [
    "table = raw_rating_df.pivot_table(values='rating', index='item', columns='user').fillna(0.0).unstack()"
   ]
  },
  {
   "cell_type": "code",
   "execution_count": 20,
   "id": "00d05985-752f-46ca-8fdd-606116fc5d0c",
   "metadata": {},
   "outputs": [],
   "source": [
    "data = pd.DataFrame(table)\n",
    "data.reset_index(inplace=True)\n",
    "data = data.rename(columns={0:'rating'})"
   ]
  },
  {
   "cell_type": "code",
   "execution_count": 21,
   "id": "e9a68d76-a386-40b9-987a-247a7f7188c6",
   "metadata": {},
   "outputs": [],
   "source": [
    "data.drop(data[data['rating']==1.0].index, inplace=True)"
   ]
  },
  {
   "cell_type": "code",
   "execution_count": 27,
   "id": "75f5e865-8014-4ddc-8589-44c648b6c959",
   "metadata": {},
   "outputs": [],
   "source": [
    "temp = pd.merge(data, genres, how='inner', left_on='item', right_on='item')\n",
    "temp = pd.merge(temp, years, how='inner', left_on='item', right_on='item')\n",
    "data = temp"
   ]
  },
  {
   "cell_type": "code",
   "execution_count": 30,
   "id": "52441bcb-12fd-4680-a562-2942ad2b7533",
   "metadata": {},
   "outputs": [],
   "source": [
    "data = data.sort_values(['user', 'item'])"
   ]
  },
  {
   "cell_type": "code",
   "execution_count": 31,
   "id": "f831a045-d8d6-4d47-ac22-0738dbc44ce5",
   "metadata": {},
   "outputs": [
    {
     "data": {
      "text/html": [
       "<div>\n",
       "<style scoped>\n",
       "    .dataframe tbody tr th:only-of-type {\n",
       "        vertical-align: middle;\n",
       "    }\n",
       "\n",
       "    .dataframe tbody tr th {\n",
       "        vertical-align: top;\n",
       "    }\n",
       "\n",
       "    .dataframe thead th {\n",
       "        text-align: right;\n",
       "    }\n",
       "</style>\n",
       "<table border=\"1\" class=\"dataframe\">\n",
       "  <thead>\n",
       "    <tr style=\"text-align: right;\">\n",
       "      <th></th>\n",
       "      <th>user</th>\n",
       "      <th>item</th>\n",
       "      <th>rating</th>\n",
       "      <th>genres</th>\n",
       "      <th>year</th>\n",
       "    </tr>\n",
       "  </thead>\n",
       "  <tbody>\n",
       "    <tr>\n",
       "      <th>0</th>\n",
       "      <td>0</td>\n",
       "      <td>1</td>\n",
       "      <td>0.0</td>\n",
       "      <td>Adventure|Children|Fantasy</td>\n",
       "      <td>0.046154</td>\n",
       "    </tr>\n",
       "    <tr>\n",
       "      <th>27996</th>\n",
       "      <td>0</td>\n",
       "      <td>2</td>\n",
       "      <td>0.0</td>\n",
       "      <td>Comedy|Romance</td>\n",
       "      <td>0.046154</td>\n",
       "    </tr>\n",
       "    <tr>\n",
       "      <th>58622</th>\n",
       "      <td>0</td>\n",
       "      <td>3</td>\n",
       "      <td>0.0</td>\n",
       "      <td>Comedy|Drama|Romance</td>\n",
       "      <td>0.046154</td>\n",
       "    </tr>\n",
       "    <tr>\n",
       "      <th>89939</th>\n",
       "      <td>0</td>\n",
       "      <td>4</td>\n",
       "      <td>0.0</td>\n",
       "      <td>Comedy</td>\n",
       "      <td>0.046154</td>\n",
       "    </tr>\n",
       "    <tr>\n",
       "      <th>120709</th>\n",
       "      <td>0</td>\n",
       "      <td>5</td>\n",
       "      <td>0.0</td>\n",
       "      <td>Action|Crime|Thriller</td>\n",
       "      <td>0.046154</td>\n",
       "    </tr>\n",
       "    <tr>\n",
       "      <th>...</th>\n",
       "      <td>...</td>\n",
       "      <td>...</td>\n",
       "      <td>...</td>\n",
       "      <td>...</td>\n",
       "      <td>...</td>\n",
       "    </tr>\n",
       "    <tr>\n",
       "      <th>197795036</th>\n",
       "      <td>31359</td>\n",
       "      <td>6802</td>\n",
       "      <td>0.0</td>\n",
       "      <td>Drama</td>\n",
       "      <td>0.055583</td>\n",
       "    </tr>\n",
       "    <tr>\n",
       "      <th>197826336</th>\n",
       "      <td>31359</td>\n",
       "      <td>6803</td>\n",
       "      <td>0.0</td>\n",
       "      <td>Drama</td>\n",
       "      <td>0.055583</td>\n",
       "    </tr>\n",
       "    <tr>\n",
       "      <th>197857644</th>\n",
       "      <td>31359</td>\n",
       "      <td>6804</td>\n",
       "      <td>0.0</td>\n",
       "      <td>Children|Comedy|Fantasy|Musical</td>\n",
       "      <td>0.055583</td>\n",
       "    </tr>\n",
       "    <tr>\n",
       "      <th>197888882</th>\n",
       "      <td>31359</td>\n",
       "      <td>6805</td>\n",
       "      <td>0.0</td>\n",
       "      <td>Action|Comedy</td>\n",
       "      <td>0.055583</td>\n",
       "    </tr>\n",
       "    <tr>\n",
       "      <th>197920164</th>\n",
       "      <td>31359</td>\n",
       "      <td>6806</td>\n",
       "      <td>0.0</td>\n",
       "      <td>Action|Adventure|Comedy|Crime</td>\n",
       "      <td>0.056079</td>\n",
       "    </tr>\n",
       "  </tbody>\n",
       "</table>\n",
       "<p>208313049 rows × 5 columns</p>\n",
       "</div>"
      ],
      "text/plain": [
       "            user  item  rating                           genres      year\n",
       "0              0     1     0.0       Adventure|Children|Fantasy  0.046154\n",
       "27996          0     2     0.0                   Comedy|Romance  0.046154\n",
       "58622          0     3     0.0             Comedy|Drama|Romance  0.046154\n",
       "89939          0     4     0.0                           Comedy  0.046154\n",
       "120709         0     5     0.0            Action|Crime|Thriller  0.046154\n",
       "...          ...   ...     ...                              ...       ...\n",
       "197795036  31359  6802     0.0                            Drama  0.055583\n",
       "197826336  31359  6803     0.0                            Drama  0.055583\n",
       "197857644  31359  6804     0.0  Children|Comedy|Fantasy|Musical  0.055583\n",
       "197888882  31359  6805     0.0                    Action|Comedy  0.055583\n",
       "197920164  31359  6806     0.0    Action|Adventure|Comedy|Crime  0.056079\n",
       "\n",
       "[208313049 rows x 5 columns]"
      ]
     },
     "execution_count": 31,
     "metadata": {},
     "output_type": "execute_result"
    }
   ],
   "source": [
    "data"
   ]
  },
  {
   "cell_type": "code",
   "execution_count": 32,
   "id": "7a4700f4-861e-462f-9b46-bbde642e82a1",
   "metadata": {},
   "outputs": [],
   "source": [
    "sparse_predicttures = [\"user\", \"item\"]\n",
    "dense_features = [\"year\"]\n",
    "target = ['rating']\n",
    "\n",
    "# 1.Label Encoding for sparse features,and process sequence features\n",
    "\n",
    "key2index = {}\n",
    "genres_list = list(map(split, data['genres'].values))\n",
    "genres_length = np.array(list(map(len, genres_list)))\n",
    "max_len = max(genres_length)\n",
    "# Notice : padding=`post`\n",
    "genres_list = pad_sequences(genres_list, maxlen=max_len, padding='post', )"
   ]
  },
  {
   "cell_type": "code",
   "execution_count": 33,
   "id": "bce94557-483c-4dd6-b372-291e8dcfcec4",
   "metadata": {},
   "outputs": [],
   "source": [
    "fixlen_feature_columns = [SparseFeat(feat, data[feat].nunique(), embedding_dim=4)\n",
    "                          for feat in sparse_features] + [DenseFeat(feat, 1, ) for feat in dense_features]\n",
    "\n",
    "varlen_feature_columns = [VarLenSparseFeat(SparseFeat('genres', vocabulary_size=len(\n",
    "    key2index) + 1, embedding_dim=4), maxlen=max_len, combiner='mean')]  # Notice : value 0 is for padding for sequence input feature\n",
    "\n",
    "linear_feature_columns = fixlen_feature_columns + varlen_feature_columns\n",
    "dnn_feature_columns = fixlen_feature_columns + varlen_feature_columns\n",
    "\n",
    "feature_names = get_feature_names(linear_feature_columns + dnn_feature_columns)\n",
    "\n",
    "model_input = {name: data[name] for name in feature_names} \n",
    "model_input[\"genres\"] = genres_list"
   ]
  },
  {
   "cell_type": "code",
   "execution_count": null,
   "id": "69e010c5-e6ca-4850-9c51-438c2eeb0691",
   "metadata": {},
   "outputs": [],
   "source": [
    "model_input"
   ]
  },
  {
   "cell_type": "code",
   "execution_count": 34,
   "id": "bd81f92e-75e7-4b2d-b0be-b09e562abeb6",
   "metadata": {},
   "outputs": [],
   "source": [
    "result = xmodel.predict(model_input)"
   ]
  },
  {
   "cell_type": "code",
   "execution_count": 38,
   "id": "fcb730bd-a50d-4e85-8e0c-dbf9695093b9",
   "metadata": {},
   "outputs": [
    {
     "data": {
      "text/plain": [
       "array([0.99073982, 0.9718892 , 0.80510414, ..., 0.70711005, 0.71789944,\n",
       "       0.7088058 ])"
      ]
     },
     "execution_count": 38,
     "metadata": {},
     "output_type": "execute_result"
    }
   ],
   "source": [
    "result.squeeze()"
   ]
  },
  {
   "cell_type": "code",
   "execution_count": 39,
   "id": "12a8196f-58aa-4b8c-a60f-afbb65ff9d53",
   "metadata": {},
   "outputs": [],
   "source": [
    "data['result'] = result"
   ]
  },
  {
   "cell_type": "code",
   "execution_count": 42,
   "id": "410018bb-ce22-4499-a230-d6f0f5bdfb11",
   "metadata": {},
   "outputs": [],
   "source": [
    "score = data.drop(['rating', 'genres', 'year'], axis=1)"
   ]
  },
  {
   "cell_type": "code",
   "execution_count": 44,
   "id": "d6a79a05-31f3-4852-be82-fcc4e1a961c6",
   "metadata": {},
   "outputs": [],
   "source": [
    "score.to_csv('./NMF.csv', index=False)"
   ]
  },
  {
   "cell_type": "code",
   "execution_count": 46,
   "id": "e838533e-4f1a-4291-8d6f-72841f63e984",
   "metadata": {},
   "outputs": [],
   "source": [
    "score = score.sort_values('result',ascending=False)"
   ]
  },
  {
   "cell_type": "code",
   "execution_count": 67,
   "id": "d4e15e6f-d833-4d06-bfce-59bf9c595091",
   "metadata": {},
   "outputs": [],
   "source": [
    "result = score.groupby('user').head(10)"
   ]
  },
  {
   "cell_type": "code",
   "execution_count": 68,
   "id": "299e4655-31cc-41ea-96eb-26cc320595c6",
   "metadata": {},
   "outputs": [
    {
     "name": "stderr",
     "output_type": "stream",
     "text": [
      "/tmp/ipykernel_33447/2600193615.py:1: SettingWithCopyWarning: \n",
      "A value is trying to be set on a copy of a slice from a DataFrame.\n",
      "Try using .loc[row_indexer,col_indexer] = value instead\n",
      "\n",
      "See the caveats in the documentation: https://pandas.pydata.org/pandas-docs/stable/user_guide/indexing.html#returning-a-view-versus-a-copy\n",
      "  result['user'] = user_encoder.inverse_transform(result['user'])\n",
      "/tmp/ipykernel_33447/2600193615.py:2: SettingWithCopyWarning: \n",
      "A value is trying to be set on a copy of a slice from a DataFrame.\n",
      "Try using .loc[row_indexer,col_indexer] = value instead\n",
      "\n",
      "See the caveats in the documentation: https://pandas.pydata.org/pandas-docs/stable/user_guide/indexing.html#returning-a-view-versus-a-copy\n",
      "  result['item'] = item_encoder.inverse_transform(result['item'])\n"
     ]
    }
   ],
   "source": [
    "result['user'] = user_encoder.inverse_transform(result['user'])\n",
    "result['item'] = item_encoder.inverse_transform(result['item'])"
   ]
  },
  {
   "cell_type": "code",
   "execution_count": 73,
   "id": "c611bffc-e76d-4288-9db3-c3873d0fb29b",
   "metadata": {},
   "outputs": [],
   "source": [
    "result = result.sort_values(['user', 'result'], ascending=[True,False])"
   ]
  },
  {
   "cell_type": "code",
   "execution_count": 74,
   "id": "2f5548cd-feee-450b-af1c-e2120cf3cf26",
   "metadata": {},
   "outputs": [],
   "source": [
    "result.to_csv('NMF_result.csv', index=False)"
   ]
  },
  {
   "cell_type": "code",
   "execution_count": 75,
   "id": "cb51534b-296c-4e2a-a940-56d5ff9c6dd9",
   "metadata": {},
   "outputs": [
    {
     "data": {
      "text/html": [
       "<div>\n",
       "<style scoped>\n",
       "    .dataframe tbody tr th:only-of-type {\n",
       "        vertical-align: middle;\n",
       "    }\n",
       "\n",
       "    .dataframe tbody tr th {\n",
       "        vertical-align: top;\n",
       "    }\n",
       "\n",
       "    .dataframe thead th {\n",
       "        text-align: right;\n",
       "    }\n",
       "</style>\n",
       "<table border=\"1\" class=\"dataframe\">\n",
       "  <thead>\n",
       "    <tr style=\"text-align: right;\">\n",
       "      <th></th>\n",
       "      <th>user</th>\n",
       "      <th>item</th>\n",
       "      <th>result</th>\n",
       "    </tr>\n",
       "  </thead>\n",
       "  <tbody>\n",
       "    <tr>\n",
       "      <th>22799162</th>\n",
       "      <td>11</td>\n",
       "      <td>1485</td>\n",
       "      <td>0.999223</td>\n",
       "    </tr>\n",
       "    <tr>\n",
       "      <th>113192305</th>\n",
       "      <td>11</td>\n",
       "      <td>8528</td>\n",
       "      <td>0.999162</td>\n",
       "    </tr>\n",
       "    <tr>\n",
       "      <th>41356681</th>\n",
       "      <td>11</td>\n",
       "      <td>2694</td>\n",
       "      <td>0.998915</td>\n",
       "    </tr>\n",
       "    <tr>\n",
       "      <th>75128675</th>\n",
       "      <td>11</td>\n",
       "      <td>4963</td>\n",
       "      <td>0.998910</td>\n",
       "    </tr>\n",
       "    <tr>\n",
       "      <th>60514660</th>\n",
       "      <td>11</td>\n",
       "      <td>3948</td>\n",
       "      <td>0.998832</td>\n",
       "    </tr>\n",
       "    <tr>\n",
       "      <th>...</th>\n",
       "      <td>...</td>\n",
       "      <td>...</td>\n",
       "      <td>...</td>\n",
       "    </tr>\n",
       "    <tr>\n",
       "      <th>60541363</th>\n",
       "      <td>138493</td>\n",
       "      <td>3948</td>\n",
       "      <td>0.993244</td>\n",
       "    </tr>\n",
       "    <tr>\n",
       "      <th>22827135</th>\n",
       "      <td>138493</td>\n",
       "      <td>1485</td>\n",
       "      <td>0.992416</td>\n",
       "    </tr>\n",
       "    <tr>\n",
       "      <th>151742497</th>\n",
       "      <td>138493</td>\n",
       "      <td>54286</td>\n",
       "      <td>0.991279</td>\n",
       "    </tr>\n",
       "    <tr>\n",
       "      <th>2105188</th>\n",
       "      <td>138493</td>\n",
       "      <td>104</td>\n",
       "      <td>0.990595</td>\n",
       "    </tr>\n",
       "    <tr>\n",
       "      <th>207734316</th>\n",
       "      <td>138493</td>\n",
       "      <td>1270</td>\n",
       "      <td>0.990458</td>\n",
       "    </tr>\n",
       "  </tbody>\n",
       "</table>\n",
       "<p>313600 rows × 3 columns</p>\n",
       "</div>"
      ],
      "text/plain": [
       "             user   item    result\n",
       "22799162       11   1485  0.999223\n",
       "113192305      11   8528  0.999162\n",
       "41356681       11   2694  0.998915\n",
       "75128675       11   4963  0.998910\n",
       "60514660       11   3948  0.998832\n",
       "...           ...    ...       ...\n",
       "60541363   138493   3948  0.993244\n",
       "22827135   138493   1485  0.992416\n",
       "151742497  138493  54286  0.991279\n",
       "2105188    138493    104  0.990595\n",
       "207734316  138493   1270  0.990458\n",
       "\n",
       "[313600 rows x 3 columns]"
      ]
     },
     "execution_count": 75,
     "metadata": {},
     "output_type": "execute_result"
    }
   ],
   "source": [
    "result"
   ]
  },
  {
   "cell_type": "code",
   "execution_count": null,
   "id": "2cb0897c-3d36-4d3a-bd35-e623f2aaaa50",
   "metadata": {},
   "outputs": [],
   "source": []
  }
 ],
 "metadata": {
  "kernelspec": {
   "display_name": "Python 3 (ipykernel)",
   "language": "python",
   "name": "python3"
  },
  "language_info": {
   "codemirror_mode": {
    "name": "ipython",
    "version": 3
   },
   "file_extension": ".py",
   "mimetype": "text/x-python",
   "name": "python",
   "nbconvert_exporter": "python",
   "pygments_lexer": "ipython3",
   "version": "3.8.5"
  }
 },
 "nbformat": 4,
 "nbformat_minor": 5
}
