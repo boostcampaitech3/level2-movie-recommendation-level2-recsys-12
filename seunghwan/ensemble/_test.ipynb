{
 "cells": [
  {
   "cell_type": "code",
   "execution_count": 2,
   "id": "bae74b6c-e320-40a5-84c1-4f6775231d5a",
   "metadata": {},
   "outputs": [],
   "source": [
    "import matplotlib.pyplot as plt\n",
    "import numpy as np"
   ]
  },
  {
   "cell_type": "code",
   "execution_count": 3,
   "id": "2e2f126d-0e7c-4207-9e7e-4496657e24d7",
   "metadata": {},
   "outputs": [],
   "source": [
    "from sklearn.linear_model import LinearRegression"
   ]
  },
  {
   "cell_type": "code",
   "execution_count": 5,
   "id": "8e3e7aaf-f309-4fca-9122-3cc009b79f37",
   "metadata": {},
   "outputs": [],
   "source": [
    "line_fitter = LinearRegression()"
   ]
  },
  {
   "cell_type": "code",
   "execution_count": 25,
   "id": "35f1daa1-2bc4-4059-853b-1e4cda1d28d1",
   "metadata": {},
   "outputs": [],
   "source": [
    "X = [1.,7/3,9.,11., 19.]\n",
    "y = [0.1348, 0.1548, 0.1603, 0.1590, 0.1556]"
   ]
  },
  {
   "cell_type": "code",
   "execution_count": 8,
   "id": "388fc0c0-dd3b-4478-a228-de9aabd7db4e",
   "metadata": {
    "tags": []
   },
   "outputs": [
    {
     "data": {
      "text/plain": [
       "LinearRegression()"
      ]
     },
     "execution_count": 8,
     "metadata": {},
     "output_type": "execute_result"
    }
   ],
   "source": [
    "line_fitter.fit(X,y)"
   ]
  },
  {
   "cell_type": "code",
   "execution_count": 26,
   "id": "a20e4e6c-860a-4ea7-a2e7-a889280a2013",
   "metadata": {},
   "outputs": [
    {
     "data": {
      "text/plain": [
       "<matplotlib.collections.PathCollection at 0x7fc9f9a6c460>"
      ]
     },
     "execution_count": 26,
     "metadata": {},
     "output_type": "execute_result"
    },
    {
     "data": {
      "image/png": "[encoded data removed]",
      "text/plain": [
       "<Figure size 432x288 with 1 Axes>"
      ]
     },
     "metadata": {
      "needs_background": "light"
     },
     "output_type": "display_data"
    }
   ],
   "source": [
    "plt.scatter(X,y)"
   ]
  },
  {
   "cell_type": "code",
   "execution_count": 23,
   "id": "3f8a2c23-99a8-4666-8940-0b655076c89c",
   "metadata": {},
   "outputs": [
    {
     "data": {
      "text/plain": [
       "8.666666666666666"
      ]
     },
     "execution_count": 23,
     "metadata": {},
     "output_type": "execute_result"
    }
   ],
   "source": [
    "11 - 7/3"
   ]
  },
  {
   "cell_type": "code",
   "execution_count": 24,
   "id": "7b0f10f7-b008-40e9-ba90-509f9d3a7ea8",
   "metadata": {},
   "outputs": [
    {
     "data": {
      "text/plain": [
       "8"
      ]
     },
     "execution_count": 24,
     "metadata": {},
     "output_type": "execute_result"
    }
   ],
   "source": [
    "19-11"
   ]
  },
  {
   "cell_type": "code",
   "execution_count": null,
   "id": "d603274a-a065-452d-a9d2-d3383ec5e44d",
   "metadata": {},
   "outputs": [],
   "source": []
  },
  {
   "cell_type": "code",
   "execution_count": null,
   "id": "83632eca-55b0-451f-ba9a-552a92771b52",
   "metadata": {},
   "outputs": [],
   "source": []
  },
  {
   "cell_type": "code",
   "execution_count": null,
   "id": "4210b728-d015-47ae-8167-722766e7fe4d",
   "metadata": {},
   "outputs": [],
   "source": [
    "[(1,1384) ,(7/3, 1548), (9, 1603), (19,1556)]"
   ]
  }
 ],
 "metadata": {
  "kernelspec": {
   "display_name": "Python 3 (ipykernel)",
   "language": "python",
   "name": "python3"
  },
  "language_info": {
   "codemirror_mode": {
    "name": "ipython",
    "version": 3
   },
   "file_extension": ".py",
   "mimetype": "text/x-python",
   "name": "python",
   "nbconvert_exporter": "python",
   "pygments_lexer": "ipython3",
   "version": "3.8.5"
  }
 },
 "nbformat": 4,
 "nbformat_minor": 5
}
