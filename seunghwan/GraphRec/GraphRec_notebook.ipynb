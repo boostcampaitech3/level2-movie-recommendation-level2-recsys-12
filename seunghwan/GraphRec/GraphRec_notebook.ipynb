{
 "cells": [
  {
   "cell_type": "code",
   "execution_count": 1,
   "id": "b23f1226-5c21-4de6-aa4a-801cf4417aa0",
   "metadata": {},
   "outputs": [],
   "source": [
    "import os\n",
    "\n",
    "from collections import deque\n",
    "from six import next\n",
    "from box import Box\n",
    "\n",
    "import torch\n",
    "\n",
    "from scipy.sparse import lil_matrix\n",
    "\n",
    "from dataset import GraphRecDataset"
   ]
  },
  {
   "cell_type": "code",
   "execution_count": 2,
   "id": "e2dc245f",
   "metadata": {},
   "outputs": [],
   "source": [
    "args = {\n",
    "    #######data#########\n",
    "    'data_path' : '/opt/ml/input/data/train/',\n",
    "    'test_ratio' : 0.2\n",
    "}\n",
    "args = Box(args)\n",
    "\n",
    "dir = {\n",
    "    'ratings' : os.path.join(args.data_path, 'train_ratings.csv')\n",
    "}\n",
    "dir = Box(dir)"
   ]
  },
  {
   "cell_type": "code",
   "execution_count": 3,
   "id": "23497b7c",
   "metadata": {},
   "outputs": [],
   "source": [
    "dataset = GraphRecDataset(args, dir)"
   ]
  },
  {
   "cell_type": "code",
   "execution_count": 8,
   "id": "b1d0ca1f-9422-46b4-9636-47b3f6a84455",
   "metadata": {},
   "outputs": [],
   "source": [
    "############# ML 100k dataset ###########\n",
    "\n",
    "BATCH_SIZE = 1000\n",
    "PERC=0.9\n",
    "USER_NUM = 943\n",
    "ITEM_NUM = 1682\n",
    "#df_train, df_test = get_data100k()\n",
    "\n",
    "#Without Graph Feature\n",
    "MFSIZE=40\n",
    "UW=0.08\n",
    "IW=0.06\n",
    "LR=0.0002\n",
    "EPOCH_MAX = 601\n",
    "#tf.reset_default_graph()\n",
    "#GraphRec(df_train, df_test,ItemData=False,UserData=False,Graph=False,Dataset='100k')\n",
    "\n",
    "#With Graph Features\n",
    "MFSIZE=50\n",
    "UW=0.05\n",
    "IW=0.02\n",
    "LR=0.00003\n",
    "EPOCH_MAX = 196"
   ]
  },
  {
   "cell_type": "code",
   "execution_count": 9,
   "id": "10f325c6-08ca-4a53-a6de-5730f8219bf2",
   "metadata": {},
   "outputs": [],
   "source": [
    "import numpy as np"
   ]
  },
  {
   "cell_type": "code",
   "execution_count": null,
   "id": "b37d9989-5698-4d92-bc12-1b88ab5efaa6",
   "metadata": {},
   "outputs": [],
   "source": [
    "class GraphRecModel() :\n",
    "    def __init__(self, dataset):\n",
    "        \n",
    "        # user and movie num\n",
    "        self.user_num = dataset.n_users\n",
    "        self.movie_num = dataset.n_movies\n",
    "        \n",
    "        # graph initialize\n",
    "        self.adj_users = np.zeros((self.user_num, self.movie_num), dtype=np.float32)\n",
    "        self.dgr_users = np.zeros((self.user_num, 1), dtype=np.float32)\n",
    "        self.adj_movies = np.zeros((self.movie_num, self.user_num), dtype=np.float32)\n",
    "        self.dgr_movies = np.zeros((self.movie_num, 1), dtype=np.float32)\n",
    "        \n",
    "        for index"
   ]
  },
  {
   "cell_type": "code",
   "execution_count": 11,
   "id": "40549b19-6746-4ece-b8b8-88526c788ed1",
   "metadata": {},
   "outputs": [
    {
     "data": {
      "text/plain": [
       "array([[0., 0., 0., ..., 0., 0., 0.],\n",
       "       [0., 0., 0., ..., 0., 0., 0.],\n",
       "       [0., 0., 0., ..., 0., 0., 0.],\n",
       "       ...,\n",
       "       [0., 0., 0., ..., 0., 0., 0.],\n",
       "       [0., 0., 0., ..., 0., 0., 0.],\n",
       "       [0., 0., 0., ..., 0., 0., 0.]], dtype=float32)"
      ]
     },
     "execution_count": 11,
     "metadata": {},
     "output_type": "execute_result"
    }
   ],
   "source": [
    "np.zeros((USER_NUM, ITEM_NUM), dtype=np.float32)"
   ]
  },
  {
   "cell_type": "code",
   "execution_count": 14,
   "id": "654f07c1-2d92-4e88-aaa1-355ca867a332",
   "metadata": {},
   "outputs": [
    {
     "name": "stdout",
     "output_type": "stream",
     "text": [
      "0 user      52088.0\n",
      "item       8710.0\n",
      "rating        1.0\n",
      "Name: 0, dtype: float64\n"
     ]
    }
   ],
   "source": [
    "for index, row in dataset.train_data.iterrows():\n",
    "    print(index, row)\n",
    "    break"
   ]
  },
  {
   "cell_type": "code",
   "execution_count": null,
   "id": "ffb1ef1a-0507-4e97-a445-1e1ed23480e1",
   "metadata": {},
   "outputs": [],
   "source": []
  }
 ],
 "metadata": {
  "kernelspec": {
   "display_name": "Python 3 (ipykernel)",
   "language": "python",
   "name": "python3"
  },
  "language_info": {
   "codemirror_mode": {
    "name": "ipython",
    "version": 3
   },
   "file_extension": ".py",
   "mimetype": "text/x-python",
   "name": "python",
   "nbconvert_exporter": "python",
   "pygments_lexer": "ipython3",
   "version": "3.8.5"
  }
 },
 "nbformat": 4,
 "nbformat_minor": 5
}
