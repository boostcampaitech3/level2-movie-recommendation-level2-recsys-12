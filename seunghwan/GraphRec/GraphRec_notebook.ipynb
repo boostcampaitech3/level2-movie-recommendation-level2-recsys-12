{
 "cells": [
  {
   "cell_type": "code",
   "execution_count": 1,
   "id": "b23f1226-5c21-4de6-aa4a-801cf4417aa0",
   "metadata": {
    "tags": []
   },
   "outputs": [],
   "source": [
    "import os\n",
    "\n",
    "from collections import deque\n",
    "from box import Box\n",
    "\n",
    "import torch\n",
    "import torch.optim as optim\n",
    "\n",
    "from dataset import GraphRecDataset\n",
    "from model import GraphRecModel\n",
    "from trainer import GraphRecTrainer"
   ]
  },
  {
   "cell_type": "code",
   "execution_count": 2,
   "id": "e2dc245f",
   "metadata": {},
   "outputs": [],
   "source": [
    "args = {\n",
    "    ##############datasets###############\n",
    "    'data_path' : '/opt/ml/input/data/train/',\n",
    "    'test_ratio' : 0.2,\n",
    "    'use_exist' : True, # test_ratio 바꾸면 한번 False 처리해서 다시 불러와야함!\n",
    "    'is_graph' : True,\n",
    "\n",
    "    'use_side_information' : True,\n",
    "    'side_titles' : False, # Not implement yet\n",
    "    'side_genres' : True,\n",
    "    'side_directors' : False, # Not implement yet\n",
    "    'side_writers' : False, # Not implement yet\n",
    "    'side_years' : True,\n",
    "    \n",
    "    #############optimizer###############\n",
    "    'lr' : 2e-4,\n",
    "    'wd' : 0.00,\n",
    "    \n",
    "    ##############model##################\n",
    "    'user_weight' : 0.08,\n",
    "    'movie_weight' : 0.06,\n",
    "    'mf_size' : 50,\n",
    "    \n",
    "    ##############trainer#################\n",
    "    'batch_size' : 256,\n",
    "    'epochs' : 5,\n",
    "    'num_negative' : 3, # user 5 , movie 5 = total 10\n",
    "    'ndcg_k' : 50,\n",
    "    \n",
    "    #################etc##################\n",
    "    'device' : 'cuda'\n",
    "    \n",
    "}\n",
    "args = Box(args)\n",
    "\n",
    "dirs = {\n",
    "    'ratings' : os.path.join(args.data_path, 'train_ratings.csv'),\n",
    "    'titles' : os.path.join(args.data_path, 'titles.tsv'),\n",
    "    'genres' : os.path.join(args.data_path, 'genres.tsv'),\n",
    "    'directors' : os.path.join(args.data_path, 'directors.tsv'),\n",
    "    'years' : os.path.join(args.data_path, 'years_new.tsv'),\n",
    "    'writers' : os.path.join(args.data_path, 'writers.tsv'),\n",
    "    'output' : './output/',\n",
    "    'model_output' : './model'\n",
    "}\n",
    "dirs = Box(dirs)"
   ]
  },
  {
   "cell_type": "code",
   "execution_count": 3,
   "id": "23497b7c",
   "metadata": {},
   "outputs": [
    {
     "name": "stdout",
     "output_type": "stream",
     "text": [
      "load existing train graphs!\n",
      "load train side information...\n",
      "load existing test graphs!\n",
      "load test side information...\n",
      "load existing inference graphs!\n",
      "load inference side information...\n"
     ]
    }
   ],
   "source": [
    "dataset = GraphRecDataset(args, dirs)"
   ]
  },
  {
   "cell_type": "code",
   "execution_count": 4,
   "id": "e742ad0a",
   "metadata": {},
   "outputs": [],
   "source": [
    "model = GraphRecModel(args, dataset).to(args.device)\n",
    "model_best = GraphRecModel(args, dataset).to(args.device)\n",
    "optimizer = optim.Adam(model.parameters(), lr=args.lr, weight_decay=args.wd)"
   ]
  },
  {
   "cell_type": "code",
   "execution_count": 5,
   "id": "c96b80aa",
   "metadata": {},
   "outputs": [],
   "source": [
    "trainer = GraphRecTrainer(args, dirs, dataset,\n",
    "                          model, model_best, optimizer)"
   ]
  },
  {
   "cell_type": "code",
   "execution_count": null,
   "id": "9dda15ed-e3da-4aea-820b-d4ce9a5f797a",
   "metadata": {},
   "outputs": [
    {
     "name": "stderr",
     "output_type": "stream",
     "text": [
      "100%|██████████| 16108/16108 [3:23:41<00:00,  1.32it/s]  \n",
      " 32%|███▏      | 1274/4027 [16:32<35:48,  1.28it/s]"
     ]
    }
   ],
   "source": [
    "trainer.run()"
   ]
  },
  {
   "cell_type": "code",
   "execution_count": null,
   "id": "d7bee221-b10b-4215-9982-83381996e884",
   "metadata": {},
   "outputs": [],
   "source": []
  },
  {
   "cell_type": "code",
   "execution_count": null,
   "id": "25822693-85d8-4dc2-bcfb-41f68885e852",
   "metadata": {},
   "outputs": [],
   "source": []
  },
  {
   "cell_type": "code",
   "execution_count": null,
   "id": "497f70af-0e43-455c-a242-7601df47263d",
   "metadata": {},
   "outputs": [],
   "source": []
  }
 ],
 "metadata": {
  "kernelspec": {
   "display_name": "Python 3 (ipykernel)",
   "language": "python",
   "name": "python3"
  },
  "language_info": {
   "codemirror_mode": {
    "name": "ipython",
    "version": 3
   },
   "file_extension": ".py",
   "mimetype": "text/x-python",
   "name": "python",
   "nbconvert_exporter": "python",
   "pygments_lexer": "ipython3",
   "version": "3.8.5"
  }
 },
 "nbformat": 4,
 "nbformat_minor": 5
}
