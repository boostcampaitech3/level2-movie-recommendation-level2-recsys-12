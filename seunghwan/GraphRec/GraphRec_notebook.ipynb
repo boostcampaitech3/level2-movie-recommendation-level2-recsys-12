{
 "cells": [
  {
   "cell_type": "code",
   "execution_count": 6,
   "id": "b23f1226-5c21-4de6-aa4a-801cf4417aa0",
   "metadata": {},
   "outputs": [],
   "source": [
    "import os\n",
    "\n",
    "from collections import deque\n",
    "from six import next\n",
    "from box import Box\n",
    "\n",
    "import torch\n",
    "from scipy.sparse import lil_matrix\n",
    "\n",
    "from dataset import GraphRecDataset\n",
    "from model import GraphRecModel"
   ]
  },
  {
   "cell_type": "code",
   "execution_count": 3,
   "id": "e2dc245f",
   "metadata": {},
   "outputs": [],
   "source": [
    "args = {\n",
    "    ##############datasets###############\n",
    "    'data_path' : '/opt/ml/input/data/train/',\n",
    "    'test_ratio' : 0.2,\n",
    "    'use_exist' : True, # test_ratio 바꾸면 한번 False 처리해서 다시 불러와야함!\n",
    "    'is_graph' : True,\n",
    "\n",
    "    'use_side_information' : True,\n",
    "    'side_titles' : False, # Not implement yet\n",
    "    'side_genres' : True,\n",
    "    'side_directors' : False, # Not implement yet\n",
    "    'side_writers' : False, # Not implement yet\n",
    "    'side_years' : True,\n",
    "    \n",
    "    #############optimizer###############\n",
    "    'lr' : 2e-4,\n",
    "    'wd' : 0.00,\n",
    "    \n",
    "    ##############model##################\n",
    "    'user_weight' : 0.08,\n",
    "    'movie_weight' : 0.06,\n",
    "    'mf_size' : 50,\n",
    "    \n",
    "    ##############trainer#################\n",
    "    'batch_size' : 256,\n",
    "    'epochs' : 200,\n",
    "    \n",
    "}\n",
    "args = Box(args)\n",
    "\n",
    "dirs = {\n",
    "    'ratings' : os.path.join(args.data_path, 'train_ratings.csv'),\n",
    "    'titles' : os.path.join(args.data_path, 'titles.tsv'),\n",
    "    'genres' : os.path.join(args.data_path, 'genres.tsv'),\n",
    "    'directors' : os.path.join(args.data_path, 'directors.tsv'),\n",
    "    'years' : os.path.join(args.data_path, 'years_new.tsv'),\n",
    "    'writers' : os.path.join(args.data_path, 'writers.tsv'),\n",
    "    'output' : './output/',\n",
    "    'model_output' : './model'\n",
    "}\n",
    "dirs = Box(dirs)"
   ]
  },
  {
   "cell_type": "code",
   "execution_count": 4,
   "id": "23497b7c",
   "metadata": {},
   "outputs": [
    {
     "name": "stdout",
     "output_type": "stream",
     "text": [
      "load existing train graphs!\n",
      "load train side information...\n",
      "load existing inference graphs!\n",
      "load inference side information...\n"
     ]
    }
   ],
   "source": [
    "dataset = GraphRecDataset(args, dirs)"
   ]
  },
  {
   "cell_type": "code",
   "execution_count": 7,
   "id": "e742ad0a",
   "metadata": {},
   "outputs": [
    {
     "ename": "AttributeError",
     "evalue": "'GraphRecDataset' object has no attribute 'n_feature_user'",
     "output_type": "error",
     "traceback": [
      "\u001b[0;31m---------------------------------------------------------------------------\u001b[0m",
      "\u001b[0;31mAttributeError\u001b[0m                            Traceback (most recent call last)",
      "\u001b[1;32m/opt/ml/input/code/_main/seunghwan/GraphRec/GraphRec_notebook.ipynb Cell 4'\u001b[0m in \u001b[0;36m<cell line: 1>\u001b[0;34m()\u001b[0m\n\u001b[0;32m----> <a href='vscode-notebook-cell://ssh-remote%2B49.50.165.157/opt/ml/input/code/_main/seunghwan/GraphRec/GraphRec_notebook.ipynb#ch0000008vscode-remote?line=0'>1</a>\u001b[0m model \u001b[39m=\u001b[39m GraphRecModel(args, dataset)\n",
      "File \u001b[0;32m~/input/code/_main/seunghwan/GraphRec/model.py:12\u001b[0m, in \u001b[0;36mGraphRecModel.__init__\u001b[0;34m(self, args, dataset)\u001b[0m\n\u001b[1;32m     <a href='file:///opt/ml/input/code/_main/seunghwan/GraphRec/model.py?line=9'>10</a>\u001b[0m \u001b[39mself\u001b[39m\u001b[39m.\u001b[39muser_weight \u001b[39m=\u001b[39m args\u001b[39m.\u001b[39muser_weight\n\u001b[1;32m     <a href='file:///opt/ml/input/code/_main/seunghwan/GraphRec/model.py?line=10'>11</a>\u001b[0m \u001b[39mself\u001b[39m\u001b[39m.\u001b[39mmovie_weight \u001b[39m=\u001b[39m args\u001b[39m.\u001b[39mmovie_weight\n\u001b[0;32m---> <a href='file:///opt/ml/input/code/_main/seunghwan/GraphRec/model.py?line=11'>12</a>\u001b[0m \u001b[39mself\u001b[39m\u001b[39m.\u001b[39muser_input_size \u001b[39m=\u001b[39m dataset\u001b[39m.\u001b[39;49mn_feature_user\n\u001b[1;32m     <a href='file:///opt/ml/input/code/_main/seunghwan/GraphRec/model.py?line=12'>13</a>\u001b[0m \u001b[39mself\u001b[39m\u001b[39m.\u001b[39mmovie_input_size \u001b[39m=\u001b[39m dataset\u001b[39m.\u001b[39mn_feature_movie\n\u001b[1;32m     <a href='file:///opt/ml/input/code/_main/seunghwan/GraphRec/model.py?line=13'>14</a>\u001b[0m \u001b[39mself\u001b[39m\u001b[39m.\u001b[39mmf_size \u001b[39m=\u001b[39m args\u001b[39m.\u001b[39mmf_size\n",
      "\u001b[0;31mAttributeError\u001b[0m: 'GraphRecDataset' object has no attribute 'n_feature_user'"
     ]
    }
   ],
   "source": [
    "model = GraphRecModel(args, dataset)"
   ]
  },
  {
   "cell_type": "code",
   "execution_count": 8,
   "id": "17d40400",
   "metadata": {},
   "outputs": [
    {
     "data": {
      "text/plain": [
       "<dataset.GraphRecDataset at 0x7f34656a7130>"
      ]
     },
     "execution_count": 8,
     "metadata": {},
     "output_type": "execute_result"
    }
   ],
   "source": [
    "dataset.n_"
   ]
  },
  {
   "cell_type": "code",
   "execution_count": 4,
   "id": "b1d0ca1f-9422-46b4-9636-47b3f6a84455",
   "metadata": {},
   "outputs": [],
   "source": [
    "############# ML 100k dataset ###########\n",
    "\n",
    "BATCH_SIZE = 1000\n",
    "PERC=0.9\n",
    "USER_NUM = 943\n",
    "ITEM_NUM = 1682\n",
    "#df_train, df_test = get_data100k()\n",
    "\n",
    "#Without Graph Feature\n",
    "MFSIZE=40\n",
    "UW=0.08\n",
    "IW=0.06\n",
    "LR=0.0002\n",
    "EPOCH_MAX = 601\n",
    "#tf.reset_default_graph()\n",
    "#GraphRec(df_train, df_test,ItemData=False,UserData=False,Graph=False,Dataset='100k')\n",
    "\n",
    "#With Graph Features\n",
    "MFSIZE=50\n",
    "UW=0.05\n",
    "IW=0.02\n",
    "LR=0.00003\n",
    "EPOCH_MAX = 196"
   ]
  },
  {
   "cell_type": "code",
   "execution_count": null,
   "id": "846417a6-9bf4-4f34-b8f3-aecab160a2ab",
   "metadata": {},
   "outputs": [],
   "source": []
  },
  {
   "cell_type": "code",
   "execution_count": 18,
   "id": "10f325c6-08ca-4a53-a6de-5730f8219bf2",
   "metadata": {},
   "outputs": [],
   "source": [
    "import numpy as np\n",
    "from tqdm import tqdm"
   ]
  },
  {
   "cell_type": "code",
   "execution_count": 21,
   "id": "b37d9989-5698-4d92-bc12-1b88ab5efaa6",
   "metadata": {},
   "outputs": [],
   "source": [
    "class GraphRecModel() :\n",
    "    def __init__(self, dataset):\n",
    "        \n",
    "        # data initialize\n",
    "        self.train_data = dataset.train_data\n",
    "        self.test_data = dataset.test_data\n",
    "        self.user_num = dataset.n_users\n",
    "        self.movie_num = dataset.n_movies"
   ]
  },
  {
   "cell_type": "code",
   "execution_count": 22,
   "id": "ffb1ef1a-0507-4e97-a445-1e1ed23480e1",
   "metadata": {},
   "outputs": [
    {
     "name": "stderr",
     "output_type": "stream",
     "text": [
      "100%|██████████| 4123577/4123577 [07:39<00:00, 8981.92it/s]"
     ]
    },
    {
     "name": "stdout",
     "output_type": "stream",
     "text": [
      "[[1. 0. 0. ... 0. 0. 0.]\n",
      " [1. 0. 0. ... 0. 0. 0.]\n",
      " [0. 0. 0. ... 0. 0. 0.]\n",
      " ...\n",
      " [1. 0. 0. ... 0. 0. 0.]\n",
      " [0. 0. 0. ... 0. 0. 0.]\n",
      " [1. 1. 0. ... 0. 0. 0.]]\n"
     ]
    },
    {
     "name": "stderr",
     "output_type": "stream",
     "text": [
      "\n"
     ]
    }
   ],
   "source": [
    "model = GraphRecModel(dataset)"
   ]
  }
 ],
 "metadata": {
  "kernelspec": {
   "display_name": "Python 3 (ipykernel)",
   "language": "python",
   "name": "python3"
  },
  "language_info": {
   "codemirror_mode": {
    "name": "ipython",
    "version": 3
   },
   "file_extension": ".py",
   "mimetype": "text/x-python",
   "name": "python",
   "nbconvert_exporter": "python",
   "pygments_lexer": "ipython3",
   "version": "3.8.5"
  }
 },
 "nbformat": 4,
 "nbformat_minor": 5
}
