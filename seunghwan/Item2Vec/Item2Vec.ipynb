{
 "cells": [
  {
   "cell_type": "code",
   "execution_count": 1,
   "id": "f92ba63e-690b-42c1-abc4-9458dc53cf0a",
   "metadata": {},
   "outputs": [],
   "source": [
    "import pandas as pd\n",
    "import numpy as np\n",
    "\n",
    "BASE_PATH = '/opt/ml/input/data/train/'\n",
    "ratings = pd.read_csv(BASE_PATH + 'train_ratings.csv')\n",
    "titles = pd.read_csv(BASE_PATH + 'titles.tsv', sep='\\t')\n",
    "genres = pd.read_csv(BASE_PATH + 'genres.tsv', sep='\\t')\n",
    "directors = pd.read_csv(BASE_PATH + 'directors.tsv', sep='\\t')\n",
    "years = pd.read_csv(BASE_PATH + 'years.tsv', sep='\\t')\n",
    "ratings = ratings.drop('time', axis=1)\n",
    "ratings['rate'] = 1.0"
   ]
  },
  {
   "cell_type": "code",
   "execution_count": 2,
   "id": "bfcd7b28-7984-4977-b6a6-38de41084447",
   "metadata": {},
   "outputs": [
    {
     "name": "stdout",
     "output_type": "stream",
     "text": [
      "N of Train :  4123576\n",
      "N of Test :  1030895\n"
     ]
    }
   ],
   "source": [
    "from sklearn.model_selection import train_test_split\n",
    "\n",
    "ratings_train, ratings_test = train_test_split(ratings,\n",
    "                                              stratify=ratings['user'],\n",
    "                                              random_state=42,\n",
    "                                              test_size=0.2)\n",
    "\n",
    "print(\"N of Train : \" , len(ratings_train))\n",
    "print(\"N of Test : \" , len(ratings_test))"
   ]
  },
  {
   "cell_type": "code",
   "execution_count": 3,
   "id": "4b31b269-c18f-4237-a8c3-6738c6ceeab5",
   "metadata": {},
   "outputs": [
    {
     "data": {
      "text/html": [
       "<div>\n",
       "<style scoped>\n",
       "    .dataframe tbody tr th:only-of-type {\n",
       "        vertical-align: middle;\n",
       "    }\n",
       "\n",
       "    .dataframe tbody tr th {\n",
       "        vertical-align: top;\n",
       "    }\n",
       "\n",
       "    .dataframe thead th {\n",
       "        text-align: right;\n",
       "    }\n",
       "</style>\n",
       "<table border=\"1\" class=\"dataframe\">\n",
       "  <thead>\n",
       "    <tr style=\"text-align: right;\">\n",
       "      <th></th>\n",
       "      <th>user</th>\n",
       "      <th>item</th>\n",
       "      <th>rate</th>\n",
       "    </tr>\n",
       "  </thead>\n",
       "  <tbody>\n",
       "    <tr>\n",
       "      <th>1762082</th>\n",
       "      <td>46685</td>\n",
       "      <td>5954</td>\n",
       "      <td>1.0</td>\n",
       "    </tr>\n",
       "    <tr>\n",
       "      <th>4082227</th>\n",
       "      <td>109245</td>\n",
       "      <td>5952</td>\n",
       "      <td>1.0</td>\n",
       "    </tr>\n",
       "    <tr>\n",
       "      <th>4784205</th>\n",
       "      <td>128351</td>\n",
       "      <td>1208</td>\n",
       "      <td>1.0</td>\n",
       "    </tr>\n",
       "    <tr>\n",
       "      <th>1586419</th>\n",
       "      <td>42033</td>\n",
       "      <td>1721</td>\n",
       "      <td>1.0</td>\n",
       "    </tr>\n",
       "    <tr>\n",
       "      <th>589952</th>\n",
       "      <td>15703</td>\n",
       "      <td>357</td>\n",
       "      <td>1.0</td>\n",
       "    </tr>\n",
       "    <tr>\n",
       "      <th>...</th>\n",
       "      <td>...</td>\n",
       "      <td>...</td>\n",
       "      <td>...</td>\n",
       "    </tr>\n",
       "    <tr>\n",
       "      <th>4216027</th>\n",
       "      <td>112903</td>\n",
       "      <td>91542</td>\n",
       "      <td>1.0</td>\n",
       "    </tr>\n",
       "    <tr>\n",
       "      <th>282323</th>\n",
       "      <td>7482</td>\n",
       "      <td>2502</td>\n",
       "      <td>1.0</td>\n",
       "    </tr>\n",
       "    <tr>\n",
       "      <th>2167888</th>\n",
       "      <td>57473</td>\n",
       "      <td>1204</td>\n",
       "      <td>1.0</td>\n",
       "    </tr>\n",
       "    <tr>\n",
       "      <th>2112878</th>\n",
       "      <td>56034</td>\n",
       "      <td>6807</td>\n",
       "      <td>1.0</td>\n",
       "    </tr>\n",
       "    <tr>\n",
       "      <th>2194571</th>\n",
       "      <td>58213</td>\n",
       "      <td>4558</td>\n",
       "      <td>1.0</td>\n",
       "    </tr>\n",
       "  </tbody>\n",
       "</table>\n",
       "<p>4123576 rows × 3 columns</p>\n",
       "</div>"
      ],
      "text/plain": [
       "           user   item  rate\n",
       "1762082   46685   5954   1.0\n",
       "4082227  109245   5952   1.0\n",
       "4784205  128351   1208   1.0\n",
       "1586419   42033   1721   1.0\n",
       "589952    15703    357   1.0\n",
       "...         ...    ...   ...\n",
       "4216027  112903  91542   1.0\n",
       "282323     7482   2502   1.0\n",
       "2167888   57473   1204   1.0\n",
       "2112878   56034   6807   1.0\n",
       "2194571   58213   4558   1.0\n",
       "\n",
       "[4123576 rows x 3 columns]"
      ]
     },
     "execution_count": 3,
     "metadata": {},
     "output_type": "execute_result"
    }
   ],
   "source": [
    "ratings_train"
   ]
  },
  {
   "cell_type": "code",
   "execution_count": 15,
   "id": "d9e6fdb1-4e56-4491-9b38-a4798640aa23",
   "metadata": {},
   "outputs": [],
   "source": [
    "def rating_splitter(data) :\n",
    "    gr_user_like = data.groupby(['rate', 'user'])\n",
    "    return ([gr_user_like.get_group(gr)['item'].tolist() for gr in gr_user_like.groups])"
   ]
  },
  {
   "cell_type": "code",
   "execution_count": 16,
   "id": "b2120646-4fd9-4883-a5fd-0c7f5b598aee",
   "metadata": {},
   "outputs": [],
   "source": [
    "splitted_movies = rating_splitter(ratings_train)"
   ]
  },
  {
   "cell_type": "code",
   "execution_count": 17,
   "id": "ef5c824d-9e3f-4668-9113-2230b20c9f41",
   "metadata": {},
   "outputs": [],
   "source": [
    "import random\n",
    "for movie_list in splitted_movies:\n",
    "    random.shuffle(movie_list)"
   ]
  },
  {
   "cell_type": "code",
   "execution_count": 20,
   "id": "89728264-7616-4474-94d8-aaace1fdade6",
   "metadata": {},
   "outputs": [],
   "source": [
    "from gensim.models import Word2Vec\n",
    "import datetime"
   ]
  },
  {
   "cell_type": "code",
   "execution_count": 23,
   "id": "e0a843f7-34a2-4c38-925b-a4bb40f6026e",
   "metadata": {},
   "outputs": [
    {
     "name": "stdout",
     "output_type": "stream",
     "text": [
      "Time passed: 0:48:50.295844\n"
     ]
    }
   ],
   "source": [
    "start = datetime.datetime.now()\n",
    "\n",
    "model = Word2Vec(sentences = splitted_movies, # We will supply the pre-processed list of moive lists to this parameter\n",
    "                 epochs = 5, # epoch\n",
    "                 min_count = 10, # a movie has to appear more than 10 times to be keeped\n",
    "                 vector_size = 200, # size of the hidden layer\n",
    "                 workers = 4, # specify the number of threads to be used for training\n",
    "                 sg = 1, # Defines the training algorithm. We will use skip-gram so 1 is chosen.\n",
    "                 hs = 0, # Set to 0, as we are applying negative sampling.\n",
    "                 negative = 5, # If > 0, negative sampling will be used. We will use a value of 5.\n",
    "                 window = 9999999)\n",
    "\n",
    "print(\"Time passed: \" + str(datetime.datetime.now()-start))\n",
    "model.save('item2vec_20200908')\n",
    "del model"
   ]
  },
  {
   "cell_type": "code",
   "execution_count": 24,
   "id": "d63e1952-d7e1-4d8e-80d9-e27a7ec29363",
   "metadata": {},
   "outputs": [],
   "source": [
    "import warnings\n",
    "warnings.filterwarnings(action='ignore', category=UserWarning, module='gensim')\n",
    "\n",
    "from gensim.models import Word2Vec\n",
    "model = Word2Vec.load('item2vec_20200908')\n",
    "word_vectors = model.wv"
   ]
  },
  {
   "cell_type": "code",
   "execution_count": 28,
   "id": "f9de54cb-cdcd-4a85-9029-a530265eccff",
   "metadata": {},
   "outputs": [
    {
     "ename": "AxisError",
     "evalue": "axis 1 is out of bounds for array of dimension 0",
     "output_type": "error",
     "traceback": [
      "\u001b[0;31m---------------------------------------------------------------------------\u001b[0m",
      "\u001b[0;31mAxisError\u001b[0m                                 Traceback (most recent call last)",
      "Input \u001b[0;32mIn [28]\u001b[0m, in \u001b[0;36m<cell line: 1>\u001b[0;34m()\u001b[0m\n\u001b[0;32m----> 1\u001b[0m \u001b[43mword_vectors\u001b[49m\u001b[38;5;241;43m.\u001b[39;49m\u001b[43mcosine_similarities\u001b[49m\u001b[43m(\u001b[49m\u001b[38;5;241;43m5954\u001b[39;49m\u001b[43m,\u001b[49m\u001b[38;5;241;43m5952\u001b[39;49m\u001b[43m)\u001b[49m\n",
      "File \u001b[0;32m/opt/conda/lib/python3.8/site-packages/gensim/models/keyedvectors.py:1080\u001b[0m, in \u001b[0;36mKeyedVectors.cosine_similarities\u001b[0;34m(vector_1, vectors_all)\u001b[0m\n\u001b[1;32m   1064\u001b[0m \u001b[38;5;124;03m\"\"\"Compute cosine similarities between one vector and a set of other vectors.\u001b[39;00m\n\u001b[1;32m   1065\u001b[0m \n\u001b[1;32m   1066\u001b[0m \u001b[38;5;124;03mParameters\u001b[39;00m\n\u001b[0;32m   (...)\u001b[0m\n\u001b[1;32m   1077\u001b[0m \n\u001b[1;32m   1078\u001b[0m \u001b[38;5;124;03m\"\"\"\u001b[39;00m\n\u001b[1;32m   1079\u001b[0m norm \u001b[38;5;241m=\u001b[39m np\u001b[38;5;241m.\u001b[39mlinalg\u001b[38;5;241m.\u001b[39mnorm(vector_1)\n\u001b[0;32m-> 1080\u001b[0m all_norms \u001b[38;5;241m=\u001b[39m \u001b[43mnp\u001b[49m\u001b[38;5;241;43m.\u001b[39;49m\u001b[43mlinalg\u001b[49m\u001b[38;5;241;43m.\u001b[39;49m\u001b[43mnorm\u001b[49m\u001b[43m(\u001b[49m\u001b[43mvectors_all\u001b[49m\u001b[43m,\u001b[49m\u001b[43m \u001b[49m\u001b[43maxis\u001b[49m\u001b[38;5;241;43m=\u001b[39;49m\u001b[38;5;241;43m1\u001b[39;49m\u001b[43m)\u001b[49m\n\u001b[1;32m   1081\u001b[0m dot_products \u001b[38;5;241m=\u001b[39m dot(vectors_all, vector_1)\n\u001b[1;32m   1082\u001b[0m similarities \u001b[38;5;241m=\u001b[39m dot_products \u001b[38;5;241m/\u001b[39m (norm \u001b[38;5;241m*\u001b[39m all_norms)\n",
      "File \u001b[0;32m<__array_function__ internals>:180\u001b[0m, in \u001b[0;36mnorm\u001b[0;34m(*args, **kwargs)\u001b[0m\n",
      "File \u001b[0;32m/opt/conda/lib/python3.8/site-packages/numpy/linalg/linalg.py:2547\u001b[0m, in \u001b[0;36mnorm\u001b[0;34m(x, ord, axis, keepdims)\u001b[0m\n\u001b[1;32m   2544\u001b[0m \u001b[38;5;28;01melif\u001b[39;00m \u001b[38;5;28mord\u001b[39m \u001b[38;5;129;01mis\u001b[39;00m \u001b[38;5;28;01mNone\u001b[39;00m \u001b[38;5;129;01mor\u001b[39;00m \u001b[38;5;28mord\u001b[39m \u001b[38;5;241m==\u001b[39m \u001b[38;5;241m2\u001b[39m:\n\u001b[1;32m   2545\u001b[0m     \u001b[38;5;66;03m# special case for speedup\u001b[39;00m\n\u001b[1;32m   2546\u001b[0m     s \u001b[38;5;241m=\u001b[39m (x\u001b[38;5;241m.\u001b[39mconj() \u001b[38;5;241m*\u001b[39m x)\u001b[38;5;241m.\u001b[39mreal\n\u001b[0;32m-> 2547\u001b[0m     \u001b[38;5;28;01mreturn\u001b[39;00m sqrt(\u001b[43madd\u001b[49m\u001b[38;5;241;43m.\u001b[39;49m\u001b[43mreduce\u001b[49m\u001b[43m(\u001b[49m\u001b[43ms\u001b[49m\u001b[43m,\u001b[49m\u001b[43m \u001b[49m\u001b[43maxis\u001b[49m\u001b[38;5;241;43m=\u001b[39;49m\u001b[43maxis\u001b[49m\u001b[43m,\u001b[49m\u001b[43m \u001b[49m\u001b[43mkeepdims\u001b[49m\u001b[38;5;241;43m=\u001b[39;49m\u001b[43mkeepdims\u001b[49m\u001b[43m)\u001b[49m)\n\u001b[1;32m   2548\u001b[0m \u001b[38;5;66;03m# None of the str-type keywords for ord ('fro', 'nuc')\u001b[39;00m\n\u001b[1;32m   2549\u001b[0m \u001b[38;5;66;03m# are valid for vectors\u001b[39;00m\n\u001b[1;32m   2550\u001b[0m \u001b[38;5;28;01melif\u001b[39;00m \u001b[38;5;28misinstance\u001b[39m(\u001b[38;5;28mord\u001b[39m, \u001b[38;5;28mstr\u001b[39m):\n",
      "\u001b[0;31mAxisError\u001b[0m: axis 1 is out of bounds for array of dimension 0"
     ]
    }
   ],
   "source": [
    "word_vectors.cosine_similarities(5954,5952)"
   ]
  },
  {
   "cell_type": "code",
   "execution_count": 29,
   "id": "cd98cc08-1bac-4250-8bae-b5344b6fa322",
   "metadata": {},
   "outputs": [],
   "source": [
    "def produce_list_of_movieId(list_of_movieName, useRefineSearch=False):\n",
    "    \"\"\"\n",
    "    Turn a list of movie name into a list of movie ids. The movie names has to be exactly the same as they are in the dataset.\n",
    "    Ambiguous movie names can be supplied if useRefineSearch is set to True\n",
    "    \n",
    "    Args:\n",
    "        list_of_movieName (List): A list of movie names.\n",
    "        useRefineSearch (boolean): Ambiguous movie names can be supplied if useRefineSearch is set to True\n",
    "\n",
    "    Returns:\n",
    "        list_of_movie_id (List of strings): A list of movie ids.\n",
    "    \"\"\"\n",
    "    list_of_movie_id = []\n",
    "    for movieName in list_of_movieName:\n",
    "        if useRefineSearch:\n",
    "            movieName = refine_search(movieName)\n",
    "            print(movieName)\n",
    "            print(\"Refined Name: \"+movieName)\n",
    "        if movieName in name_to_movieId.keys():\n",
    "            list_of_movie_id.append(str(name_to_movieId[movieName]))\n",
    "    return list_of_movie_id\n",
    "\n",
    "def recommender(positive_list=None, negative_list=None, useRefineSearch=False, topn=20):\n",
    "    recommend_movie_ls = []\n",
    "    if positive_list:\n",
    "        positive_list = produce_list_of_movieId(positive_list, useRefineSearch)\n",
    "    if negative_list:\n",
    "        negative_list = produce_list_of_movieId(negative_list, useRefineSearch)\n",
    "    for movieId, prob in model.wv.most_similar_cosmul(positive=positive_list, negative=negative_list, topn=topn):\n",
    "        recommend_movie_ls.append(movieId)\n",
    "    return recommend_movie_ls"
   ]
  }
 ],
 "metadata": {
  "kernelspec": {
   "display_name": "Python 3 (ipykernel)",
   "language": "python",
   "name": "python3"
  },
  "language_info": {
   "codemirror_mode": {
    "name": "ipython",
    "version": 3
   },
   "file_extension": ".py",
   "mimetype": "text/x-python",
   "name": "python",
   "nbconvert_exporter": "python",
   "pygments_lexer": "ipython3",
   "version": "3.8.5"
  }
 },
 "nbformat": 4,
 "nbformat_minor": 5
}
