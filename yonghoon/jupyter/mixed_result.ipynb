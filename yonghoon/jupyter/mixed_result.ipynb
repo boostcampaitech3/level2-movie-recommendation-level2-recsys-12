{
 "cells": [
  {
   "cell_type": "code",
   "execution_count": 1,
   "metadata": {},
   "outputs": [],
   "source": [
    "import pandas as pd\n",
    "import numpy as np"
   ]
  },
  {
   "cell_type": "code",
   "execution_count": 2,
   "metadata": {},
   "outputs": [],
   "source": [
    "cosine = pd.read_csv(\"../output/cosine_sim_submission.csv\")\n",
    "s3 = pd.read_csv(\"../output/s3_submission.csv\")\n",
    "burt = pd.read_csv(\"D:\\Workspace\\Movie_Recommendation\\output\\burt4Rec_1000history_submission.csv\")"
   ]
  },
  {
   "cell_type": "code",
   "execution_count": 7,
   "metadata": {},
   "outputs": [],
   "source": [
    "result = []\n",
    "\n",
    "for i in range(len(cosine)):\n",
    "    counter = dict()\n",
    "\n",
    "    user = cosine['user'][i]\n",
    "    one = s3['item'][i]  \n",
    "    two = cosine['item'][i]\n",
    "    three = burt['item'][i]\n",
    "    \n",
    "    if one in counter:\n",
    "        counter[one] += 1\n",
    "    else:\n",
    "        counter[one] = 1\n",
    "\n",
    "    if i % 10 == 0 : \n",
    "        best_movie = last_four['item'][i]\n",
    "        result.append((user, best_movie))"
   ]
  },
  {
   "cell_type": "code",
   "execution_count": 8,
   "metadata": {},
   "outputs": [],
   "source": [
    "pd.DataFrame(result, columns=[\"user\", \"item\"]).to_csv(\n",
    "    \"../output/fake_submission.csv\", index=False\n",
    ")"
   ]
  },
  {
   "cell_type": "code",
   "execution_count": null,
   "metadata": {},
   "outputs": [],
   "source": []
  }
 ],
 "metadata": {
  "interpreter": {
   "hash": "8bff0657a98b8ee576cbe89028f6a544b770fee234379978e147d89ef60d92ed"
  },
  "kernelspec": {
   "display_name": "Python 3.10.2 ('torch')",
   "language": "python",
   "name": "python3"
  },
  "language_info": {
   "codemirror_mode": {
    "name": "ipython",
    "version": 3
   },
   "file_extension": ".py",
   "mimetype": "text/x-python",
   "name": "python",
   "nbconvert_exporter": "python",
   "pygments_lexer": "ipython3",
   "version": "3.8.5"
  },
  "orig_nbformat": 4
 },
 "nbformat": 4,
 "nbformat_minor": 2
}
