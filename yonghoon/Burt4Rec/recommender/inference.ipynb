{
 "cells": [
  {
   "cell_type": "code",
   "execution_count": 1,
   "id": "bda8cfe0",
   "metadata": {},
   "outputs": [],
   "source": [
    "import random\n",
    "\n",
    "import numpy as np\n",
    "import pandas as pd\n",
    "import pytorch_lightning as pl\n",
    "import torch\n",
    "from pytorch_lightning.callbacks import ModelCheckpoint\n",
    "from pytorch_lightning.loggers import TensorBoardLogger\n",
    "from torch.utils.data import DataLoader\n",
    "\n",
    "from models import Recommender\n",
    "from data_processing import get_context, pad_list, map_column, MASK, PAD\n"
   ]
  },
  {
   "cell_type": "code",
   "execution_count": 1,
   "id": "5b760e6a",
   "metadata": {},
   "outputs": [
    {
     "data": {
      "text/plain": [
       "1"
      ]
     },
     "execution_count": 1,
     "metadata": {},
     "output_type": "execute_result"
    }
   ],
   "source": [
    "10 - 3 * 3"
   ]
  },
  {
   "cell_type": "code",
   "execution_count": 3,
   "id": "93854a64",
   "metadata": {},
   "outputs": [],
   "source": [
    "data_csv_path = \"../../data/train/rating_1.csv\"\n",
    "movies_path = \"../../data/train/titles.tsv\"\n",
    "model_path = \"../recommender_models/recommender-v4.ckpt\""
   ]
  },
  {
   "cell_type": "code",
   "execution_count": 4,
   "id": "7d7a8caf",
   "metadata": {},
   "outputs": [],
   "source": [
    "data = pd.read_csv(data_csv_path)\n",
    "movies = pd.read_csv(movies_path, sep='\\t',encoding='latin-1')"
   ]
  },
  {
   "cell_type": "code",
   "execution_count": 5,
   "id": "04da30db",
   "metadata": {},
   "outputs": [],
   "source": [
    "data.sort_values(by=\"timestamp\", inplace=True)"
   ]
  },
  {
   "cell_type": "code",
   "execution_count": 6,
   "id": "82c4434a",
   "metadata": {},
   "outputs": [],
   "source": [
    "data, mapping, inverse_mapping = map_column(data, col_name=\"movieId\")\n",
    "grp_by_train = data.groupby(by=\"userId\")"
   ]
  },
  {
   "cell_type": "code",
   "execution_count": 7,
   "id": "0e6764f8",
   "metadata": {},
   "outputs": [
    {
     "data": {
      "text/html": [
       "<div>\n",
       "<style scoped>\n",
       "    .dataframe tbody tr th:only-of-type {\n",
       "        vertical-align: middle;\n",
       "    }\n",
       "\n",
       "    .dataframe tbody tr th {\n",
       "        vertical-align: top;\n",
       "    }\n",
       "\n",
       "    .dataframe thead th {\n",
       "        text-align: right;\n",
       "    }\n",
       "</style>\n",
       "<table border=\"1\" class=\"dataframe\">\n",
       "  <thead>\n",
       "    <tr style=\"text-align: right;\">\n",
       "      <th></th>\n",
       "      <th>item</th>\n",
       "      <th>title</th>\n",
       "    </tr>\n",
       "  </thead>\n",
       "  <tbody>\n",
       "    <tr>\n",
       "      <th>0</th>\n",
       "      <td>318</td>\n",
       "      <td>Shawshank Redemption, The (1994)</td>\n",
       "    </tr>\n",
       "    <tr>\n",
       "      <th>1</th>\n",
       "      <td>2571</td>\n",
       "      <td>Matrix, The (1999)</td>\n",
       "    </tr>\n",
       "    <tr>\n",
       "      <th>2</th>\n",
       "      <td>2959</td>\n",
       "      <td>Fight Club (1999)</td>\n",
       "    </tr>\n",
       "    <tr>\n",
       "      <th>3</th>\n",
       "      <td>296</td>\n",
       "      <td>Pulp Fiction (1994)</td>\n",
       "    </tr>\n",
       "    <tr>\n",
       "      <th>4</th>\n",
       "      <td>356</td>\n",
       "      <td>Forrest Gump (1994)</td>\n",
       "    </tr>\n",
       "  </tbody>\n",
       "</table>\n",
       "</div>"
      ],
      "text/plain": [
       "   item                             title\n",
       "0   318  Shawshank Redemption, The (1994)\n",
       "1  2571                Matrix, The (1999)\n",
       "2  2959                 Fight Club (1999)\n",
       "3   296               Pulp Fiction (1994)\n",
       "4   356               Forrest Gump (1994)"
      ]
     },
     "execution_count": 7,
     "metadata": {},
     "output_type": "execute_result"
    }
   ],
   "source": [
    "movies.head()"
   ]
  },
  {
   "cell_type": "code",
   "execution_count": 8,
   "id": "ce0b48d6",
   "metadata": {},
   "outputs": [],
   "source": [
    "movies = movies.rename(columns={'item':'movieId', 'title':'title'})"
   ]
  },
  {
   "cell_type": "code",
   "execution_count": 9,
   "id": "8c24ef31",
   "metadata": {},
   "outputs": [
    {
     "data": {
      "text/plain": [
       "6807"
      ]
     },
     "execution_count": 9,
     "metadata": {},
     "output_type": "execute_result"
    }
   ],
   "source": [
    "len(movies)"
   ]
  },
  {
   "cell_type": "code",
   "execution_count": 10,
   "id": "a65a6092",
   "metadata": {},
   "outputs": [
    {
     "name": "stdout",
     "output_type": "stream",
     "text": [
      "6807\n"
     ]
    }
   ],
   "source": [
    "print(len(mapping))"
   ]
  },
  {
   "cell_type": "code",
   "execution_count": 11,
   "id": "6d51d3a2",
   "metadata": {},
   "outputs": [],
   "source": [
    "movie_to_idx = {b: mapping[b] for b in data['movieId'].unique().tolist() if b in mapping}\n",
    "idx_to_movie = {v: k for k, v in movie_to_idx.items()}"
   ]
  },
  {
   "cell_type": "code",
   "execution_count": 12,
   "id": "fb9c3c1e",
   "metadata": {},
   "outputs": [
    {
     "data": {
      "text/plain": [
       "[101021, 82896, 83598, 24295, 131787, 134250, 60250, 100890, 97195, 18932]"
      ]
     },
     "execution_count": 12,
     "metadata": {},
     "output_type": "execute_result"
    }
   ],
   "source": [
    "random.sample(list(grp_by_train.groups), k=10)"
   ]
  },
  {
   "cell_type": "code",
   "execution_count": 13,
   "id": "80c7cc4e",
   "metadata": {},
   "outputs": [
    {
     "data": {
      "text/plain": [
       "<All keys matched successfully>"
      ]
     },
     "execution_count": 13,
     "metadata": {},
     "output_type": "execute_result"
    }
   ],
   "source": [
    "model = Recommender(\n",
    "        vocab_size=len(mapping) + 2,\n",
    "        lr=1e-4,\n",
    "        dropout=0.3,\n",
    "    )\n",
    "model.eval()\n",
    "model.load_state_dict(torch.load(model_path)[\"state_dict\"])"
   ]
  },
  {
   "cell_type": "code",
   "execution_count": 16,
   "id": "7c98f116",
   "metadata": {},
   "outputs": [
    {
     "name": "stdout",
     "output_type": "stream",
     "text": [
      "10\n",
      "9\n",
      "8\n",
      "7\n",
      "6\n",
      "5\n",
      "4\n",
      "3\n",
      "2\n",
      "1\n"
     ]
    }
   ],
   "source": [
    "for i in range(10, 0, -1):\n",
    "    print(i)"
   ]
  },
  {
   "cell_type": "code",
   "execution_count": 18,
   "id": "5b083cd4",
   "metadata": {},
   "outputs": [],
   "source": [
    "from collections import Counter\n",
    "result_collector = list()\n",
    "\n",
    "\n",
    "def predict(list_movies, model, len_saw):\n",
    "    space = int(len_saw / 10)\n",
    "    all_movies = [movie_to_idx[a] for a in list_movies] \n",
    "\n",
    "    result_collector.clear()\n",
    "\n",
    "    \n",
    "    for i in range(10):\n",
    "        select = len_saw - i * space\n",
    "        ids = [PAD] * (1000 - len_saw - 1) + all_movies[select:] + [MASK] + all_movies[:select]\n",
    "        \n",
    "        src = torch.tensor(ids, dtype=torch.long).unsqueeze(0)\n",
    "        \n",
    "        with torch.no_grad():\n",
    "            prediction = model(src)\n",
    "    \n",
    "        masked_pred = prediction[0, -1].numpy()\n",
    "        \n",
    "        sorted_predicted_ids = np.argsort(masked_pred).tolist()[::-1]\n",
    "\n",
    "        sorted_predicted_ids = [a for a in sorted_predicted_ids if a not in ids]\n",
    "\n",
    "        # for i in range(1):\n",
    "        #     result_collector.append(sorted_predicted_ids[i])\n",
    "        index = 0\n",
    "        if sorted_predicted_ids[i] in result_collector:\n",
    "            index += 1\n",
    "        result_collector.append(sorted_predicted_ids[index])\n",
    "    \n",
    "    # result_collector.append(sorted_predicted_ids[4])\n",
    "    # count = Counter(result_collector).most_common(10)\n",
    "    # print(count)\n",
    "\n",
    "    return [idx_to_movie[a] for a in result_collector if a in idx_to_movie]\n"
   ]
  },
  {
   "cell_type": "code",
   "execution_count": 19,
   "id": "b564d68e",
   "metadata": {},
   "outputs": [
    {
     "name": "stdout",
     "output_type": "stream",
     "text": [
      "0done\n",
      "1done\n"
     ]
    },
    {
     "ename": "KeyboardInterrupt",
     "evalue": "",
     "output_type": "error",
     "traceback": [
      "\u001b[1;31m---------------------------------------------------------------------------\u001b[0m",
      "\u001b[1;31mKeyboardInterrupt\u001b[0m                         Traceback (most recent call last)",
      "\u001b[1;32md:\\Workspace\\Movie_Recommendation\\Burt4Rec\\recommender\\inference.ipynb Cell 15'\u001b[0m in \u001b[0;36m<cell line: 7>\u001b[1;34m()\u001b[0m\n\u001b[0;32m     <a href='vscode-notebook-cell:/d%3A/Workspace/Movie_Recommendation/Burt4Rec/recommender/inference.ipynb#ch0000013?line=12'>13</a>\u001b[0m     saw_movies \u001b[39m=\u001b[39m saw_movies\u001b[39m.\u001b[39msample(n\u001b[39m=\u001b[39m\u001b[39m1000\u001b[39m)\n\u001b[0;32m     <a href='vscode-notebook-cell:/d%3A/Workspace/Movie_Recommendation/Burt4Rec/recommender/inference.ipynb#ch0000013?line=13'>14</a>\u001b[0m     len_saw \u001b[39m=\u001b[39m \u001b[39m1000\u001b[39m\n\u001b[1;32m---> <a href='vscode-notebook-cell:/d%3A/Workspace/Movie_Recommendation/Burt4Rec/recommender/inference.ipynb#ch0000013?line=14'>15</a>\u001b[0m pred \u001b[39m=\u001b[39m predict(saw_movies, model, len_saw)\n\u001b[0;32m     <a href='vscode-notebook-cell:/d%3A/Workspace/Movie_Recommendation/Burt4Rec/recommender/inference.ipynb#ch0000013?line=15'>16</a>\u001b[0m \u001b[39mfor\u001b[39;00m item \u001b[39min\u001b[39;00m pred:\n\u001b[0;32m     <a href='vscode-notebook-cell:/d%3A/Workspace/Movie_Recommendation/Burt4Rec/recommender/inference.ipynb#ch0000013?line=16'>17</a>\u001b[0m     result\u001b[39m.\u001b[39mappend((user, item))\n",
      "\u001b[1;32md:\\Workspace\\Movie_Recommendation\\Burt4Rec\\recommender\\inference.ipynb Cell 14'\u001b[0m in \u001b[0;36mpredict\u001b[1;34m(list_movies, model, len_saw)\u001b[0m\n\u001b[0;32m     <a href='vscode-notebook-cell:/d%3A/Workspace/Movie_Recommendation/Burt4Rec/recommender/inference.ipynb#ch0000012?line=15'>16</a>\u001b[0m src \u001b[39m=\u001b[39m torch\u001b[39m.\u001b[39mtensor(ids, dtype\u001b[39m=\u001b[39mtorch\u001b[39m.\u001b[39mlong)\u001b[39m.\u001b[39munsqueeze(\u001b[39m0\u001b[39m)\n\u001b[0;32m     <a href='vscode-notebook-cell:/d%3A/Workspace/Movie_Recommendation/Burt4Rec/recommender/inference.ipynb#ch0000012?line=17'>18</a>\u001b[0m \u001b[39mwith\u001b[39;00m torch\u001b[39m.\u001b[39mno_grad():\n\u001b[1;32m---> <a href='vscode-notebook-cell:/d%3A/Workspace/Movie_Recommendation/Burt4Rec/recommender/inference.ipynb#ch0000012?line=18'>19</a>\u001b[0m     prediction \u001b[39m=\u001b[39m model(src)\n\u001b[0;32m     <a href='vscode-notebook-cell:/d%3A/Workspace/Movie_Recommendation/Burt4Rec/recommender/inference.ipynb#ch0000012?line=20'>21</a>\u001b[0m masked_pred \u001b[39m=\u001b[39m prediction[\u001b[39m0\u001b[39m, \u001b[39m-\u001b[39m\u001b[39m1\u001b[39m]\u001b[39m.\u001b[39mnumpy()\n\u001b[0;32m     <a href='vscode-notebook-cell:/d%3A/Workspace/Movie_Recommendation/Burt4Rec/recommender/inference.ipynb#ch0000012?line=22'>23</a>\u001b[0m sorted_predicted_ids \u001b[39m=\u001b[39m np\u001b[39m.\u001b[39margsort(masked_pred)\u001b[39m.\u001b[39mtolist()[::\u001b[39m-\u001b[39m\u001b[39m1\u001b[39m]\n",
      "File \u001b[1;32m~\\anaconda3\\envs\\torch\\lib\\site-packages\\torch\\nn\\modules\\module.py:727\u001b[0m, in \u001b[0;36mModule._call_impl\u001b[1;34m(self, *input, **kwargs)\u001b[0m\n\u001b[0;32m    <a href='file:///c%3A/Users/kwon/anaconda3/envs/torch/lib/site-packages/torch/nn/modules/module.py?line=724'>725</a>\u001b[0m     result \u001b[39m=\u001b[39m \u001b[39mself\u001b[39m\u001b[39m.\u001b[39m_slow_forward(\u001b[39m*\u001b[39m\u001b[39minput\u001b[39m, \u001b[39m*\u001b[39m\u001b[39m*\u001b[39mkwargs)\n\u001b[0;32m    <a href='file:///c%3A/Users/kwon/anaconda3/envs/torch/lib/site-packages/torch/nn/modules/module.py?line=725'>726</a>\u001b[0m \u001b[39melse\u001b[39;00m:\n\u001b[1;32m--> <a href='file:///c%3A/Users/kwon/anaconda3/envs/torch/lib/site-packages/torch/nn/modules/module.py?line=726'>727</a>\u001b[0m     result \u001b[39m=\u001b[39m \u001b[39mself\u001b[39;49m\u001b[39m.\u001b[39;49mforward(\u001b[39m*\u001b[39;49m\u001b[39minput\u001b[39;49m, \u001b[39m*\u001b[39;49m\u001b[39m*\u001b[39;49mkwargs)\n\u001b[0;32m    <a href='file:///c%3A/Users/kwon/anaconda3/envs/torch/lib/site-packages/torch/nn/modules/module.py?line=727'>728</a>\u001b[0m \u001b[39mfor\u001b[39;00m hook \u001b[39min\u001b[39;00m itertools\u001b[39m.\u001b[39mchain(\n\u001b[0;32m    <a href='file:///c%3A/Users/kwon/anaconda3/envs/torch/lib/site-packages/torch/nn/modules/module.py?line=728'>729</a>\u001b[0m         _global_forward_hooks\u001b[39m.\u001b[39mvalues(),\n\u001b[0;32m    <a href='file:///c%3A/Users/kwon/anaconda3/envs/torch/lib/site-packages/torch/nn/modules/module.py?line=729'>730</a>\u001b[0m         \u001b[39mself\u001b[39m\u001b[39m.\u001b[39m_forward_hooks\u001b[39m.\u001b[39mvalues()):\n\u001b[0;32m    <a href='file:///c%3A/Users/kwon/anaconda3/envs/torch/lib/site-packages/torch/nn/modules/module.py?line=730'>731</a>\u001b[0m     hook_result \u001b[39m=\u001b[39m hook(\u001b[39mself\u001b[39m, \u001b[39minput\u001b[39m, result)\n",
      "File \u001b[1;32md:\\Workspace\\Movie_Recommendation\\Burt4Rec\\recommender\\models.py:89\u001b[0m, in \u001b[0;36mRecommender.forward\u001b[1;34m(self, src_items)\u001b[0m\n\u001b[0;32m     <a href='file:///d%3A/Workspace/Movie_Recommendation/Burt4Rec/recommender/models.py?line=84'>85</a>\u001b[0m \u001b[39mdef\u001b[39;00m \u001b[39mforward\u001b[39m(\u001b[39mself\u001b[39m, src_items):\n\u001b[0;32m     <a href='file:///d%3A/Workspace/Movie_Recommendation/Burt4Rec/recommender/models.py?line=86'>87</a>\u001b[0m     src \u001b[39m=\u001b[39m \u001b[39mself\u001b[39m\u001b[39m.\u001b[39mencode_src(src_items)\n\u001b[1;32m---> <a href='file:///d%3A/Workspace/Movie_Recommendation/Burt4Rec/recommender/models.py?line=88'>89</a>\u001b[0m     out \u001b[39m=\u001b[39m \u001b[39mself\u001b[39;49m\u001b[39m.\u001b[39;49mlinear_out(src)\n\u001b[0;32m     <a href='file:///d%3A/Workspace/Movie_Recommendation/Burt4Rec/recommender/models.py?line=90'>91</a>\u001b[0m     \u001b[39mreturn\u001b[39;00m out\n",
      "File \u001b[1;32m~\\anaconda3\\envs\\torch\\lib\\site-packages\\torch\\nn\\modules\\module.py:727\u001b[0m, in \u001b[0;36mModule._call_impl\u001b[1;34m(self, *input, **kwargs)\u001b[0m\n\u001b[0;32m    <a href='file:///c%3A/Users/kwon/anaconda3/envs/torch/lib/site-packages/torch/nn/modules/module.py?line=724'>725</a>\u001b[0m     result \u001b[39m=\u001b[39m \u001b[39mself\u001b[39m\u001b[39m.\u001b[39m_slow_forward(\u001b[39m*\u001b[39m\u001b[39minput\u001b[39m, \u001b[39m*\u001b[39m\u001b[39m*\u001b[39mkwargs)\n\u001b[0;32m    <a href='file:///c%3A/Users/kwon/anaconda3/envs/torch/lib/site-packages/torch/nn/modules/module.py?line=725'>726</a>\u001b[0m \u001b[39melse\u001b[39;00m:\n\u001b[1;32m--> <a href='file:///c%3A/Users/kwon/anaconda3/envs/torch/lib/site-packages/torch/nn/modules/module.py?line=726'>727</a>\u001b[0m     result \u001b[39m=\u001b[39m \u001b[39mself\u001b[39;49m\u001b[39m.\u001b[39;49mforward(\u001b[39m*\u001b[39;49m\u001b[39minput\u001b[39;49m, \u001b[39m*\u001b[39;49m\u001b[39m*\u001b[39;49mkwargs)\n\u001b[0;32m    <a href='file:///c%3A/Users/kwon/anaconda3/envs/torch/lib/site-packages/torch/nn/modules/module.py?line=727'>728</a>\u001b[0m \u001b[39mfor\u001b[39;00m hook \u001b[39min\u001b[39;00m itertools\u001b[39m.\u001b[39mchain(\n\u001b[0;32m    <a href='file:///c%3A/Users/kwon/anaconda3/envs/torch/lib/site-packages/torch/nn/modules/module.py?line=728'>729</a>\u001b[0m         _global_forward_hooks\u001b[39m.\u001b[39mvalues(),\n\u001b[0;32m    <a href='file:///c%3A/Users/kwon/anaconda3/envs/torch/lib/site-packages/torch/nn/modules/module.py?line=729'>730</a>\u001b[0m         \u001b[39mself\u001b[39m\u001b[39m.\u001b[39m_forward_hooks\u001b[39m.\u001b[39mvalues()):\n\u001b[0;32m    <a href='file:///c%3A/Users/kwon/anaconda3/envs/torch/lib/site-packages/torch/nn/modules/module.py?line=730'>731</a>\u001b[0m     hook_result \u001b[39m=\u001b[39m hook(\u001b[39mself\u001b[39m, \u001b[39minput\u001b[39m, result)\n",
      "File \u001b[1;32m~\\anaconda3\\envs\\torch\\lib\\site-packages\\torch\\nn\\modules\\linear.py:93\u001b[0m, in \u001b[0;36mLinear.forward\u001b[1;34m(self, input)\u001b[0m\n\u001b[0;32m     <a href='file:///c%3A/Users/kwon/anaconda3/envs/torch/lib/site-packages/torch/nn/modules/linear.py?line=91'>92</a>\u001b[0m \u001b[39mdef\u001b[39;00m \u001b[39mforward\u001b[39m(\u001b[39mself\u001b[39m, \u001b[39minput\u001b[39m: Tensor) \u001b[39m-\u001b[39m\u001b[39m>\u001b[39m Tensor:\n\u001b[1;32m---> <a href='file:///c%3A/Users/kwon/anaconda3/envs/torch/lib/site-packages/torch/nn/modules/linear.py?line=92'>93</a>\u001b[0m     \u001b[39mreturn\u001b[39;00m F\u001b[39m.\u001b[39;49mlinear(\u001b[39minput\u001b[39;49m, \u001b[39mself\u001b[39;49m\u001b[39m.\u001b[39;49mweight, \u001b[39mself\u001b[39;49m\u001b[39m.\u001b[39;49mbias)\n",
      "File \u001b[1;32m~\\anaconda3\\envs\\torch\\lib\\site-packages\\torch\\nn\\functional.py:1692\u001b[0m, in \u001b[0;36mlinear\u001b[1;34m(input, weight, bias)\u001b[0m\n\u001b[0;32m   <a href='file:///c%3A/Users/kwon/anaconda3/envs/torch/lib/site-packages/torch/nn/functional.py?line=1689'>1690</a>\u001b[0m     ret \u001b[39m=\u001b[39m torch\u001b[39m.\u001b[39maddmm(bias, \u001b[39minput\u001b[39m, weight\u001b[39m.\u001b[39mt())\n\u001b[0;32m   <a href='file:///c%3A/Users/kwon/anaconda3/envs/torch/lib/site-packages/torch/nn/functional.py?line=1690'>1691</a>\u001b[0m \u001b[39melse\u001b[39;00m:\n\u001b[1;32m-> <a href='file:///c%3A/Users/kwon/anaconda3/envs/torch/lib/site-packages/torch/nn/functional.py?line=1691'>1692</a>\u001b[0m     output \u001b[39m=\u001b[39m \u001b[39minput\u001b[39;49m\u001b[39m.\u001b[39;49mmatmul(weight\u001b[39m.\u001b[39;49mt())\n\u001b[0;32m   <a href='file:///c%3A/Users/kwon/anaconda3/envs/torch/lib/site-packages/torch/nn/functional.py?line=1692'>1693</a>\u001b[0m     \u001b[39mif\u001b[39;00m bias \u001b[39mis\u001b[39;00m \u001b[39mnot\u001b[39;00m \u001b[39mNone\u001b[39;00m:\n\u001b[0;32m   <a href='file:///c%3A/Users/kwon/anaconda3/envs/torch/lib/site-packages/torch/nn/functional.py?line=1693'>1694</a>\u001b[0m         output \u001b[39m+\u001b[39m\u001b[39m=\u001b[39m bias\n",
      "\u001b[1;31mKeyboardInterrupt\u001b[0m: "
     ]
    }
   ],
   "source": [
    "rating_df = pd.read_csv('../../data/train/train_ratings.csv')\n",
    "users = rating_df[\"user\"].unique()\n",
    "\n",
    "result = []\n",
    "all_len = list()\n",
    "\n",
    "for i, user in enumerate(users):\n",
    "    print(str(i) + \"done\")\n",
    "        \n",
    "    saw_movies = rating_df[rating_df['user'] == user]['item']\n",
    "    len_saw = len(saw_movies)\n",
    "    if(len(saw_movies) > 1000):\n",
    "        saw_movies = saw_movies.sample(n=1000)\n",
    "        len_saw = 1000\n",
    "    pred = predict(saw_movies, model, len_saw)\n",
    "    for item in pred:\n",
    "        result.append((user, item))\n",
    "\n",
    "    # top_movie = predict(movies, model, movie_to_idx, idx_to_movie)"
   ]
  },
  {
   "cell_type": "code",
   "execution_count": 17,
   "id": "7d228687",
   "metadata": {},
   "outputs": [],
   "source": [
    "pd.DataFrame(result, columns=[\"user\", \"item\"]).to_csv(\n",
    "    \"../../output/burt4Rec_10split_submission.csv\", index=False\n",
    ")"
   ]
  }
 ],
 "metadata": {
  "kernelspec": {
   "display_name": "Python 3",
   "language": "python",
   "name": "python3"
  },
  "language_info": {
   "codemirror_mode": {
    "name": "ipython",
    "version": 3
   },
   "file_extension": ".py",
   "mimetype": "text/x-python",
   "name": "python",
   "nbconvert_exporter": "python",
   "pygments_lexer": "ipython3",
   "version": "3.8.5"
  }
 },
 "nbformat": 4,
 "nbformat_minor": 5
}
