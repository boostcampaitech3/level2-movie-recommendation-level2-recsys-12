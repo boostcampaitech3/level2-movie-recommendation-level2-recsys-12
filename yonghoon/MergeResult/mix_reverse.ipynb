{
 "cells": [
  {
   "cell_type": "code",
   "execution_count": 1,
   "metadata": {},
   "outputs": [],
   "source": [
    "import pandas as pd\n",
    "import numpy as np"
   ]
  },
  {
   "cell_type": "code",
   "execution_count": 2,
   "metadata": {},
   "outputs": [],
   "source": [
    "forward = pd.read_csv(r\"D:\\Workspace\\level2-movie-recommendation-level2-recsys-12\\burt4Rec_1000history_submission0.0910.csv\")\n",
    "reverse = pd.read_csv(r\"D:\\Workspace\\level2-movie-recommendation-level2-recsys-12\\burt4Rec_1000history_submission_reverse0.0893.csv\")"
   ]
  },
  {
   "cell_type": "code",
   "execution_count": 10,
   "metadata": {},
   "outputs": [],
   "source": [
    "result = []\n",
    "from collections import Counter\n",
    "\n",
    "for i in range(len(forward)):\n",
    "    \n",
    "    user = forward['user'][i]\n",
    "    if i % 10 == 0:\n",
    "        split_forward = forward['item'][i:i+10].to_list()\n",
    "        split_reverse = reverse['item'][i:i+10].to_list()\n",
    "        \n",
    "        mixer = split_forward + split_reverse\n",
    "\n",
    "        Counter(mixer)\n",
    "        \n",
    "\n",
    "\n",
    "            \n"
   ]
  },
  {
   "cell_type": "code",
   "execution_count": 9,
   "metadata": {},
   "outputs": [],
   "source": [
    "pd.DataFrame(result, columns=[\"user\", \"item\"]).to_csv(\n",
    "    \"../output/VAE_mix_Burt_top_6.csv\", index=False\n",
    ")"
   ]
  },
  {
   "cell_type": "code",
   "execution_count": 5,
   "metadata": {},
   "outputs": [],
   "source": []
  }
 ],
 "metadata": {
  "interpreter": {
   "hash": "4fc799023037d79fb4b044712171da9d153d1f894f3734afcc893660f54fa373"
  },
  "kernelspec": {
   "display_name": "Python 3.8.5 ('torch')",
   "language": "python",
   "name": "python3"
  },
  "language_info": {
   "codemirror_mode": {
    "name": "ipython",
    "version": 3
   },
   "file_extension": ".py",
   "mimetype": "text/x-python",
   "name": "python",
   "nbconvert_exporter": "python",
   "pygments_lexer": "ipython3",
   "version": "3.8.5"
  },
  "orig_nbformat": 4
 },
 "nbformat": 4,
 "nbformat_minor": 2
}
