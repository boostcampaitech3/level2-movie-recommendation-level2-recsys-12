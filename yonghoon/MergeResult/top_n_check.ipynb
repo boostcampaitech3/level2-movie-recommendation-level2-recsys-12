{
 "cells": [
  {
   "cell_type": "code",
   "execution_count": 1,
   "metadata": {},
   "outputs": [],
   "source": [
    "import pandas as pd\n",
    "import numpy as np"
   ]
  },
  {
   "cell_type": "code",
   "execution_count": 2,
   "metadata": {},
   "outputs": [],
   "source": [
    "burt = pd.read_csv(r\"D:\\Workspace\\Movie_Recommendation\\output\\burt4Rec_1000history_submission.csv\")\n",
    "NewNF = pd.read_csv(r\"D:\\Workspace\\Movie_Recommendation\\output\\output0.1403.csv\")"
   ]
  },
  {
   "cell_type": "code",
   "execution_count": 7,
   "metadata": {},
   "outputs": [],
   "source": [
    "topk = 6"
   ]
  },
  {
   "cell_type": "code",
   "execution_count": 10,
   "metadata": {},
   "outputs": [],
   "source": [
    "result = []\n",
    "backup = 0\n",
    "backup_index = 0\n",
    "search_list = []\n",
    "for i in range(len(burt)):\n",
    "\n",
    "    user = burt['user'][i]\n",
    "    if i % 10 == 0:\n",
    "        search_list.clear()\n",
    "        split_NewNF = NewNF['item'][i:i+10].to_list()\n",
    "        split_burt = burt['item'][i:i+10].to_list()\n",
    "        \n",
    "        sub_split_NewNF = split_NewNF[0:6] #+ split_NewNF[-1]\n",
    "        split_burt = [a for a in split_burt if a not in sub_split_NewNF]\n",
    "        endpoint = topk\n",
    "        if len(split_burt) < (10 - topk):\n",
    "            endpoint = 10 - len(split_burt)\n",
    "\n",
    "        placehold = [1,1,1,1,1,1,0,0,0,0] \n",
    "        Neu_Index = 0\n",
    "        Burt_Index = 0   \n",
    "\n",
    "        for place in placehold:\n",
    "            if place == 1:\n",
    "                result.append((user, split_NewNF[Neu_Index]))\n",
    "                Neu_Index += 1\n",
    "            else:\n",
    "                result.append((user, split_burt[Burt_Index]))\n",
    "                Burt_Index += 1\n",
    "\n",
    "\n",
    "            \n"
   ]
  },
  {
   "cell_type": "code",
   "execution_count": 9,
   "metadata": {},
   "outputs": [],
   "source": [
    "pd.DataFrame(result, columns=[\"user\", \"item\"]).to_csv(\n",
    "    \"../output/VAE_mix_Burt_top_6.csv\", index=False\n",
    ")"
   ]
  },
  {
   "cell_type": "code",
   "execution_count": 5,
   "metadata": {},
   "outputs": [],
   "source": []
  }
 ],
 "metadata": {
  "interpreter": {
   "hash": "4fc799023037d79fb4b044712171da9d153d1f894f3734afcc893660f54fa373"
  },
  "kernelspec": {
   "display_name": "Python 3.8.5 ('torch')",
   "language": "python",
   "name": "python3"
  },
  "language_info": {
   "codemirror_mode": {
    "name": "ipython",
    "version": 3
   },
   "file_extension": ".py",
   "mimetype": "text/x-python",
   "name": "python",
   "nbconvert_exporter": "python",
   "pygments_lexer": "ipython3",
   "version": "3.8.5"
  },
  "orig_nbformat": 4
 },
 "nbformat": 4,
 "nbformat_minor": 2
}
