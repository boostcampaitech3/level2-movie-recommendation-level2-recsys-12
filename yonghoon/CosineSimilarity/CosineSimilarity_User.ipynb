{
 "cells": [
  {
   "cell_type": "code",
   "execution_count": 1,
   "metadata": {},
   "outputs": [],
   "source": [
    "import numpy as np\n",
    "import pandas as pd"
   ]
  },
  {
   "cell_type": "code",
   "execution_count": 2,
   "metadata": {},
   "outputs": [],
   "source": [
    "# 데이터 읽어 오기 \n",
    "user_cols = ['userid', 'itemid', 'timestamp']\n",
    "users = pd.read_csv('../data/train/train_ratings.csv', sep=',')\n",
    "\n",
    "directors_cols = ['itemid', 'director']\n",
    "directors = pd.read_csv('../data/train/directors.tsv', sep='\\t', names=directors_cols, encoding='latin-1')\n",
    "\n",
    "genres_cols = ['itemid', 'genre']\n",
    "genres = pd.read_csv('../data/train/genres.tsv', sep='\\t', names=genres_cols, encoding='latin-1')\n",
    "\n",
    "titles_cols = ['itemid', 'title']\n",
    "titles = pd.read_csv('../data/train/titles.tsv', sep='\\t', names=titles_cols, encoding='latin-1')\n",
    "\n",
    "writers_cols = ['itemid', 'writer']\n",
    "writers = pd.read_csv('../data/train/writers.tsv', sep='\\t', names=writers_cols, encoding='latin-1')\n",
    "\n",
    "years_cols = ['itemid', 'year']\n",
    "years = pd.read_csv('../data/train/years.tsv', sep='\\t', names=years_cols, encoding='latin-1')"
   ]
  },
  {
   "cell_type": "code",
   "execution_count": 3,
   "metadata": {},
   "outputs": [
    {
     "data": {
      "text/html": [
       "<div>\n",
       "<style scoped>\n",
       "    .dataframe tbody tr th:only-of-type {\n",
       "        vertical-align: middle;\n",
       "    }\n",
       "\n",
       "    .dataframe tbody tr th {\n",
       "        vertical-align: top;\n",
       "    }\n",
       "\n",
       "    .dataframe thead th {\n",
       "        text-align: right;\n",
       "    }\n",
       "</style>\n",
       "<table border=\"1\" class=\"dataframe\">\n",
       "  <thead>\n",
       "    <tr style=\"text-align: right;\">\n",
       "      <th></th>\n",
       "      <th>user</th>\n",
       "      <th>item</th>\n",
       "      <th>time</th>\n",
       "    </tr>\n",
       "  </thead>\n",
       "  <tbody>\n",
       "    <tr>\n",
       "      <th>0</th>\n",
       "      <td>11</td>\n",
       "      <td>4643</td>\n",
       "      <td>1230782529</td>\n",
       "    </tr>\n",
       "    <tr>\n",
       "      <th>1</th>\n",
       "      <td>11</td>\n",
       "      <td>170</td>\n",
       "      <td>1230782534</td>\n",
       "    </tr>\n",
       "    <tr>\n",
       "      <th>2</th>\n",
       "      <td>11</td>\n",
       "      <td>531</td>\n",
       "      <td>1230782539</td>\n",
       "    </tr>\n",
       "    <tr>\n",
       "      <th>3</th>\n",
       "      <td>11</td>\n",
       "      <td>616</td>\n",
       "      <td>1230782542</td>\n",
       "    </tr>\n",
       "    <tr>\n",
       "      <th>4</th>\n",
       "      <td>11</td>\n",
       "      <td>2140</td>\n",
       "      <td>1230782563</td>\n",
       "    </tr>\n",
       "  </tbody>\n",
       "</table>\n",
       "</div>"
      ],
      "text/plain": [
       "   user  item        time\n",
       "0    11  4643  1230782529\n",
       "1    11   170  1230782534\n",
       "2    11   531  1230782539\n",
       "3    11   616  1230782542\n",
       "4    11  2140  1230782563"
      ]
     },
     "execution_count": 3,
     "metadata": {},
     "output_type": "execute_result"
    }
   ],
   "source": [
    "users.head()"
   ]
  },
  {
   "cell_type": "code",
   "execution_count": 4,
   "metadata": {},
   "outputs": [],
   "source": [
    "# timestamp 제거 \n",
    "users = users.drop('time', axis=1)\n",
    "# rating 5로 추가\n",
    "users['rating'] = 1"
   ]
  },
  {
   "cell_type": "code",
   "execution_count": 5,
   "metadata": {},
   "outputs": [
    {
     "data": {
      "text/html": [
       "<div>\n",
       "<style scoped>\n",
       "    .dataframe tbody tr th:only-of-type {\n",
       "        vertical-align: middle;\n",
       "    }\n",
       "\n",
       "    .dataframe tbody tr th {\n",
       "        vertical-align: top;\n",
       "    }\n",
       "\n",
       "    .dataframe thead th {\n",
       "        text-align: right;\n",
       "    }\n",
       "</style>\n",
       "<table border=\"1\" class=\"dataframe\">\n",
       "  <thead>\n",
       "    <tr style=\"text-align: right;\">\n",
       "      <th></th>\n",
       "      <th>user</th>\n",
       "      <th>item</th>\n",
       "      <th>rating</th>\n",
       "    </tr>\n",
       "  </thead>\n",
       "  <tbody>\n",
       "    <tr>\n",
       "      <th>0</th>\n",
       "      <td>11</td>\n",
       "      <td>4643</td>\n",
       "      <td>1</td>\n",
       "    </tr>\n",
       "    <tr>\n",
       "      <th>1</th>\n",
       "      <td>11</td>\n",
       "      <td>170</td>\n",
       "      <td>1</td>\n",
       "    </tr>\n",
       "    <tr>\n",
       "      <th>2</th>\n",
       "      <td>11</td>\n",
       "      <td>531</td>\n",
       "      <td>1</td>\n",
       "    </tr>\n",
       "    <tr>\n",
       "      <th>3</th>\n",
       "      <td>11</td>\n",
       "      <td>616</td>\n",
       "      <td>1</td>\n",
       "    </tr>\n",
       "    <tr>\n",
       "      <th>4</th>\n",
       "      <td>11</td>\n",
       "      <td>2140</td>\n",
       "      <td>1</td>\n",
       "    </tr>\n",
       "  </tbody>\n",
       "</table>\n",
       "</div>"
      ],
      "text/plain": [
       "   user  item  rating\n",
       "0    11  4643       1\n",
       "1    11   170       1\n",
       "2    11   531       1\n",
       "3    11   616       1\n",
       "4    11  2140       1"
      ]
     },
     "execution_count": 5,
     "metadata": {},
     "output_type": "execute_result"
    }
   ],
   "source": [
    "users.head()"
   ]
  },
  {
   "cell_type": "code",
   "execution_count": 6,
   "metadata": {},
   "outputs": [],
   "source": [
    "# movie ID와 title 빼고 다른 데이터 제거\n",
    "movies = titles"
   ]
  },
  {
   "cell_type": "code",
   "execution_count": 7,
   "metadata": {},
   "outputs": [
    {
     "data": {
      "text/html": [
       "<div>\n",
       "<style scoped>\n",
       "    .dataframe tbody tr th:only-of-type {\n",
       "        vertical-align: middle;\n",
       "    }\n",
       "\n",
       "    .dataframe tbody tr th {\n",
       "        vertical-align: top;\n",
       "    }\n",
       "\n",
       "    .dataframe thead th {\n",
       "        text-align: right;\n",
       "    }\n",
       "</style>\n",
       "<table border=\"1\" class=\"dataframe\">\n",
       "  <thead>\n",
       "    <tr style=\"text-align: right;\">\n",
       "      <th></th>\n",
       "      <th>itemid</th>\n",
       "      <th>title</th>\n",
       "    </tr>\n",
       "  </thead>\n",
       "  <tbody>\n",
       "    <tr>\n",
       "      <th>0</th>\n",
       "      <td>item</td>\n",
       "      <td>title</td>\n",
       "    </tr>\n",
       "    <tr>\n",
       "      <th>1</th>\n",
       "      <td>318</td>\n",
       "      <td>Shawshank Redemption, The (1994)</td>\n",
       "    </tr>\n",
       "    <tr>\n",
       "      <th>2</th>\n",
       "      <td>2571</td>\n",
       "      <td>Matrix, The (1999)</td>\n",
       "    </tr>\n",
       "    <tr>\n",
       "      <th>3</th>\n",
       "      <td>2959</td>\n",
       "      <td>Fight Club (1999)</td>\n",
       "    </tr>\n",
       "    <tr>\n",
       "      <th>4</th>\n",
       "      <td>296</td>\n",
       "      <td>Pulp Fiction (1994)</td>\n",
       "    </tr>\n",
       "  </tbody>\n",
       "</table>\n",
       "</div>"
      ],
      "text/plain": [
       "  itemid                             title\n",
       "0   item                             title\n",
       "1    318  Shawshank Redemption, The (1994)\n",
       "2   2571                Matrix, The (1999)\n",
       "3   2959                 Fight Club (1999)\n",
       "4    296               Pulp Fiction (1994)"
      ]
     },
     "execution_count": 7,
     "metadata": {},
     "output_type": "execute_result"
    }
   ],
   "source": [
    "movies.head()"
   ]
  },
  {
   "cell_type": "code",
   "execution_count": 8,
   "metadata": {},
   "outputs": [],
   "source": [
    "# train, test 데이터 분리\n",
    "from sklearn.model_selection import train_test_split\n",
    "x = users.copy()\n",
    "y = users['user']\n",
    "x_train, x_test, y_train, y_test = train_test_split(x, y, test_size=0.25, stratify=y)\n"
   ]
  },
  {
   "cell_type": "code",
   "execution_count": 9,
   "metadata": {},
   "outputs": [],
   "source": [
    "# 정확도(RMSE)를 계산하는 함수 \n",
    "def RMSE(y_true, y_pred):\n",
    "    return np.sqrt(np.mean((np.array(y_true) - np.array(y_pred))**2))\n"
   ]
  },
  {
   "cell_type": "code",
   "execution_count": 10,
   "metadata": {},
   "outputs": [],
   "source": [
    "\n",
    "# 모델별 RMSE를 계산하는 함수 \n",
    "def score(model, neighbor_size=0):\n",
    "    id_pairs = zip(x_test['user'], x_test['item'])\n",
    "    y_pred = np.array([model(user, movie, neighbor_size) for (user, movie) in id_pairs])\n",
    "    y_true = np.array(x_test['rating'])\n",
    "    return RMSE(y_true, y_pred)\n"
   ]
  },
  {
   "cell_type": "code",
   "execution_count": 11,
   "metadata": {},
   "outputs": [],
   "source": [
    "\n",
    "# train 데이터로 Full matrix 구하기 \n",
    "rating_matrix = x_train.pivot(index='user', columns='item', values='rating')\n",
    "\n",
    "# train set 사용자들의 Cosine similarities 계산\n",
    "from sklearn.metrics.pairwise import cosine_similarity\n",
    "matrix_dummy = rating_matrix.copy().fillna(0)\n",
    "user_similarity = cosine_similarity(matrix_dummy, matrix_dummy)\n",
    "user_similarity = pd.DataFrame(user_similarity, index=rating_matrix.index, columns=rating_matrix.index)\n"
   ]
  },
  {
   "cell_type": "code",
   "execution_count": 12,
   "metadata": {},
   "outputs": [],
   "source": [
    "\n",
    "# Neighbor size를 정해서 예측치를 계산하는 함수 \n",
    "def cf_knn(user_id, movie_id, neighbor_size=0):\n",
    "    if movie_id in rating_matrix:\n",
    "        # 현재 사용자와 다른 사용자 간의 similarity 가져오기\n",
    "        sim_scores = user_similarity[user_id].copy()\n",
    "        # 현재 영화에 대한 모든 사용자의 rating값 가져오기\n",
    "        movie_ratings = rating_matrix[movie_id].copy()\n",
    "        # 현재 영화를 평가하지 않은 사용자의 index 가져오기\n",
    "        none_rating_idx = movie_ratings[movie_ratings.isnull()].index\n",
    "        # 현재 영화를 평가하지 않은 사용자의 rating (null) 제거\n",
    "        movie_ratings = movie_ratings.drop(none_rating_idx)\n",
    "        # 현재 영화를 평가하지 않은 사용자의 similarity값 제거\n",
    "        sim_scores = sim_scores.drop(none_rating_idx)\n",
    "##### (2) Neighbor size가 지정되지 않은 경우        \n",
    "        if neighbor_size == 0:          \n",
    "            # 현재 영화를 평가한 모든 사용자의 가중평균값 구하기\n",
    "            mean_rating = np.dot(sim_scores, movie_ratings) / sim_scores.sum()\n",
    "##### (3) Neighbor size가 지정된 경우\n",
    "        else:                       \n",
    "            # 해당 영화를 평가한 사용자가 최소 2명이 되는 경우에만 계산\n",
    "            if len(sim_scores) > 1: \n",
    "                # 지정된 neighbor size 값과 해당 영화를 평가한 총사용자 수 중 작은 것으로 결정\n",
    "                neighbor_size = min(neighbor_size, len(sim_scores))\n",
    "                # array로 바꾸기 (argsort를 사용하기 위함)\n",
    "                sim_scores = np.array(sim_scores)\n",
    "                movie_ratings = np.array(movie_ratings)\n",
    "                # 유사도를 순서대로 정렬\n",
    "                user_idx = np.argsort(sim_scores)\n",
    "                # 유사도를 neighbor size만큼 받기\n",
    "                sim_scores = sim_scores[user_idx][-neighbor_size:]\n",
    "                # 영화 rating을 neighbor size만큼 받기\n",
    "                movie_ratings = movie_ratings[user_idx][-neighbor_size:]\n",
    "                # 최종 예측값 계산 \n",
    "                mean_rating = np.dot(sim_scores, movie_ratings) / sim_scores.sum()\n",
    "            else:\n",
    "                mean_rating = 3.0\n",
    "    else:\n",
    "        mean_rating = 3.0\n",
    "    return mean_rating"
   ]
  },
  {
   "cell_type": "code",
   "execution_count": null,
   "metadata": {},
   "outputs": [
    {
     "data": {
      "text/plain": [
       "7.470039335081935e-16"
      ]
     },
     "execution_count": 33,
     "metadata": {},
     "output_type": "execute_result"
    }
   ],
   "source": [
    "# 정확도 계산\n",
    "score(cf_knn, neighbor_size=30)"
   ]
  },
  {
   "cell_type": "code",
   "execution_count": 13,
   "metadata": {},
   "outputs": [],
   "source": [
    "##### 주어진 사용자에 대해 추천을 받기 \n",
    "rating_matrix = users.pivot_table(values='rating', index='user', columns='item')\n",
    "from sklearn.metrics.pairwise import cosine_similarity\n",
    "matrix_dummy = rating_matrix.copy().fillna(0)\n",
    "user_similarity = cosine_similarity(matrix_dummy, matrix_dummy)\n",
    "user_similarity = pd.DataFrame(user_similarity, index=rating_matrix.index, columns=rating_matrix.index)\n"
   ]
  },
  {
   "cell_type": "code",
   "execution_count": 14,
   "metadata": {},
   "outputs": [],
   "source": [
    "def recom_movie(user_id, n_items, neighbor_size=30):\n",
    "    # 현 사용자가 평가한 영화 가져오기\n",
    "    user_movie = rating_matrix.loc[user_id].copy()\n",
    "    for movie in rating_matrix:\n",
    "        # 현 사용자가 이미 평가한 영화는 제외 (평점을 0으로)        \n",
    "        if pd.notnull(user_movie.loc[movie]):\n",
    "            user_movie.loc[movie] = 0\n",
    "        # 현 사용자가 평가하지 않은 영화의 예상 평점 계산\n",
    "        else:\n",
    "            user_movie.loc[movie] = cf_knn(user_id, movie, neighbor_size)\n",
    "    # 영화를 예상 평점에 따라 정렬해서 제목을 뽑아서 돌려 줌\n",
    "    movie_sort = user_movie.sort_values(ascending=False)[:n_items]\n",
    "    return movie_sort"
   ]
  },
  {
   "cell_type": "code",
   "execution_count": null,
   "metadata": {},
   "outputs": [
    {
     "data": {
      "text/plain": [
       "item\n",
       "4299     5.0\n",
       "59103    5.0\n",
       "67429    5.0\n",
       "78469    5.0\n",
       "33495    5.0\n",
       "3484     5.0\n",
       "52462    5.0\n",
       "33564    5.0\n",
       "2829     5.0\n",
       "71468    5.0\n",
       "Name: 14, dtype: float64"
      ]
     },
     "execution_count": 42,
     "metadata": {},
     "output_type": "execute_result"
    }
   ],
   "source": [
    "recom_movie(user_id=14, n_items=10, neighbor_size=30)"
   ]
  },
  {
   "cell_type": "code",
   "execution_count": null,
   "metadata": {},
   "outputs": [],
   "source": [
    "\n",
    "##### (5) 최적의 neighbor size 구하기\n",
    "\n",
    "# train set으로 full matrix와 cosine similarity 구하기 \n",
    "rating_matrix = x_train.pivot_table(values='rating', index='user', columns='item')\n",
    "from sklearn.metrics.pairwise import cosine_similarity\n",
    "matrix_dummy = rating_matrix.copy().fillna(0)\n",
    "user_similarity = cosine_similarity(matrix_dummy, matrix_dummy)\n",
    "user_similarity = pd.DataFrame(user_similarity, index=rating_matrix.index, columns=rating_matrix.index)\n",
    "for neighbor_size in [10, 20, 30, 40, 50, 60]:\n",
    "    print(\"Neighbor size = %d : RMSE = %.4f\" % (neighbor_size, score(cf_knn, neighbor_size)))\n"
   ]
  },
  {
   "cell_type": "code",
   "execution_count": 15,
   "metadata": {},
   "outputs": [
    {
     "ename": "KeyboardInterrupt",
     "evalue": "",
     "output_type": "error",
     "traceback": [
      "\u001b[0;31m---------------------------------------------------------------------------\u001b[0m",
      "\u001b[0;31mKeyboardInterrupt\u001b[0m                         Traceback (most recent call last)",
      "\u001b[1;32m/opt/ml/recsys/jupyter/cosineSimilarity.ipynb Cell 18'\u001b[0m in \u001b[0;36m<cell line: 7>\u001b[0;34m()\u001b[0m\n\u001b[1;32m      <a href='vscode-notebook-cell://ssh-remote%2B115.85.183.238/opt/ml/recsys/jupyter/cosineSimilarity.ipynb#ch0000017vscode-remote?line=3'>4</a>\u001b[0m result \u001b[39m=\u001b[39m []\n\u001b[1;32m      <a href='vscode-notebook-cell://ssh-remote%2B115.85.183.238/opt/ml/recsys/jupyter/cosineSimilarity.ipynb#ch0000017vscode-remote?line=6'>7</a>\u001b[0m \u001b[39mfor\u001b[39;00m user \u001b[39min\u001b[39;00m users:\n\u001b[0;32m----> <a href='vscode-notebook-cell://ssh-remote%2B115.85.183.238/opt/ml/recsys/jupyter/cosineSimilarity.ipynb#ch0000017vscode-remote?line=7'>8</a>\u001b[0m     items \u001b[39m=\u001b[39m recom_movie(user_id\u001b[39m=\u001b[39;49muser, n_items\u001b[39m=\u001b[39;49m\u001b[39m10\u001b[39;49m, neighbor_size\u001b[39m=\u001b[39;49m\u001b[39m30\u001b[39;49m)\n\u001b[1;32m      <a href='vscode-notebook-cell://ssh-remote%2B115.85.183.238/opt/ml/recsys/jupyter/cosineSimilarity.ipynb#ch0000017vscode-remote?line=8'>9</a>\u001b[0m     \u001b[39mfor\u001b[39;00m item \u001b[39min\u001b[39;00m items:\n\u001b[1;32m     <a href='vscode-notebook-cell://ssh-remote%2B115.85.183.238/opt/ml/recsys/jupyter/cosineSimilarity.ipynb#ch0000017vscode-remote?line=9'>10</a>\u001b[0m         result\u001b[39m.\u001b[39mappend((users, item))\n",
      "\u001b[1;32m/opt/ml/recsys/jupyter/cosineSimilarity.ipynb Cell 15'\u001b[0m in \u001b[0;36mrecom_movie\u001b[0;34m(user_id, n_items, neighbor_size)\u001b[0m\n\u001b[1;32m      <a href='vscode-notebook-cell://ssh-remote%2B115.85.183.238/opt/ml/recsys/jupyter/cosineSimilarity.ipynb#ch0000014vscode-remote?line=6'>7</a>\u001b[0m         user_movie\u001b[39m.\u001b[39mloc[movie] \u001b[39m=\u001b[39m \u001b[39m0\u001b[39m\n\u001b[1;32m      <a href='vscode-notebook-cell://ssh-remote%2B115.85.183.238/opt/ml/recsys/jupyter/cosineSimilarity.ipynb#ch0000014vscode-remote?line=7'>8</a>\u001b[0m     \u001b[39m# 현 사용자가 평가하지 않은 영화의 예상 평점 계산\u001b[39;00m\n\u001b[1;32m      <a href='vscode-notebook-cell://ssh-remote%2B115.85.183.238/opt/ml/recsys/jupyter/cosineSimilarity.ipynb#ch0000014vscode-remote?line=8'>9</a>\u001b[0m     \u001b[39melse\u001b[39;00m:\n\u001b[0;32m---> <a href='vscode-notebook-cell://ssh-remote%2B115.85.183.238/opt/ml/recsys/jupyter/cosineSimilarity.ipynb#ch0000014vscode-remote?line=9'>10</a>\u001b[0m         user_movie\u001b[39m.\u001b[39mloc[movie] \u001b[39m=\u001b[39m cf_knn(user_id, movie, neighbor_size)\n\u001b[1;32m     <a href='vscode-notebook-cell://ssh-remote%2B115.85.183.238/opt/ml/recsys/jupyter/cosineSimilarity.ipynb#ch0000014vscode-remote?line=10'>11</a>\u001b[0m \u001b[39m# 영화를 예상 평점에 따라 정렬해서 제목을 뽑아서 돌려 줌\u001b[39;00m\n\u001b[1;32m     <a href='vscode-notebook-cell://ssh-remote%2B115.85.183.238/opt/ml/recsys/jupyter/cosineSimilarity.ipynb#ch0000014vscode-remote?line=11'>12</a>\u001b[0m movie_sort \u001b[39m=\u001b[39m user_movie\u001b[39m.\u001b[39msort_values(ascending\u001b[39m=\u001b[39m\u001b[39mFalse\u001b[39;00m)[:n_items]\n",
      "\u001b[1;32m/opt/ml/recsys/jupyter/cosineSimilarity.ipynb Cell 12'\u001b[0m in \u001b[0;36mcf_knn\u001b[0;34m(user_id, movie_id, neighbor_size)\u001b[0m\n\u001b[1;32m     <a href='vscode-notebook-cell://ssh-remote%2B115.85.183.238/opt/ml/recsys/jupyter/cosineSimilarity.ipynb#ch0000011vscode-remote?line=10'>11</a>\u001b[0m         movie_ratings \u001b[39m=\u001b[39m movie_ratings\u001b[39m.\u001b[39mdrop(none_rating_idx)\n\u001b[1;32m     <a href='vscode-notebook-cell://ssh-remote%2B115.85.183.238/opt/ml/recsys/jupyter/cosineSimilarity.ipynb#ch0000011vscode-remote?line=11'>12</a>\u001b[0m         \u001b[39m# 현재 영화를 평가하지 않은 사용자의 similarity값 제거\u001b[39;00m\n\u001b[0;32m---> <a href='vscode-notebook-cell://ssh-remote%2B115.85.183.238/opt/ml/recsys/jupyter/cosineSimilarity.ipynb#ch0000011vscode-remote?line=12'>13</a>\u001b[0m         sim_scores \u001b[39m=\u001b[39m sim_scores\u001b[39m.\u001b[39;49mdrop(none_rating_idx)\n\u001b[1;32m     <a href='vscode-notebook-cell://ssh-remote%2B115.85.183.238/opt/ml/recsys/jupyter/cosineSimilarity.ipynb#ch0000011vscode-remote?line=13'>14</a>\u001b[0m \u001b[39m##### (2) Neighbor size가 지정되지 않은 경우        \u001b[39;00m\n\u001b[1;32m     <a href='vscode-notebook-cell://ssh-remote%2B115.85.183.238/opt/ml/recsys/jupyter/cosineSimilarity.ipynb#ch0000011vscode-remote?line=14'>15</a>\u001b[0m         \u001b[39mif\u001b[39;00m neighbor_size \u001b[39m==\u001b[39m \u001b[39m0\u001b[39m:          \n\u001b[1;32m     <a href='vscode-notebook-cell://ssh-remote%2B115.85.183.238/opt/ml/recsys/jupyter/cosineSimilarity.ipynb#ch0000011vscode-remote?line=15'>16</a>\u001b[0m             \u001b[39m# 현재 영화를 평가한 모든 사용자의 가중평균값 구하기\u001b[39;00m\n",
      "File \u001b[0;32m/opt/conda/envs/torch/lib/python3.10/site-packages/pandas/util/_decorators.py:311\u001b[0m, in \u001b[0;36mdeprecate_nonkeyword_arguments.<locals>.decorate.<locals>.wrapper\u001b[0;34m(*args, **kwargs)\u001b[0m\n\u001b[1;32m    <a href='file:///opt/conda/envs/torch/lib/python3.10/site-packages/pandas/util/_decorators.py?line=304'>305</a>\u001b[0m \u001b[39mif\u001b[39;00m \u001b[39mlen\u001b[39m(args) \u001b[39m>\u001b[39m num_allow_args:\n\u001b[1;32m    <a href='file:///opt/conda/envs/torch/lib/python3.10/site-packages/pandas/util/_decorators.py?line=305'>306</a>\u001b[0m     warnings\u001b[39m.\u001b[39mwarn(\n\u001b[1;32m    <a href='file:///opt/conda/envs/torch/lib/python3.10/site-packages/pandas/util/_decorators.py?line=306'>307</a>\u001b[0m         msg\u001b[39m.\u001b[39mformat(arguments\u001b[39m=\u001b[39marguments),\n\u001b[1;32m    <a href='file:///opt/conda/envs/torch/lib/python3.10/site-packages/pandas/util/_decorators.py?line=307'>308</a>\u001b[0m         \u001b[39mFutureWarning\u001b[39;00m,\n\u001b[1;32m    <a href='file:///opt/conda/envs/torch/lib/python3.10/site-packages/pandas/util/_decorators.py?line=308'>309</a>\u001b[0m         stacklevel\u001b[39m=\u001b[39mstacklevel,\n\u001b[1;32m    <a href='file:///opt/conda/envs/torch/lib/python3.10/site-packages/pandas/util/_decorators.py?line=309'>310</a>\u001b[0m     )\n\u001b[0;32m--> <a href='file:///opt/conda/envs/torch/lib/python3.10/site-packages/pandas/util/_decorators.py?line=310'>311</a>\u001b[0m \u001b[39mreturn\u001b[39;00m func(\u001b[39m*\u001b[39;49margs, \u001b[39m*\u001b[39;49m\u001b[39m*\u001b[39;49mkwargs)\n",
      "File \u001b[0;32m/opt/conda/envs/torch/lib/python3.10/site-packages/pandas/core/series.py:4771\u001b[0m, in \u001b[0;36mSeries.drop\u001b[0;34m(self, labels, axis, index, columns, level, inplace, errors)\u001b[0m\n\u001b[1;32m   <a href='file:///opt/conda/envs/torch/lib/python3.10/site-packages/pandas/core/series.py?line=4673'>4674</a>\u001b[0m \u001b[39m@deprecate_nonkeyword_arguments\u001b[39m(version\u001b[39m=\u001b[39m\u001b[39mNone\u001b[39;00m, allowed_args\u001b[39m=\u001b[39m[\u001b[39m\"\u001b[39m\u001b[39mself\u001b[39m\u001b[39m\"\u001b[39m, \u001b[39m\"\u001b[39m\u001b[39mlabels\u001b[39m\u001b[39m\"\u001b[39m])\n\u001b[1;32m   <a href='file:///opt/conda/envs/torch/lib/python3.10/site-packages/pandas/core/series.py?line=4674'>4675</a>\u001b[0m \u001b[39mdef\u001b[39;00m \u001b[39mdrop\u001b[39m(\n\u001b[1;32m   <a href='file:///opt/conda/envs/torch/lib/python3.10/site-packages/pandas/core/series.py?line=4675'>4676</a>\u001b[0m     \u001b[39mself\u001b[39m,\n\u001b[0;32m   (...)\u001b[0m\n\u001b[1;32m   <a href='file:///opt/conda/envs/torch/lib/python3.10/site-packages/pandas/core/series.py?line=4682'>4683</a>\u001b[0m     errors\u001b[39m=\u001b[39m\u001b[39m\"\u001b[39m\u001b[39mraise\u001b[39m\u001b[39m\"\u001b[39m,\n\u001b[1;32m   <a href='file:///opt/conda/envs/torch/lib/python3.10/site-packages/pandas/core/series.py?line=4683'>4684</a>\u001b[0m ) \u001b[39m-\u001b[39m\u001b[39m>\u001b[39m Series:\n\u001b[1;32m   <a href='file:///opt/conda/envs/torch/lib/python3.10/site-packages/pandas/core/series.py?line=4684'>4685</a>\u001b[0m     \u001b[39m\"\"\"\u001b[39;00m\n\u001b[1;32m   <a href='file:///opt/conda/envs/torch/lib/python3.10/site-packages/pandas/core/series.py?line=4685'>4686</a>\u001b[0m \u001b[39m    Return Series with specified index labels removed.\u001b[39;00m\n\u001b[1;32m   <a href='file:///opt/conda/envs/torch/lib/python3.10/site-packages/pandas/core/series.py?line=4686'>4687</a>\u001b[0m \n\u001b[0;32m   (...)\u001b[0m\n\u001b[1;32m   <a href='file:///opt/conda/envs/torch/lib/python3.10/site-packages/pandas/core/series.py?line=4768'>4769</a>\u001b[0m \u001b[39m    dtype: float64\u001b[39;00m\n\u001b[1;32m   <a href='file:///opt/conda/envs/torch/lib/python3.10/site-packages/pandas/core/series.py?line=4769'>4770</a>\u001b[0m \u001b[39m    \"\"\"\u001b[39;00m\n\u001b[0;32m-> <a href='file:///opt/conda/envs/torch/lib/python3.10/site-packages/pandas/core/series.py?line=4770'>4771</a>\u001b[0m     \u001b[39mreturn\u001b[39;00m \u001b[39msuper\u001b[39;49m()\u001b[39m.\u001b[39;49mdrop(\n\u001b[1;32m   <a href='file:///opt/conda/envs/torch/lib/python3.10/site-packages/pandas/core/series.py?line=4771'>4772</a>\u001b[0m         labels\u001b[39m=\u001b[39;49mlabels,\n\u001b[1;32m   <a href='file:///opt/conda/envs/torch/lib/python3.10/site-packages/pandas/core/series.py?line=4772'>4773</a>\u001b[0m         axis\u001b[39m=\u001b[39;49maxis,\n\u001b[1;32m   <a href='file:///opt/conda/envs/torch/lib/python3.10/site-packages/pandas/core/series.py?line=4773'>4774</a>\u001b[0m         index\u001b[39m=\u001b[39;49mindex,\n\u001b[1;32m   <a href='file:///opt/conda/envs/torch/lib/python3.10/site-packages/pandas/core/series.py?line=4774'>4775</a>\u001b[0m         columns\u001b[39m=\u001b[39;49mcolumns,\n\u001b[1;32m   <a href='file:///opt/conda/envs/torch/lib/python3.10/site-packages/pandas/core/series.py?line=4775'>4776</a>\u001b[0m         level\u001b[39m=\u001b[39;49mlevel,\n\u001b[1;32m   <a href='file:///opt/conda/envs/torch/lib/python3.10/site-packages/pandas/core/series.py?line=4776'>4777</a>\u001b[0m         inplace\u001b[39m=\u001b[39;49minplace,\n\u001b[1;32m   <a href='file:///opt/conda/envs/torch/lib/python3.10/site-packages/pandas/core/series.py?line=4777'>4778</a>\u001b[0m         errors\u001b[39m=\u001b[39;49merrors,\n\u001b[1;32m   <a href='file:///opt/conda/envs/torch/lib/python3.10/site-packages/pandas/core/series.py?line=4778'>4779</a>\u001b[0m     )\n",
      "File \u001b[0;32m/opt/conda/envs/torch/lib/python3.10/site-packages/pandas/core/generic.py:4279\u001b[0m, in \u001b[0;36mNDFrame.drop\u001b[0;34m(self, labels, axis, index, columns, level, inplace, errors)\u001b[0m\n\u001b[1;32m   <a href='file:///opt/conda/envs/torch/lib/python3.10/site-packages/pandas/core/generic.py?line=4276'>4277</a>\u001b[0m \u001b[39mfor\u001b[39;00m axis, labels \u001b[39min\u001b[39;00m axes\u001b[39m.\u001b[39mitems():\n\u001b[1;32m   <a href='file:///opt/conda/envs/torch/lib/python3.10/site-packages/pandas/core/generic.py?line=4277'>4278</a>\u001b[0m     \u001b[39mif\u001b[39;00m labels \u001b[39mis\u001b[39;00m \u001b[39mnot\u001b[39;00m \u001b[39mNone\u001b[39;00m:\n\u001b[0;32m-> <a href='file:///opt/conda/envs/torch/lib/python3.10/site-packages/pandas/core/generic.py?line=4278'>4279</a>\u001b[0m         obj \u001b[39m=\u001b[39m obj\u001b[39m.\u001b[39;49m_drop_axis(labels, axis, level\u001b[39m=\u001b[39;49mlevel, errors\u001b[39m=\u001b[39;49merrors)\n\u001b[1;32m   <a href='file:///opt/conda/envs/torch/lib/python3.10/site-packages/pandas/core/generic.py?line=4280'>4281</a>\u001b[0m \u001b[39mif\u001b[39;00m inplace:\n\u001b[1;32m   <a href='file:///opt/conda/envs/torch/lib/python3.10/site-packages/pandas/core/generic.py?line=4281'>4282</a>\u001b[0m     \u001b[39mself\u001b[39m\u001b[39m.\u001b[39m_update_inplace(obj)\n",
      "File \u001b[0;32m/opt/conda/envs/torch/lib/python3.10/site-packages/pandas/core/generic.py:4323\u001b[0m, in \u001b[0;36mNDFrame._drop_axis\u001b[0;34m(self, labels, axis, level, errors, consolidate, only_slice)\u001b[0m\n\u001b[1;32m   <a href='file:///opt/conda/envs/torch/lib/python3.10/site-packages/pandas/core/generic.py?line=4320'>4321</a>\u001b[0m         new_axis \u001b[39m=\u001b[39m axis\u001b[39m.\u001b[39mdrop(labels, level\u001b[39m=\u001b[39mlevel, errors\u001b[39m=\u001b[39merrors)\n\u001b[1;32m   <a href='file:///opt/conda/envs/torch/lib/python3.10/site-packages/pandas/core/generic.py?line=4321'>4322</a>\u001b[0m     \u001b[39melse\u001b[39;00m:\n\u001b[0;32m-> <a href='file:///opt/conda/envs/torch/lib/python3.10/site-packages/pandas/core/generic.py?line=4322'>4323</a>\u001b[0m         new_axis \u001b[39m=\u001b[39m axis\u001b[39m.\u001b[39;49mdrop(labels, errors\u001b[39m=\u001b[39;49merrors)\n\u001b[1;32m   <a href='file:///opt/conda/envs/torch/lib/python3.10/site-packages/pandas/core/generic.py?line=4323'>4324</a>\u001b[0m     indexer \u001b[39m=\u001b[39m axis\u001b[39m.\u001b[39mget_indexer(new_axis)\n\u001b[1;32m   <a href='file:///opt/conda/envs/torch/lib/python3.10/site-packages/pandas/core/generic.py?line=4325'>4326</a>\u001b[0m \u001b[39m# Case for non-unique axis\u001b[39;00m\n\u001b[1;32m   <a href='file:///opt/conda/envs/torch/lib/python3.10/site-packages/pandas/core/generic.py?line=4326'>4327</a>\u001b[0m \u001b[39melse\u001b[39;00m:\n",
      "File \u001b[0;32m/opt/conda/envs/torch/lib/python3.10/site-packages/pandas/core/indexes/base.py:6646\u001b[0m, in \u001b[0;36mIndex.drop\u001b[0;34m(self, labels, errors)\u001b[0m\n\u001b[1;32m   <a href='file:///opt/conda/envs/torch/lib/python3.10/site-packages/pandas/core/indexes/base.py?line=6643'>6644</a>\u001b[0m         \u001b[39mraise\u001b[39;00m \u001b[39mKeyError\u001b[39;00m(\u001b[39mf\u001b[39m\u001b[39m\"\u001b[39m\u001b[39m{\u001b[39;00m\u001b[39mlist\u001b[39m(labels[mask])\u001b[39m}\u001b[39;00m\u001b[39m not found in axis\u001b[39m\u001b[39m\"\u001b[39m)\n\u001b[1;32m   <a href='file:///opt/conda/envs/torch/lib/python3.10/site-packages/pandas/core/indexes/base.py?line=6644'>6645</a>\u001b[0m     indexer \u001b[39m=\u001b[39m indexer[\u001b[39m~\u001b[39mmask]\n\u001b[0;32m-> <a href='file:///opt/conda/envs/torch/lib/python3.10/site-packages/pandas/core/indexes/base.py?line=6645'>6646</a>\u001b[0m \u001b[39mreturn\u001b[39;00m \u001b[39mself\u001b[39;49m\u001b[39m.\u001b[39;49mdelete(indexer)\n",
      "File \u001b[0;32m/opt/conda/envs/torch/lib/python3.10/site-packages/pandas/core/indexes/base.py:6554\u001b[0m, in \u001b[0;36mIndex.delete\u001b[0;34m(self, loc)\u001b[0m\n\u001b[1;32m   <a href='file:///opt/conda/envs/torch/lib/python3.10/site-packages/pandas/core/indexes/base.py?line=6550'>6551</a>\u001b[0m res_values: ArrayLike\n\u001b[1;32m   <a href='file:///opt/conda/envs/torch/lib/python3.10/site-packages/pandas/core/indexes/base.py?line=6551'>6552</a>\u001b[0m \u001b[39mif\u001b[39;00m \u001b[39misinstance\u001b[39m(values, np\u001b[39m.\u001b[39mndarray):\n\u001b[1;32m   <a href='file:///opt/conda/envs/torch/lib/python3.10/site-packages/pandas/core/indexes/base.py?line=6552'>6553</a>\u001b[0m     \u001b[39m# TODO(__array_function__): special casing will be unnecessary\u001b[39;00m\n\u001b[0;32m-> <a href='file:///opt/conda/envs/torch/lib/python3.10/site-packages/pandas/core/indexes/base.py?line=6553'>6554</a>\u001b[0m     res_values \u001b[39m=\u001b[39m np\u001b[39m.\u001b[39;49mdelete(values, loc)\n\u001b[1;32m   <a href='file:///opt/conda/envs/torch/lib/python3.10/site-packages/pandas/core/indexes/base.py?line=6554'>6555</a>\u001b[0m \u001b[39melse\u001b[39;00m:\n\u001b[1;32m   <a href='file:///opt/conda/envs/torch/lib/python3.10/site-packages/pandas/core/indexes/base.py?line=6555'>6556</a>\u001b[0m     res_values \u001b[39m=\u001b[39m values\u001b[39m.\u001b[39mdelete(loc)\n",
      "File \u001b[0;32m<__array_function__ internals>:5\u001b[0m, in \u001b[0;36mdelete\u001b[0;34m(*args, **kwargs)\u001b[0m\n",
      "File \u001b[0;32m/opt/conda/envs/torch/lib/python3.10/site-packages/numpy/lib/function_base.py:4555\u001b[0m, in \u001b[0;36mdelete\u001b[0;34m(arr, obj, axis)\u001b[0m\n\u001b[1;32m   <a href='file:///opt/conda/envs/torch/lib/python3.10/site-packages/numpy/lib/function_base.py?line=4551'>4552</a>\u001b[0m         keep[obj,] \u001b[39m=\u001b[39m \u001b[39mFalse\u001b[39;00m\n\u001b[1;32m   <a href='file:///opt/conda/envs/torch/lib/python3.10/site-packages/numpy/lib/function_base.py?line=4553'>4554</a>\u001b[0m     slobj[axis] \u001b[39m=\u001b[39m keep\n\u001b[0;32m-> <a href='file:///opt/conda/envs/torch/lib/python3.10/site-packages/numpy/lib/function_base.py?line=4554'>4555</a>\u001b[0m     new \u001b[39m=\u001b[39m arr[\u001b[39mtuple\u001b[39;49m(slobj)]\n\u001b[1;32m   <a href='file:///opt/conda/envs/torch/lib/python3.10/site-packages/numpy/lib/function_base.py?line=4556'>4557</a>\u001b[0m \u001b[39mif\u001b[39;00m wrap:\n\u001b[1;32m   <a href='file:///opt/conda/envs/torch/lib/python3.10/site-packages/numpy/lib/function_base.py?line=4557'>4558</a>\u001b[0m     \u001b[39mreturn\u001b[39;00m wrap(new)\n",
      "\u001b[0;31mKeyboardInterrupt\u001b[0m: "
     ]
    }
   ],
   "source": [
    "rating_df = pd.read_csv('../data/train/train_ratings.csv')\n",
    "users = rating_df[\"user\"].unique()\n",
    "\n",
    "result = []\n",
    "\n",
    "\n",
    "for user in users:\n",
    "    items = recom_movie(user_id=user, n_items=10, neighbor_size=30)\n",
    "    for item in items:\n",
    "        result.append((user, item))\n",
    "\n",
    "pd.DataFrame(result, columns=[\"user\", \"item\"]).to_csv(\n",
    "    \"output/cosine_sim_submission.csv\", index=False\n",
    ")\n"
   ]
  },
  {
   "cell_type": "code",
   "execution_count": null,
   "metadata": {},
   "outputs": [],
   "source": []
  }
 ],
 "metadata": {
  "interpreter": {
   "hash": "8bff0657a98b8ee576cbe89028f6a544b770fee234379978e147d89ef60d92ed"
  },
  "kernelspec": {
   "display_name": "Python 3.10.2 ('torch')",
   "language": "python",
   "name": "python3"
  },
  "language_info": {
   "codemirror_mode": {
    "name": "ipython",
    "version": 3
   },
   "file_extension": ".py",
   "mimetype": "text/x-python",
   "name": "python",
   "nbconvert_exporter": "python",
   "pygments_lexer": "ipython3",
   "version": "3.10.2"
  },
  "orig_nbformat": 4
 },
 "nbformat": 4,
 "nbformat_minor": 2
}
