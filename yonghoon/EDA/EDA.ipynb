{
 "cells": [
  {
   "cell_type": "code",
   "execution_count": 1,
   "metadata": {},
   "outputs": [],
   "source": [
    "import pandas as pd\n",
    "import numpy as np\n",
    "import os"
   ]
  },
  {
   "cell_type": "code",
   "execution_count": 2,
   "metadata": {},
   "outputs": [],
   "source": [
    "data_path = '../data/train'\n",
    "train_df = pd.read_csv(os.path.join(data_path, 'train_ratings.csv'))"
   ]
  },
  {
   "cell_type": "code",
   "execution_count": 3,
   "metadata": {},
   "outputs": [
    {
     "name": "stdout",
     "output_type": "stream",
     "text": [
      "<class 'pandas.core.frame.DataFrame'>\n",
      "RangeIndex: 5154471 entries, 0 to 5154470\n",
      "Data columns (total 3 columns):\n",
      " #   Column  Dtype\n",
      "---  ------  -----\n",
      " 0   user    int64\n",
      " 1   item    int64\n",
      " 2   time    int64\n",
      "dtypes: int64(3)\n",
      "memory usage: 118.0 MB\n"
     ]
    },
    {
     "data": {
      "text/html": [
       "<div>\n",
       "<style scoped>\n",
       "    .dataframe tbody tr th:only-of-type {\n",
       "        vertical-align: middle;\n",
       "    }\n",
       "\n",
       "    .dataframe tbody tr th {\n",
       "        vertical-align: top;\n",
       "    }\n",
       "\n",
       "    .dataframe thead th {\n",
       "        text-align: right;\n",
       "    }\n",
       "</style>\n",
       "<table border=\"1\" class=\"dataframe\">\n",
       "  <thead>\n",
       "    <tr style=\"text-align: right;\">\n",
       "      <th></th>\n",
       "      <th>user</th>\n",
       "      <th>item</th>\n",
       "      <th>time</th>\n",
       "    </tr>\n",
       "  </thead>\n",
       "  <tbody>\n",
       "    <tr>\n",
       "      <th>0</th>\n",
       "      <td>11</td>\n",
       "      <td>4643</td>\n",
       "      <td>1230782529</td>\n",
       "    </tr>\n",
       "    <tr>\n",
       "      <th>1</th>\n",
       "      <td>11</td>\n",
       "      <td>170</td>\n",
       "      <td>1230782534</td>\n",
       "    </tr>\n",
       "    <tr>\n",
       "      <th>2</th>\n",
       "      <td>11</td>\n",
       "      <td>531</td>\n",
       "      <td>1230782539</td>\n",
       "    </tr>\n",
       "    <tr>\n",
       "      <th>3</th>\n",
       "      <td>11</td>\n",
       "      <td>616</td>\n",
       "      <td>1230782542</td>\n",
       "    </tr>\n",
       "    <tr>\n",
       "      <th>4</th>\n",
       "      <td>11</td>\n",
       "      <td>2140</td>\n",
       "      <td>1230782563</td>\n",
       "    </tr>\n",
       "  </tbody>\n",
       "</table>\n",
       "</div>"
      ],
      "text/plain": [
       "   user  item        time\n",
       "0    11  4643  1230782529\n",
       "1    11   170  1230782534\n",
       "2    11   531  1230782539\n",
       "3    11   616  1230782542\n",
       "4    11  2140  1230782563"
      ]
     },
     "execution_count": 3,
     "metadata": {},
     "output_type": "execute_result"
    }
   ],
   "source": [
    "train_df.info()\n",
    "train_df.head(5)"
   ]
  },
  {
   "cell_type": "code",
   "execution_count": 4,
   "metadata": {},
   "outputs": [
    {
     "name": "stdout",
     "output_type": "stream",
     "text": [
      "Number of unique train users:  31360\n",
      "Number of unique train items:  6807\n"
     ]
    }
   ],
   "source": [
    "num_train_users = train_df['user'].nunique()\n",
    "num_train_items = train_df['item'].nunique()\n",
    "\n",
    "print (\"Number of unique train users: \", num_train_users)\n",
    "print (\"Number of unique train items: \", num_train_items)"
   ]
  },
  {
   "cell_type": "code",
   "execution_count": 5,
   "metadata": {},
   "outputs": [
    {
     "name": "stdout",
     "output_type": "stream",
     "text": [
      "Data sparsity ratio:  0.9758536052697853\n"
     ]
    }
   ],
   "source": [
    "print(\"Data sparsity ratio: \", 1 - len(train_df) / (num_train_users * num_train_items))"
   ]
  },
  {
   "cell_type": "code",
   "execution_count": 6,
   "metadata": {},
   "outputs": [],
   "source": [
    "year_data = pd.read_csv(os.path.join(data_path, 'years.tsv'), sep='\\t')\n",
    "writer_data = pd.read_csv(os.path.join(data_path, 'writers.tsv'), sep='\\t')\n",
    "title_data = pd.read_csv(os.path.join(data_path, 'titles.tsv'), sep='\\t')\n",
    "genre_data = pd.read_csv(os.path.join(data_path, 'genres.tsv'), sep='\\t')\n",
    "director_data = pd.read_csv(os.path.join(data_path, 'directors.tsv'), sep='\\t')"
   ]
  },
  {
   "cell_type": "code",
   "execution_count": 7,
   "metadata": {},
   "outputs": [
    {
     "name": "stdout",
     "output_type": "stream",
     "text": [
      "<class 'pandas.core.frame.DataFrame'>\n",
      "RangeIndex: 6799 entries, 0 to 6798\n",
      "Data columns (total 2 columns):\n",
      " #   Column  Non-Null Count  Dtype\n",
      "---  ------  --------------  -----\n",
      " 0   item    6799 non-null   int64\n",
      " 1   year    6799 non-null   int64\n",
      "dtypes: int64(2)\n",
      "memory usage: 106.4 KB\n"
     ]
    },
    {
     "data": {
      "text/html": [
       "<div>\n",
       "<style scoped>\n",
       "    .dataframe tbody tr th:only-of-type {\n",
       "        vertical-align: middle;\n",
       "    }\n",
       "\n",
       "    .dataframe tbody tr th {\n",
       "        vertical-align: top;\n",
       "    }\n",
       "\n",
       "    .dataframe thead th {\n",
       "        text-align: right;\n",
       "    }\n",
       "</style>\n",
       "<table border=\"1\" class=\"dataframe\">\n",
       "  <thead>\n",
       "    <tr style=\"text-align: right;\">\n",
       "      <th></th>\n",
       "      <th>item</th>\n",
       "      <th>year</th>\n",
       "    </tr>\n",
       "  </thead>\n",
       "  <tbody>\n",
       "    <tr>\n",
       "      <th>0</th>\n",
       "      <td>1348</td>\n",
       "      <td>1922</td>\n",
       "    </tr>\n",
       "    <tr>\n",
       "      <th>1</th>\n",
       "      <td>44587</td>\n",
       "      <td>1922</td>\n",
       "    </tr>\n",
       "    <tr>\n",
       "      <th>2</th>\n",
       "      <td>4768</td>\n",
       "      <td>1922</td>\n",
       "    </tr>\n",
       "    <tr>\n",
       "      <th>3</th>\n",
       "      <td>8235</td>\n",
       "      <td>1923</td>\n",
       "    </tr>\n",
       "    <tr>\n",
       "      <th>4</th>\n",
       "      <td>8609</td>\n",
       "      <td>1923</td>\n",
       "    </tr>\n",
       "  </tbody>\n",
       "</table>\n",
       "</div>"
      ],
      "text/plain": [
       "    item  year\n",
       "0   1348  1922\n",
       "1  44587  1922\n",
       "2   4768  1922\n",
       "3   8235  1923\n",
       "4   8609  1923"
      ]
     },
     "execution_count": 7,
     "metadata": {},
     "output_type": "execute_result"
    }
   ],
   "source": [
    "year_data.info()\n",
    "year_data.head(5)"
   ]
  },
  {
   "cell_type": "code",
   "execution_count": 8,
   "metadata": {},
   "outputs": [
    {
     "name": "stdout",
     "output_type": "stream",
     "text": [
      "Year data shape:  (6799, 2)\n",
      "Number of unique items in year_df:  6799\n",
      "Number of unique years:  93\n",
      "\n",
      "Statistics of year data: \n"
     ]
    },
    {
     "data": {
      "text/plain": [
       "count    6799.000000\n",
       "mean     1992.174732\n",
       "std        19.052568\n",
       "min      1922.000000\n",
       "25%      1985.000000\n",
       "50%      1999.000000\n",
       "75%      2006.000000\n",
       "max      2014.000000\n",
       "Name: year, dtype: float64"
      ]
     },
     "execution_count": 8,
     "metadata": {},
     "output_type": "execute_result"
    }
   ],
   "source": [
    "print (\"Year data shape: \", year_data.shape)\n",
    "print(\"Number of unique items in year_df: \", year_data['item'].nunique())\n",
    "print(\"Number of unique years: \", year_data['year'].nunique())\n",
    "print (\"\\nStatistics of year data: \")\n",
    "year_data['year'].describe()"
   ]
  },
  {
   "cell_type": "code",
   "execution_count": 9,
   "metadata": {},
   "outputs": [
    {
     "name": "stdout",
     "output_type": "stream",
     "text": [
      "<class 'pandas.core.frame.DataFrame'>\n",
      "RangeIndex: 11306 entries, 0 to 11305\n",
      "Data columns (total 2 columns):\n",
      " #   Column  Non-Null Count  Dtype \n",
      "---  ------  --------------  ----- \n",
      " 0   item    11306 non-null  int64 \n",
      " 1   writer  11306 non-null  object\n",
      "dtypes: int64(1), object(1)\n",
      "memory usage: 176.8+ KB\n"
     ]
    },
    {
     "data": {
      "text/html": [
       "<div>\n",
       "<style scoped>\n",
       "    .dataframe tbody tr th:only-of-type {\n",
       "        vertical-align: middle;\n",
       "    }\n",
       "\n",
       "    .dataframe tbody tr th {\n",
       "        vertical-align: top;\n",
       "    }\n",
       "\n",
       "    .dataframe thead th {\n",
       "        text-align: right;\n",
       "    }\n",
       "</style>\n",
       "<table border=\"1\" class=\"dataframe\">\n",
       "  <thead>\n",
       "    <tr style=\"text-align: right;\">\n",
       "      <th></th>\n",
       "      <th>item</th>\n",
       "      <th>writer</th>\n",
       "    </tr>\n",
       "  </thead>\n",
       "  <tbody>\n",
       "    <tr>\n",
       "      <th>0</th>\n",
       "      <td>1237</td>\n",
       "      <td>nm0000005</td>\n",
       "    </tr>\n",
       "    <tr>\n",
       "      <th>1</th>\n",
       "      <td>5147</td>\n",
       "      <td>nm0000005</td>\n",
       "    </tr>\n",
       "  </tbody>\n",
       "</table>\n",
       "</div>"
      ],
      "text/plain": [
       "   item     writer\n",
       "0  1237  nm0000005\n",
       "1  5147  nm0000005"
      ]
     },
     "execution_count": 9,
     "metadata": {},
     "output_type": "execute_result"
    }
   ],
   "source": [
    "writer_data.info()\n",
    "writer_data.head(2)"
   ]
  },
  {
   "cell_type": "code",
   "execution_count": 10,
   "metadata": {},
   "outputs": [
    {
     "name": "stdout",
     "output_type": "stream",
     "text": [
      "<class 'pandas.core.frame.DataFrame'>\n",
      "RangeIndex: 6807 entries, 0 to 6806\n",
      "Data columns (total 2 columns):\n",
      " #   Column  Non-Null Count  Dtype \n",
      "---  ------  --------------  ----- \n",
      " 0   item    6807 non-null   int64 \n",
      " 1   title   6807 non-null   object\n",
      "dtypes: int64(1), object(1)\n",
      "memory usage: 106.5+ KB\n"
     ]
    },
    {
     "data": {
      "text/html": [
       "<div>\n",
       "<style scoped>\n",
       "    .dataframe tbody tr th:only-of-type {\n",
       "        vertical-align: middle;\n",
       "    }\n",
       "\n",
       "    .dataframe tbody tr th {\n",
       "        vertical-align: top;\n",
       "    }\n",
       "\n",
       "    .dataframe thead th {\n",
       "        text-align: right;\n",
       "    }\n",
       "</style>\n",
       "<table border=\"1\" class=\"dataframe\">\n",
       "  <thead>\n",
       "    <tr style=\"text-align: right;\">\n",
       "      <th></th>\n",
       "      <th>item</th>\n",
       "      <th>title</th>\n",
       "    </tr>\n",
       "  </thead>\n",
       "  <tbody>\n",
       "    <tr>\n",
       "      <th>0</th>\n",
       "      <td>318</td>\n",
       "      <td>Shawshank Redemption, The (1994)</td>\n",
       "    </tr>\n",
       "    <tr>\n",
       "      <th>1</th>\n",
       "      <td>2571</td>\n",
       "      <td>Matrix, The (1999)</td>\n",
       "    </tr>\n",
       "    <tr>\n",
       "      <th>2</th>\n",
       "      <td>2959</td>\n",
       "      <td>Fight Club (1999)</td>\n",
       "    </tr>\n",
       "    <tr>\n",
       "      <th>3</th>\n",
       "      <td>296</td>\n",
       "      <td>Pulp Fiction (1994)</td>\n",
       "    </tr>\n",
       "    <tr>\n",
       "      <th>4</th>\n",
       "      <td>356</td>\n",
       "      <td>Forrest Gump (1994)</td>\n",
       "    </tr>\n",
       "  </tbody>\n",
       "</table>\n",
       "</div>"
      ],
      "text/plain": [
       "   item                             title\n",
       "0   318  Shawshank Redemption, The (1994)\n",
       "1  2571                Matrix, The (1999)\n",
       "2  2959                 Fight Club (1999)\n",
       "3   296               Pulp Fiction (1994)\n",
       "4   356               Forrest Gump (1994)"
      ]
     },
     "execution_count": 10,
     "metadata": {},
     "output_type": "execute_result"
    }
   ],
   "source": [
    "title_data.info()\n",
    "title_data.head(5)"
   ]
  },
  {
   "cell_type": "code",
   "execution_count": 11,
   "metadata": {},
   "outputs": [
    {
     "name": "stdout",
     "output_type": "stream",
     "text": [
      "<class 'pandas.core.frame.DataFrame'>\n",
      "RangeIndex: 15933 entries, 0 to 15932\n",
      "Data columns (total 2 columns):\n",
      " #   Column  Non-Null Count  Dtype \n",
      "---  ------  --------------  ----- \n",
      " 0   item    15933 non-null  int64 \n",
      " 1   genre   15933 non-null  object\n",
      "dtypes: int64(1), object(1)\n",
      "memory usage: 249.1+ KB\n"
     ]
    },
    {
     "data": {
      "text/html": [
       "<div>\n",
       "<style scoped>\n",
       "    .dataframe tbody tr th:only-of-type {\n",
       "        vertical-align: middle;\n",
       "    }\n",
       "\n",
       "    .dataframe tbody tr th {\n",
       "        vertical-align: top;\n",
       "    }\n",
       "\n",
       "    .dataframe thead th {\n",
       "        text-align: right;\n",
       "    }\n",
       "</style>\n",
       "<table border=\"1\" class=\"dataframe\">\n",
       "  <thead>\n",
       "    <tr style=\"text-align: right;\">\n",
       "      <th></th>\n",
       "      <th>item</th>\n",
       "      <th>genre</th>\n",
       "    </tr>\n",
       "  </thead>\n",
       "  <tbody>\n",
       "    <tr>\n",
       "      <th>0</th>\n",
       "      <td>318</td>\n",
       "      <td>Crime</td>\n",
       "    </tr>\n",
       "    <tr>\n",
       "      <th>1</th>\n",
       "      <td>318</td>\n",
       "      <td>Drama</td>\n",
       "    </tr>\n",
       "    <tr>\n",
       "      <th>2</th>\n",
       "      <td>2571</td>\n",
       "      <td>Action</td>\n",
       "    </tr>\n",
       "    <tr>\n",
       "      <th>3</th>\n",
       "      <td>2571</td>\n",
       "      <td>Sci-Fi</td>\n",
       "    </tr>\n",
       "    <tr>\n",
       "      <th>4</th>\n",
       "      <td>2571</td>\n",
       "      <td>Thriller</td>\n",
       "    </tr>\n",
       "  </tbody>\n",
       "</table>\n",
       "</div>"
      ],
      "text/plain": [
       "   item     genre\n",
       "0   318     Crime\n",
       "1   318     Drama\n",
       "2  2571    Action\n",
       "3  2571    Sci-Fi\n",
       "4  2571  Thriller"
      ]
     },
     "execution_count": 11,
     "metadata": {},
     "output_type": "execute_result"
    }
   ],
   "source": [
    "genre_data.info()\n",
    "genre_data.head(5)"
   ]
  },
  {
   "cell_type": "code",
   "execution_count": 12,
   "metadata": {},
   "outputs": [
    {
     "name": "stdout",
     "output_type": "stream",
     "text": [
      "<class 'pandas.core.frame.DataFrame'>\n",
      "RangeIndex: 5905 entries, 0 to 5904\n",
      "Data columns (total 2 columns):\n",
      " #   Column    Non-Null Count  Dtype \n",
      "---  ------    --------------  ----- \n",
      " 0   item      5905 non-null   int64 \n",
      " 1   director  5905 non-null   object\n",
      "dtypes: int64(1), object(1)\n",
      "memory usage: 92.4+ KB\n"
     ]
    },
    {
     "data": {
      "text/html": [
       "<div>\n",
       "<style scoped>\n",
       "    .dataframe tbody tr th:only-of-type {\n",
       "        vertical-align: middle;\n",
       "    }\n",
       "\n",
       "    .dataframe tbody tr th {\n",
       "        vertical-align: top;\n",
       "    }\n",
       "\n",
       "    .dataframe thead th {\n",
       "        text-align: right;\n",
       "    }\n",
       "</style>\n",
       "<table border=\"1\" class=\"dataframe\">\n",
       "  <thead>\n",
       "    <tr style=\"text-align: right;\">\n",
       "      <th></th>\n",
       "      <th>item</th>\n",
       "      <th>director</th>\n",
       "    </tr>\n",
       "  </thead>\n",
       "  <tbody>\n",
       "    <tr>\n",
       "      <th>0</th>\n",
       "      <td>1237</td>\n",
       "      <td>nm0000005</td>\n",
       "    </tr>\n",
       "    <tr>\n",
       "      <th>1</th>\n",
       "      <td>5147</td>\n",
       "      <td>nm0000005</td>\n",
       "    </tr>\n",
       "    <tr>\n",
       "      <th>2</th>\n",
       "      <td>7327</td>\n",
       "      <td>nm0000005</td>\n",
       "    </tr>\n",
       "    <tr>\n",
       "      <th>3</th>\n",
       "      <td>2068</td>\n",
       "      <td>nm0000005</td>\n",
       "    </tr>\n",
       "    <tr>\n",
       "      <th>4</th>\n",
       "      <td>7396</td>\n",
       "      <td>nm0000005</td>\n",
       "    </tr>\n",
       "  </tbody>\n",
       "</table>\n",
       "</div>"
      ],
      "text/plain": [
       "   item   director\n",
       "0  1237  nm0000005\n",
       "1  5147  nm0000005\n",
       "2  7327  nm0000005\n",
       "3  2068  nm0000005\n",
       "4  7396  nm0000005"
      ]
     },
     "execution_count": 12,
     "metadata": {},
     "output_type": "execute_result"
    }
   ],
   "source": [
    "director_data.info()\n",
    "director_data.head(5)"
   ]
  },
  {
   "cell_type": "code",
   "execution_count": 13,
   "metadata": {},
   "outputs": [
    {
     "name": "stdout",
     "output_type": "stream",
     "text": [
      "active user ids:  Int64Index([8405, 54465, 24219, 32514, 91349, 131904, 34576, 99754, 31122,\n",
      "            118754],\n",
      "           dtype='int64', name='user')\n",
      "\n",
      "popular movie ids:  Int64Index([2571, 2959, 296, 318, 356, 4993, 7153, 5952, 593, 2858], dtype='int64', name='item')\n"
     ]
    }
   ],
   "source": [
    "active_user_ids = train_df.value_counts('user').index[:10]\n",
    "popular_movie_ids = train_df.value_counts('item').index[:10]\n",
    "\n",
    "print (\"active user ids: \", active_user_ids)\n",
    "print (\"\\npopular movie ids: \", popular_movie_ids)"
   ]
  },
  {
   "cell_type": "code",
   "execution_count": 14,
   "metadata": {},
   "outputs": [
    {
     "name": "stdout",
     "output_type": "stream",
     "text": [
      "Number of all unique director ids:  1340\n",
      "\n",
      "top 10 director ids: \n",
      " Index(['nm0000229', 'nm0000233', 'nm0634240', 'nm0000709', 'nm0001392',\n",
      "       'nm0000217', 'nm0001054', 'nm0000116', 'nm0000399', 'nm0000631'],\n",
      "      dtype='object', name='director')\n",
      "\n",
      "sample of top 10 user-director data: \n",
      "            user   item        time   director\n",
      "4325222   31536  62374  1362663584  nm0000631\n",
      "424369    36948   1097  1135979125  nm0000229\n",
      "557806   135597   1240  1281565390  nm0000116\n",
      "1327159   27778  33794  1237786605  nm0634240\n",
      "1552030  135152   7153  1236276386  nm0001392\n",
      "\n",
      "shape of the data:  (672019, 4)\n"
     ]
    }
   ],
   "source": [
    "director_df = pd.merge(train_df, director_data, on=['item'])\n",
    "director_id = director_df.value_counts('director').index[:10]\n",
    "\n",
    "side_df = []\n",
    "for director in director_id:\n",
    "    side_df.append(director_df.loc[director_df['director'] == director])\n",
    "\n",
    "director_top = pd.concat(side_df)\n",
    "\n",
    "print (\"Number of all unique director ids: \", director_df['director'].nunique())\n",
    "print (\"\\ntop 10 director ids: \\n\", director_id)\n",
    "print (\"\\nsample of top 10 user-director data: \\n\", director_top.sample(5))\n",
    "print (\"\\nshape of the data: \", director_top.shape)"
   ]
  },
  {
   "cell_type": "code",
   "execution_count": 15,
   "metadata": {},
   "outputs": [
    {
     "name": "stdout",
     "output_type": "stream",
     "text": [
      "Number of all unique writer ids:  2989\n",
      "\n",
      "top 10 writer ids: \n",
      " Index(['nm0000184', 'nm0000233', 'nm0634240', 'nm0001392', 'nm0909638',\n",
      "       'nm0004056', 'nm0744429', 'nm0101991', 'nm0254645', 'nm0000175'],\n",
      "      dtype='object', name='writer')\n",
      "\n",
      "sample of top 10 user-writer data: \n",
      "            user   item        time     writer\n",
      "2103310  114720    296  1252273296  nm0000233\n",
      "1947756   47866  45722  1238887924  nm0744429\n",
      "2991854  135411   5952  1319480498  nm0101991\n",
      "3745800   75786   4226  1304769307  nm0634240\n",
      "2867175   90295   4306  1174372563  nm0254645\n",
      "\n",
      "shape of the data:  (651286, 4)\n"
     ]
    }
   ],
   "source": [
    "writer_df = pd.merge(train_df, writer_data, on=['item'])\n",
    "writer_id = writer_df.value_counts('writer').index[:10]\n",
    "\n",
    "side_df = []\n",
    "for writer in writer_id:\n",
    "    side_df.append(writer_df.loc[writer_df['writer'] == writer])\n",
    "\n",
    "writer_top = pd.concat(side_df)\n",
    "\n",
    "print (\"Number of all unique writer ids: \", writer_df['writer'].nunique())\n",
    "print (\"\\ntop 10 writer ids: \\n\", writer_id)\n",
    "print (\"\\nsample of top 10 user-writer data: \\n\", writer_top.sample(5))\n",
    "print (\"\\nshape of the data: \", writer_top.shape)"
   ]
  },
  {
   "cell_type": "code",
   "execution_count": 16,
   "metadata": {},
   "outputs": [
    {
     "name": "stdout",
     "output_type": "stream",
     "text": [
      "Number of all unique movie titles:  6806\n",
      "\n",
      "top 10 movie titles: \n",
      " Index(['Matrix, The (1999)', 'Fight Club (1999)', 'Pulp Fiction (1994)',\n",
      "       'Shawshank Redemption, The (1994)', 'Forrest Gump (1994)',\n",
      "       'Lord of the Rings: The Fellowship of the Ring, The (2001)',\n",
      "       'Lord of the Rings: The Return of the King, The (2003)',\n",
      "       'Lord of the Rings: The Two Towers, The (2002)',\n",
      "       'Silence of the Lambs, The (1991)', 'American Beauty (1999)'],\n",
      "      dtype='object', name='title')\n",
      "\n",
      "sample of top 10 user-title data: \n",
      "            user  item        time  \\\n",
      "874845    63773   593  1237667097   \n",
      "845650   103668   296  1151964729   \n",
      "122008   131429  2858  1242601192   \n",
      "114133    60265  2858  1194566944   \n",
      "1075564   45026  5952  1271907980   \n",
      "\n",
      "                                                 title  \n",
      "874845                Silence of the Lambs, The (1991)  \n",
      "845650                             Pulp Fiction (1994)  \n",
      "122008                          American Beauty (1999)  \n",
      "114133                          American Beauty (1999)  \n",
      "1075564  Lord of the Rings: The Two Towers, The (2002)  \n",
      "\n",
      "shape of the data:  (173185, 4)\n"
     ]
    }
   ],
   "source": [
    "title_df = pd.merge(train_df, title_data, on=['item'])\n",
    "title_id = title_df.value_counts('title').index[:10]\n",
    "\n",
    "\n",
    "side_df = []\n",
    "for title in title_id:\n",
    "    side_df.append(title_df.loc[title_df['title'] == title])\n",
    "\n",
    "title_top = pd.concat(side_df)\n",
    "\n",
    "print (\"Number of all unique movie titles: \", title_df['title'].nunique())\n",
    "print (\"\\ntop 10 movie titles: \\n\", title_id)\n",
    "print (\"\\nsample of top 10 user-title data: \\n\", title_top.sample(5))\n",
    "print (\"\\nshape of the data: \", title_top.shape)"
   ]
  },
  {
   "cell_type": "code",
   "execution_count": 17,
   "metadata": {},
   "outputs": [
    {
     "name": "stdout",
     "output_type": "stream",
     "text": [
      "All unique years: \n",
      " [1922 1923 1924 1925 1926 1927 1928 1929 1930 1931 1932 1933 1934 1935\n",
      " 1936 1937 1938 1939 1940 1941 1942 1943 1944 1945 1946 1947 1948 1949\n",
      " 1950 1951 1952 1953 1954 1955 1956 1957 1958 1959 1960 1961 1962 1963\n",
      " 1964 1965 1966 1967 1968 1969 1970 1971 1972 1973 1974 1975 1976 1977\n",
      " 1978 1979 1980 1981 1982 1983 1984 1985 1986 1987 1988 1989 1990 1991\n",
      " 1992 1993 1994 1995 1996 1997 1998 1999 2000 2001 2002 2003 2004 2005\n",
      " 2006 2007 2008 2009 2010 2011 2012 2013 2014]\n",
      "\n",
      "Number of all unique years:  93\n",
      "\n",
      "top 10 years: \n",
      " Int64Index([2004, 1999, 2001, 2002, 2006, 2003, 2000, 2005, 1995, 2007], dtype='int64', name='year')\n",
      "\n",
      "sample of top 10 user-year data: \n",
      "            user   item        time  year\n",
      "589659    47701   4993  1379016878  2001\n",
      "695842    13462   5669  1160511328  2002\n",
      "2356993   35458  36529  1283978434  2005\n",
      "1202788   53753  33166  1262129415  2004\n",
      "1381090  115921   7153  1394035680  2003\n",
      "\n",
      "shape of the data:  (2173226, 4)\n"
     ]
    }
   ],
   "source": [
    "year_df = pd.merge(train_df, year_data, on=['item'])\n",
    "year_id = year_df.value_counts('year').index[:10]\n",
    "\n",
    "side_df = []\n",
    "for year in year_id:\n",
    "    side_df.append(year_df.loc[year_df['year'] == year])\n",
    "\n",
    "year_top = pd.concat(side_df)\n",
    "\n",
    "print (\"All unique years: \\n\", np.sort(year_df['year'].unique())) \n",
    "print (\"\\nNumber of all unique years: \", year_df['year'].nunique())\n",
    "print (\"\\ntop 10 years: \\n\", year_id)\n",
    "print (\"\\nsample of top 10 user-year data: \\n\", year_top.sample(5))\n",
    "print (\"\\nshape of the data: \", year_top.shape)"
   ]
  },
  {
   "cell_type": "code",
   "execution_count": 18,
   "metadata": {},
   "outputs": [
    {
     "name": "stdout",
     "output_type": "stream",
     "text": [
      "All unique genres: \n",
      " ['Action' 'Adventure' 'Animation' 'Children' 'Comedy' 'Crime'\n",
      " 'Documentary' 'Drama' 'Fantasy' 'Film-Noir' 'Horror' 'Musical' 'Mystery'\n",
      " 'Romance' 'Sci-Fi' 'Thriller' 'War' 'Western']\n",
      "\n",
      "Number of all unique genres:  18\n",
      "\n",
      "sample of user-genre data: \n",
      "             user   item        time      genre\n",
      "11666467   77826   5670  1199090195     Comedy\n",
      "2739571    32198    593  1139456097      Crime\n",
      "4043000    20961    527  1265958141      Drama\n",
      "6249745    79497  59369  1233377779      Drama\n",
      "13721083  120350  48414  1166558526  Adventure\n",
      "\n",
      "shape of the data:  (14126324, 4)\n"
     ]
    }
   ],
   "source": [
    "genre_df = pd.merge(train_df, genre_data, on=['item'])\n",
    "\n",
    "genre_top = genre_df\n",
    "\n",
    "print (\"All unique genres: \\n\", np.sort(genre_df['genre'].unique())) \n",
    "print (\"\\nNumber of all unique genres: \", genre_df['genre'].nunique())\n",
    "print (\"\\nsample of user-genre data: \\n\", genre_top.sample(5))\n",
    "print (\"\\nshape of the data: \", genre_top.shape)"
   ]
  },
  {
   "cell_type": "code",
   "execution_count": 19,
   "metadata": {},
   "outputs": [],
   "source": [
    "import matplotlib.pyplot as plt"
   ]
  },
  {
   "cell_type": "code",
   "execution_count": 20,
   "metadata": {},
   "outputs": [
    {
     "data": {
      "text/plain": [
       "<function matplotlib.pyplot.show(close=None, block=None)>"
      ]
     },
     "execution_count": 20,
     "metadata": {},
     "output_type": "execute_result"
    },
    {
     "data": {
      "image/png": "[encoded data removed]",
      "text/plain": [
       "<Figure size 576x504 with 1 Axes>"
      ]
     },
     "metadata": {
      "needs_background": "light"
     },
     "output_type": "display_data"
    }
   ],
   "source": [
    "genre_top['genre'].value_counts().plot(kind = 'bar', figsize = (8,7))\n",
    "plt.xlabel('genre')\n",
    "plt.ylabel('# of users')\n",
    "plt.title('Visualization of genre distribution over all training data')\n",
    "plt.show"
   ]
  },
  {
   "cell_type": "code",
   "execution_count": 21,
   "metadata": {},
   "outputs": [
    {
     "data": {
      "image/png": "[encoded data removed]",
      "text/plain": [
       "<Figure size 432x288 with 2 Axes>"
      ]
     },
     "metadata": {
      "needs_background": "light"
     },
     "output_type": "display_data"
    }
   ],
   "source": [
    "plt.subplot(2,1,1)\n",
    "genre_data['genre'].value_counts().plot(kind = 'bar')\n",
    "plt.xlabel('genre')\n",
    "plt.ylabel('# of users')\n",
    "plt.title('Visualization of genre distribution over all movies')\n",
    "\n",
    "plt.subplot(2,1,2)\n",
    "genre_top['genre'].value_counts().plot(kind = 'bar')\n",
    "plt.xlabel('genre')\n",
    "plt.ylabel('# of users')\n",
    "plt.title('Visualization of genre distribution over all training data')\n",
    "\n",
    "plt.subplots_adjust(hspace=2.0, top=1.0)"
   ]
  },
  {
   "cell_type": "code",
   "execution_count": 22,
   "metadata": {},
   "outputs": [
    {
     "data": {
      "text/plain": [
       "<AxesSubplot:>"
      ]
     },
     "execution_count": 22,
     "metadata": {},
     "output_type": "execute_result"
    },
    {
     "data": {
      "image/png": "[encoded data removed]",
      "text/plain": [
       "<Figure size 576x504 with 1 Axes>"
      ]
     },
     "metadata": {
      "needs_background": "light"
     },
     "output_type": "display_data"
    }
   ],
   "source": [
    "user_id = active_user_ids[0] # specific user id\n",
    "genre_user = genre_top[genre_top['user'] == user_id]\n",
    "\n",
    "genre_user['genre'].value_counts().plot(kind = 'bar', figsize = (8,7))"
   ]
  },
  {
   "cell_type": "code",
   "execution_count": 23,
   "metadata": {},
   "outputs": [
    {
     "name": "stdout",
     "output_type": "stream",
     "text": [
      "initial unix-based timestamp: 1230782529\n",
      "converted time: 2009-01-01 04:02:09\n"
     ]
    }
   ],
   "source": [
    "import time\n",
    "unix_time = 1230782529 # some random timestamp from dataset\n",
    "converted_time = time.strftime('%Y-%m-%d %H:%M:%S', time.localtime(unix_time))\n",
    "\n",
    "print (\"initial unix-based timestamp: %s\\nconverted time: %s\"%(unix_time, converted_time))"
   ]
  },
  {
   "cell_type": "code",
   "execution_count": 26,
   "metadata": {},
   "outputs": [
    {
     "name": "stderr",
     "output_type": "stream",
     "text": [
      "<ipython-input-26-4ccdfdc10f71>:6: SettingWithCopyWarning: \n",
      "A value is trying to be set on a copy of a slice from a DataFrame.\n",
      "Try using .loc[row_indexer,col_indexer] = value instead\n",
      "\n",
      "See the caveats in the documentation: https://pandas.pydata.org/pandas-docs/stable/user_guide/indexing.html#returning-a-view-versus-a-copy\n",
      "  converted_df['time'] = old_df['time'].replace([old_time], new_time) # replace the time column\n"
     ]
    },
    {
     "data": {
      "text/plain": [
       "Text(0.5, 1.0, 'Statistics of user activity')"
      ]
     },
     "execution_count": 26,
     "metadata": {},
     "output_type": "execute_result"
    },
    {
     "data": {
      "image/png": "[encoded data removed]",
      "text/plain": [
       "<Figure size 576x504 with 1 Axes>"
      ]
     },
     "metadata": {
      "needs_background": "light"
     },
     "output_type": "display_data"
    }
   ],
   "source": [
    "old_df = train_df[train_df['user'] == active_user_ids[0]] # Specific user id\n",
    "converted_df = old_df\n",
    "\n",
    "for old_time in old_df['time']:\n",
    "    new_time = time.strftime('%Y-%m', time.localtime(old_time))\n",
    "    converted_df['time'] = old_df['time'].replace([old_time], new_time) # replace the time column\n",
    "\n",
    "converted_df['time'].value_counts().plot(kind = 'bar', figsize = (8,7))\n",
    "plt.xlabel('year-month')\n",
    "plt.ylabel('# of movies')\n",
    "plt.title('Statistics of user activity')"
   ]
  },
  {
   "cell_type": "code",
   "execution_count": 27,
   "metadata": {},
   "outputs": [
    {
     "name": "stderr",
     "output_type": "stream",
     "text": [
      "<ipython-input-27-de5d94b4ff86>:6: SettingWithCopyWarning: \n",
      "A value is trying to be set on a copy of a slice from a DataFrame.\n",
      "Try using .loc[row_indexer,col_indexer] = value instead\n",
      "\n",
      "See the caveats in the documentation: https://pandas.pydata.org/pandas-docs/stable/user_guide/indexing.html#returning-a-view-versus-a-copy\n",
      "  converted_df['time'] = old_df['time'].replace([old_time], new_time) # replace the time column\n"
     ]
    },
    {
     "data": {
      "text/plain": [
       "Text(0.5, 1.0, 'Statistics of user activity')"
      ]
     },
     "execution_count": 27,
     "metadata": {},
     "output_type": "execute_result"
    },
    {
     "data": {
      "image/png": "[encoded data removed]",
      "text/plain": [
       "<Figure size 576x504 with 1 Axes>"
      ]
     },
     "metadata": {
      "needs_background": "light"
     },
     "output_type": "display_data"
    }
   ],
   "source": [
    "old_df = train_df[train_df['user'] == active_user_ids[0]] # Specific user id\n",
    "converted_df = old_df\n",
    "\n",
    "for old_time in old_df['time']:\n",
    "    new_time = time.strftime('%Y-%m-%d', time.localtime(old_time))\n",
    "    converted_df['time'] = old_df['time'].replace([old_time], new_time) # replace the time column\n",
    "\n",
    "converted_df['time'].value_counts().plot(kind = 'bar', figsize = (8,7))\n",
    "plt.xlabel('year-month')\n",
    "plt.ylabel('# of movies')\n",
    "plt.title('Statistics of user activity')"
   ]
  }
 ],
 "metadata": {
  "interpreter": {
   "hash": "8bff0657a98b8ee576cbe89028f6a544b770fee234379978e147d89ef60d92ed"
  },
  "kernelspec": {
   "display_name": "Python 3.8.5 ('torch')",
   "language": "python",
   "name": "python3"
  },
  "language_info": {
   "codemirror_mode": {
    "name": "ipython",
    "version": 3
   },
   "file_extension": ".py",
   "mimetype": "text/x-python",
   "name": "python",
   "nbconvert_exporter": "python",
   "pygments_lexer": "ipython3",
   "version": "3.8.5"
  },
  "orig_nbformat": 4
 },
 "nbformat": 4,
 "nbformat_minor": 2
}
